{
 "cells": [
  {
   "cell_type": "markdown",
   "metadata": {
    "id": "v0to-QXCQjsm"
   },
   "source": [
    "# Retrieval Enhanced Generative Question Answering with OpenAI\n",
    "\n",
    "Welcome to the era of A.I. where technologies like chatgpt and bard are shaping the future. But even these technologies are prone to errors when faced with complex problems. We will se how we can enhance LLMs to get better answers for a particular field we are interested in.\n",
    "\n",
    "We will do this with the help of a powerful tool Qdrant. The process will be divided in three steps broadly:\n",
    "- 1: First We will use qdrant to store relevant data of the field we want to use our LLM for. The data will be converted to vector representation and then stored in qdrant.\n",
    "- 2: After storing our data we can query it to find the most relevant information for the query.\n",
    "- 3: Then we will pass this extra piece of information to the generative OpenAi model with our query, after which it will be able to answer it in a much more accurate way.\n",
    "\n",
    "Let's start:"
   ]
  },
  {
   "cell_type": "markdown",
   "metadata": {},
   "source": [
    "## Install Dependencies\n",
    "Let's get started by installing the packages needed for notebook to run:"
   ]
  },
  {
   "cell_type": "code",
   "execution_count": 1,
   "metadata": {
    "colab": {
     "base_uri": "https://localhost:8080/"
    },
    "id": "VpMvHAYRQf9N",
    "outputId": "f2b1a704-1b38-4985-f5cf-be0479f2ac31",
    "tags": []
   },
   "outputs": [],
   "source": [
    "!pip install -qU openai==0.27.8 qdrant-client==1.3.1 datasets==2.13.1 tqdm==4.65.0"
   ]
  },
  {
   "cell_type": "markdown",
   "metadata": {},
   "source": [
    "## Import libraries"
   ]
  },
  {
   "cell_type": "code",
   "execution_count": 2,
   "metadata": {
    "tags": []
   },
   "outputs": [
    {
     "name": "stderr",
     "output_type": "stream",
     "text": [
      "C:\\Users\\karti\\AppData\\Local\\Programs\\Python\\Python311\\Lib\\site-packages\\numpy\\_distributor_init.py:30: UserWarning: loaded more than 1 DLL from .libs:\n",
      "C:\\Users\\karti\\AppData\\Local\\Programs\\Python\\Python311\\Lib\\site-packages\\numpy\\.libs\\libopenblas.FB5AE2TYXYH2IJRDKGDGQ3XBKLKTF43H.gfortran-win_amd64.dll\n",
      "C:\\Users\\karti\\AppData\\Local\\Programs\\Python\\Python311\\Lib\\site-packages\\numpy\\.libs\\libopenblas64__v0.3.21-gcc_10_3_0.dll\n",
      "  warnings.warn(\"loaded more than 1 DLL from .libs:\"\n"
     ]
    }
   ],
   "source": [
    "import os\n",
    "import openai\n",
    "from datasets import load_dataset\n",
    "from tqdm.auto import tqdm\n",
    "from qdrant_client import QdrantClient\n",
    "from qdrant_client.http import models\n",
    "from pathlib import Path\n",
    "from IPython.display import Latex\n",
    "from tqdm.auto import tqdm\n",
    "from time import sleep"
   ]
  },
  {
   "cell_type": "markdown",
   "metadata": {},
   "source": [
    "## Initialize connection to OpenAi"
   ]
  },
  {
   "cell_type": "code",
   "execution_count": 4,
   "metadata": {
    "id": "aEreHNxYkDbK",
    "tags": []
   },
   "outputs": [
    {
     "data": {
      "text/plain": [
       "openai.api_resources.engine.Engine"
      ]
     },
     "execution_count": 4,
     "metadata": {},
     "output_type": "execute_result"
    }
   ],
   "source": [
    "# get API key from top-right dropdown on OpenAI website\n",
    "openai.api_key = os.getenv(\"OPENAI_API_KEY\") or \"OPENAI_API_KEY\"\n",
    "openai.Engine  # check we have authenticated"
   ]
  },
  {
   "cell_type": "markdown",
   "metadata": {
    "id": "seS2VDFz0BCI"
   },
   "source": [
    "As we know majority of the questions we pose to OpenAi generative model will be answered correctly."
   ]
  },
  {
   "cell_type": "code",
   "execution_count": 14,
   "metadata": {
    "colab": {
     "base_uri": "https://localhost:8080/",
     "height": 35
    },
    "id": "9FEDn7LvkDYj",
    "outputId": "dea469a8-55ab-491f-f645-356e86d361ac",
    "tags": []
   },
   "outputs": [
    {
     "data": {
      "text/plain": [
       "'The unit of measurement of sound is the decibel (dB).'"
      ]
     },
     "execution_count": 14,
     "metadata": {},
     "output_type": "execute_result"
    }
   ],
   "source": [
    "query = \"what is the unit of measurement of sound?\"\n",
    "\n",
    "# now query gpt-3.5-turbo WITHOUT context\n",
    "res = openai.ChatCompletion.create(\n",
    "    model=\"gpt-3.5-turbo\",\n",
    "    messages=[{\"role\": \"user\", \"content\": query}],\n",
    "    temperature=0,\n",
    "    max_tokens=400,\n",
    "    top_p=1,\n",
    "    frequency_penalty=0,\n",
    "    presence_penalty=0,\n",
    ")\n",
    "res[\"choices\"][0][\"message\"][\"content\"]"
   ]
  },
  {
   "cell_type": "markdown",
   "metadata": {
    "id": "pfHwX1qSldhY"
   },
   "source": [
    "But if we pose complex problems with dilemmas or even simple problems which are not so common or their answers are not prewritten it can give wrong answers. But first let us write a simple function to do querying."
   ]
  },
  {
   "cell_type": "code",
   "execution_count": 18,
   "metadata": {
    "id": "SczFSfnjmNji",
    "tags": []
   },
   "outputs": [],
   "source": [
    "def complete(prompt):\n",
    "    # query gpt-3.5-turbo\n",
    "    res = openai.ChatCompletion.create(\n",
    "        model=\"gpt-3.5-turbo\",\n",
    "        messages=[{\"role\": \"user\", \"content\": prompt}],\n",
    "        temperature=0,  # controls the creativity and randomness of the output.Higher values (e.g., 0.8) make the output more random.\n",
    "        max_tokens=500,  # maximum number of tokens the model can generate in the response\n",
    "        top_p=1,  # A higher value (e.g., 0.8) will encourage a wider range of possible tokens, leading to more diverse responses\n",
    "        frequency_penalty=0,  # A higher value (e.g., 0.8) makes the model less likely to repeat words\n",
    "        presence_penalty=0,  # A higher value (e.g., 0.8) makes the model more likely to include the keywords from the prompt\n",
    "    )\n",
    "    return res[\"choices\"][0][\"message\"][\"content\"]"
   ]
  },
  {
   "cell_type": "markdown",
   "metadata": {
    "id": "YC6csbA40UW3"
   },
   "source": [
    "Let's try to ask a question from mathematics, not a very complex question but complex enough to get wrong answer from OpenAi model."
   ]
  },
  {
   "cell_type": "code",
   "execution_count": 19,
   "metadata": {
    "colab": {
     "base_uri": "https://localhost:8080/",
     "height": 89
    },
    "id": "H2fUC8BtxCt_",
    "outputId": "01beb42c-1f32-4e08-afc5-127e2dc5597a",
    "tags": []
   },
   "outputs": [
    {
     "data": {
      "text/latex": [
       "Let's call the smaller page number $x$. The next consecutive page number is then $x+1$. We are told that the product of these two numbers is 20022, so we can write the equation $x(x+1) = 20022$. Expanding the left side of the equation, we have $x^2 + x = 20022$. Rearranging the equation, we get $x^2 + x - 20022 = 0$. \n",
       "\n",
       "To solve this quadratic equation, we can either factor it or use the quadratic formula. Since the factors of 20022 are not immediately obvious, let's use the quadratic formula. The quadratic formula states that for an equation of the form $ax^2 + bx + c = 0$, the solutions for $x$ are given by $x = \\frac{-b \\pm \\sqrt{b^2 - 4ac}}{2a}$.\n",
       "\n",
       "In our equation, $a = 1$, $b = 1$, and $c = -20022$. Plugging these values into the quadratic formula, we have $x = \\frac{-1 \\pm \\sqrt{1^2 - 4(1)(-20022)}}{2(1)}$. Simplifying further, we have $x = \\frac{-1 \\pm \\sqrt{1 + 80088}}{2}$. \n",
       "\n",
       "Since we are looking for two consecutive page numbers, we can ignore the negative solution. Taking the positive solution, we have $x = \\frac{-1 + \\sqrt{80089}}{2}$. Evaluating this expression, we find $x \\approx 141.99$. Since $x$ represents a page number, it must be a whole number. Therefore, the smaller page number is 142.\n",
       "\n",
       "The next consecutive page number is $x+1 = 142+1 = 143$. The sum of these two page numbers is $142 + 143 = \\boxed{285}$."
      ],
      "text/plain": [
       "<IPython.core.display.Latex object>"
      ]
     },
     "execution_count": 19,
     "metadata": {},
     "output_type": "execute_result"
    }
   ],
   "source": [
    "query = \"The product of two consecutive page numbers is 20022. What is the sum of the two page numbers?\"\n",
    "Latex(complete(query))  # using Latex to properly display mathematics expressions"
   ]
  },
  {
   "cell_type": "markdown",
   "metadata": {
    "id": "k7ut_DNBwIk1"
   },
   "source": [
    "Some calculation can show the answer is wrong, the correct answer is 283. We will use RAG(retrieval augmented generation) to solve this.\n",
    "Let's see what happens if we provide answer of a similar problem as a reference to our question."
   ]
  },
  {
   "cell_type": "code",
   "execution_count": 20,
   "metadata": {
    "tags": []
   },
   "outputs": [
    {
     "data": {
      "text/latex": [
       "Let the page numbers be $n$ and $n + 1.$ Then, the problem can be modeled by the equation $n(n+1) = 20022.$ We can rewrite the equation as $n^2 + n - 20022=0.$ Now using the quadratic formula, we find that$$n = \f",
       "rac{-1 \\pm \\sqrt{1 + 4\\cdot 20022}}{2}.$$ So, $n = 141.$ Hence, $n + (n + 1) = {141 + 142 = \\boxed{283}}.$"
      ],
      "text/plain": [
       "<IPython.core.display.Latex object>"
      ]
     },
     "execution_count": 20,
     "metadata": {},
     "output_type": "execute_result"
    }
   ],
   "source": [
    "query = (\n",
    "    \"Let the page numbers be $n$ and $n + 1.$ Then, the problem can be modeled by the equation $n(n+1) = 18360.\"\n",
    "    \"$ We can rewrite the equation as $n^2 + n - 18360=0.$ Now using the quadratic formula, we find that\"\n",
    "    \"$$n = \\frac{-1 \\pm \\sqrt{1 + 4\\cdot 18360}}{2}.$$ So, $n = 135.$ Hence, $n + (n + 1) = {271}.\"\n",
    "    \"$ This equation can be factored as well, but that would not save much time. The best way to solve this\"\n",
    "    \"quickly would be to notice that $18360$ falls between $135^2=18225$ and $136^2=18496,$ so since we know\"\n",
    "    \"that $n$ is an integer, we can guess that $n = 135.$ Plugging it back into the equation, we see that it works,\"\n",
    "    \"so $n + (n + 1) = {271}.$\"\n",
    "    \"The product of two consecutive page numbers is 20022. What is the sum of the two page numbers?\"\n",
    ")\n",
    "Latex(complete(query))"
   ]
  },
  {
   "cell_type": "markdown",
   "metadata": {},
   "source": [
    "and we get the correct answer as 283."
   ]
  },
  {
   "cell_type": "markdown",
   "metadata": {
    "id": "NhWnLkHqmeWI"
   },
   "source": [
    "## Initialize Retriever\n",
    "\n",
    "To store our data in qdrant we need to convert the data in vector representations which capture the semantic meaning of our data and later cosine similarity is used to match the query with our data to find the best matching data. There are many options for creating vector embeddings for our data. We will use OpenAi model **ada** to do so."
   ]
  },
  {
   "cell_type": "code",
   "execution_count": 21,
   "metadata": {
    "id": "EI2iYxq16or9",
    "tags": []
   },
   "outputs": [],
   "source": [
    "embed_model = \"text-embedding-ada-002\"\n",
    "\n",
    "res = openai.Embedding.create(\n",
    "    input=[\n",
    "        \"Sample document text goes here\",\n",
    "        \"there will be several phrases in each batch\",\n",
    "    ],\n",
    "    engine=embed_model,\n",
    ")"
   ]
  },
  {
   "cell_type": "markdown",
   "metadata": {
    "id": "ZnHpGP5R60Fv"
   },
   "source": [
    "The `res` we get will be a json like object with the embedding in the `data` field."
   ]
  },
  {
   "cell_type": "code",
   "execution_count": 22,
   "metadata": {
    "colab": {
     "base_uri": "https://localhost:8080/"
    },
    "id": "57smZFmz61tj",
    "outputId": "30745411-1f44-4abb-ac36-20abcfdbb343",
    "tags": []
   },
   "outputs": [
    {
     "data": {
      "text/plain": [
       "dict_keys(['object', 'data', 'model', 'usage'])"
      ]
     },
     "execution_count": 22,
     "metadata": {},
     "output_type": "execute_result"
    }
   ],
   "source": [
    "res.keys()"
   ]
  },
  {
   "cell_type": "markdown",
   "metadata": {
    "id": "MwSk-wiK62KO"
   },
   "source": [
    "We have two records for each sentences. The `text-embedding-ada-002` model's output dimensionality is `1536`."
   ]
  },
  {
   "cell_type": "code",
   "execution_count": 23,
   "metadata": {
    "colab": {
     "base_uri": "https://localhost:8080/"
    },
    "id": "36D4ipOR63AW",
    "outputId": "10a3d6ba-a646-4ebd-d74f-90868d04a6f6",
    "tags": []
   },
   "outputs": [
    {
     "data": {
      "text/plain": [
       "2"
      ]
     },
     "execution_count": 23,
     "metadata": {},
     "output_type": "execute_result"
    }
   ],
   "source": [
    "len(res[\"data\"])"
   ]
  },
  {
   "cell_type": "code",
   "execution_count": 24,
   "metadata": {
    "colab": {
     "base_uri": "https://localhost:8080/"
    },
    "id": "dPyGLhDX62t4",
    "outputId": "f5d38bb2-f863-4d39-c8f6-d75579634ec9",
    "tags": []
   },
   "outputs": [
    {
     "data": {
      "text/plain": [
       "(1536, 1536)"
      ]
     },
     "execution_count": 24,
     "metadata": {},
     "output_type": "execute_result"
    }
   ],
   "source": [
    "len(res[\"data\"][0][\"embedding\"]), len(res[\"data\"][1][\"embedding\"])"
   ]
  },
  {
   "cell_type": "markdown",
   "metadata": {
    "id": "byxj1rgy68k1"
   },
   "source": [
    "### Load Dataset\n",
    "\n",
    "We will use **qwedsacf/competition_math** dataset from hugging face which consists of problems from mathematics competitions, and their full step-by-step solution, which can be used to teach models to generate answer derivations and explanations."
   ]
  },
  {
   "cell_type": "code",
   "execution_count": 25,
   "metadata": {
    "colab": {
     "base_uri": "https://localhost:8080/"
    },
    "id": "t7uzxkGz73Ov",
    "outputId": "995123eb-8f78-44b0-b325-e0ce2284b168",
    "tags": []
   },
   "outputs": [
    {
     "name": "stderr",
     "output_type": "stream",
     "text": [
      "Found cached dataset parquet (C:/Users/karti/.cache/huggingface/datasets/qwedsacf___parquet/qwedsacf--competition_math-7113d5674a916e94/0.0.0/14a00e99c0d15a23649d0db8944380ac81082d4b021f398733dd84f3a6c569a7)\n"
     ]
    },
    {
     "data": {
      "text/html": [
       "<div>\n",
       "<style scoped>\n",
       "    .dataframe tbody tr th:only-of-type {\n",
       "        vertical-align: middle;\n",
       "    }\n",
       "\n",
       "    .dataframe tbody tr th {\n",
       "        vertical-align: top;\n",
       "    }\n",
       "\n",
       "    .dataframe thead th {\n",
       "        text-align: right;\n",
       "    }\n",
       "</style>\n",
       "<table border=\"1\" class=\"dataframe\">\n",
       "  <thead>\n",
       "    <tr style=\"text-align: right;\">\n",
       "      <th></th>\n",
       "      <th>problem</th>\n",
       "      <th>level</th>\n",
       "      <th>type</th>\n",
       "      <th>solution</th>\n",
       "    </tr>\n",
       "  </thead>\n",
       "  <tbody>\n",
       "    <tr>\n",
       "      <th>0</th>\n",
       "      <td>Let \\[f(x) = \\left\\{\\n\\begin{array}{cl} ax+3, ...</td>\n",
       "      <td>Level 5</td>\n",
       "      <td>Algebra</td>\n",
       "      <td>For the piecewise function to be continuous, t...</td>\n",
       "    </tr>\n",
       "    <tr>\n",
       "      <th>1</th>\n",
       "      <td>A rectangular band formation is a formation wi...</td>\n",
       "      <td>Level 5</td>\n",
       "      <td>Algebra</td>\n",
       "      <td>Let $x$ be the number of band members in each ...</td>\n",
       "    </tr>\n",
       "    <tr>\n",
       "      <th>2</th>\n",
       "      <td>What is the degree of the polynomial $(4 +5x^3...</td>\n",
       "      <td>Level 3</td>\n",
       "      <td>Algebra</td>\n",
       "      <td>This polynomial is not written in standard for...</td>\n",
       "    </tr>\n",
       "    <tr>\n",
       "      <th>3</th>\n",
       "      <td>Evaluate $\\left\\lceil3\\left(6-\\frac12\\right)\\r...</td>\n",
       "      <td>Level 3</td>\n",
       "      <td>Algebra</td>\n",
       "      <td>Firstly, $3\\left(6-\\frac12\\right)=18-1-\\frac12...</td>\n",
       "    </tr>\n",
       "    <tr>\n",
       "      <th>4</th>\n",
       "      <td>Sam is hired for a 20-day period. On days that...</td>\n",
       "      <td>Level 3</td>\n",
       "      <td>Algebra</td>\n",
       "      <td>Call $x$ the number of days Sam works and $y$ ...</td>\n",
       "    </tr>\n",
       "  </tbody>\n",
       "</table>\n",
       "</div>"
      ],
      "text/plain": [
       "                                             problem    level     type  \\\n",
       "0  Let \\[f(x) = \\left\\{\\n\\begin{array}{cl} ax+3, ...  Level 5  Algebra   \n",
       "1  A rectangular band formation is a formation wi...  Level 5  Algebra   \n",
       "2  What is the degree of the polynomial $(4 +5x^3...  Level 3  Algebra   \n",
       "3  Evaluate $\\left\\lceil3\\left(6-\\frac12\\right)\\r...  Level 3  Algebra   \n",
       "4  Sam is hired for a 20-day period. On days that...  Level 3  Algebra   \n",
       "\n",
       "                                            solution  \n",
       "0  For the piecewise function to be continuous, t...  \n",
       "1  Let $x$ be the number of band members in each ...  \n",
       "2  This polynomial is not written in standard for...  \n",
       "3  Firstly, $3\\left(6-\\frac12\\right)=18-1-\\frac12...  \n",
       "4  Call $x$ the number of days Sam works and $y$ ...  "
      ]
     },
     "execution_count": 25,
     "metadata": {},
     "output_type": "execute_result"
    }
   ],
   "source": [
    "df = load_dataset(\"qwedsacf/competition_math\", split=\"train\").to_pandas()\n",
    "df.head()"
   ]
  },
  {
   "cell_type": "markdown",
   "metadata": {
    "id": "TWWdWjA273qF"
   },
   "source": [
    "We only need the **problem** and **solution** column from the dataset. We will create vector embeddings of problems and the corresponding solutions will be stored as payload in the qdrant collection which will be used as secondary source of information for our query."
   ]
  },
  {
   "cell_type": "code",
   "execution_count": 26,
   "metadata": {
    "tags": []
   },
   "outputs": [
    {
     "data": {
      "text/html": [
       "<div>\n",
       "<style scoped>\n",
       "    .dataframe tbody tr th:only-of-type {\n",
       "        vertical-align: middle;\n",
       "    }\n",
       "\n",
       "    .dataframe tbody tr th {\n",
       "        vertical-align: top;\n",
       "    }\n",
       "\n",
       "    .dataframe thead th {\n",
       "        text-align: right;\n",
       "    }\n",
       "</style>\n",
       "<table border=\"1\" class=\"dataframe\">\n",
       "  <thead>\n",
       "    <tr style=\"text-align: right;\">\n",
       "      <th></th>\n",
       "      <th>problem</th>\n",
       "      <th>solution</th>\n",
       "    </tr>\n",
       "  </thead>\n",
       "  <tbody>\n",
       "    <tr>\n",
       "      <th>0</th>\n",
       "      <td>Let \\[f(x) = \\left\\{\\n\\begin{array}{cl} ax+3, ...</td>\n",
       "      <td>For the piecewise function to be continuous, t...</td>\n",
       "    </tr>\n",
       "    <tr>\n",
       "      <th>1</th>\n",
       "      <td>A rectangular band formation is a formation wi...</td>\n",
       "      <td>Let $x$ be the number of band members in each ...</td>\n",
       "    </tr>\n",
       "    <tr>\n",
       "      <th>2</th>\n",
       "      <td>What is the degree of the polynomial $(4 +5x^3...</td>\n",
       "      <td>This polynomial is not written in standard for...</td>\n",
       "    </tr>\n",
       "    <tr>\n",
       "      <th>3</th>\n",
       "      <td>Evaluate $\\left\\lceil3\\left(6-\\frac12\\right)\\r...</td>\n",
       "      <td>Firstly, $3\\left(6-\\frac12\\right)=18-1-\\frac12...</td>\n",
       "    </tr>\n",
       "    <tr>\n",
       "      <th>4</th>\n",
       "      <td>Sam is hired for a 20-day period. On days that...</td>\n",
       "      <td>Call $x$ the number of days Sam works and $y$ ...</td>\n",
       "    </tr>\n",
       "  </tbody>\n",
       "</table>\n",
       "</div>"
      ],
      "text/plain": [
       "                                             problem  \\\n",
       "0  Let \\[f(x) = \\left\\{\\n\\begin{array}{cl} ax+3, ...   \n",
       "1  A rectangular band formation is a formation wi...   \n",
       "2  What is the degree of the polynomial $(4 +5x^3...   \n",
       "3  Evaluate $\\left\\lceil3\\left(6-\\frac12\\right)\\r...   \n",
       "4  Sam is hired for a 20-day period. On days that...   \n",
       "\n",
       "                                            solution  \n",
       "0  For the piecewise function to be continuous, t...  \n",
       "1  Let $x$ be the number of band members in each ...  \n",
       "2  This polynomial is not written in standard for...  \n",
       "3  Firstly, $3\\left(6-\\frac12\\right)=18-1-\\frac12...  \n",
       "4  Call $x$ the number of days Sam works and $y$ ...  "
      ]
     },
     "execution_count": 26,
     "metadata": {},
     "output_type": "execute_result"
    }
   ],
   "source": [
    "df = df.drop(columns=[\"level\", \"type\"])  # drop unneccessay columns\n",
    "df = df.replace(\"boxed\", \"\", regex=True)  # remove substring boxed from dataframe\n",
    "df.head()"
   ]
  },
  {
   "cell_type": "markdown",
   "metadata": {},
   "source": [
    "## Initialize Qdrant client"
   ]
  },
  {
   "cell_type": "code",
   "execution_count": 27,
   "metadata": {
    "tags": []
   },
   "outputs": [],
   "source": [
    "# Initialize Qdrant client\n",
    "\n",
    "current_folder = Path.cwd()  # Get the current folder\n",
    "qdrant_folder = current_folder / \"qdrant\"\n",
    "qdrant_folder.mkdir()  # Create qdrant folder to store collection\n",
    "\n",
    "client = QdrantClient(path=qdrant_folder.resolve())  # path to new qdrant folder"
   ]
  },
  {
   "cell_type": "markdown",
   "metadata": {},
   "source": [
    "## Create collection"
   ]
  },
  {
   "cell_type": "code",
   "execution_count": 28,
   "metadata": {
    "colab": {
     "base_uri": "https://localhost:8080/"
    },
    "id": "UPNwQTH0RNcl",
    "outputId": "c5d22baf-0e69-4039-fda0-624ce22cd740",
    "tags": []
   },
   "outputs": [
    {
     "name": "stdout",
     "output_type": "stream",
     "text": [
      "collections=[]\n",
      "collections=[CollectionDescription(name='openai-math-problems')]\n"
     ]
    }
   ],
   "source": [
    "collection_name = \"openai-math-problems\"\n",
    "\n",
    "collections = client.get_collections()\n",
    "print(collections)\n",
    "\n",
    "# only create collection if it doesn't exist\n",
    "if collection_name not in collections:\n",
    "    client.recreate_collection(\n",
    "        collection_name=collection_name,\n",
    "        vectors_config=models.VectorParams(\n",
    "            size=1536,  # specifying dimensionality of vectors output by model\n",
    "            distance=models.Distance.COSINE,  # specifying which metric will be used to check similarity of vectors\n",
    "        ),\n",
    "    )\n",
    "collections = client.get_collections()\n",
    "print(collections)"
   ]
  },
  {
   "cell_type": "markdown",
   "metadata": {
    "tags": []
   },
   "source": [
    "## Generate Embeddings -> Store in Qdrant\n",
    "Now we will generate embeddings for our problems. We will do so in batches which is much faster than doing it individually. And then send a single api call to upsert the batch (also much faster).\n",
    "\n",
    "In qdrant, we need an id (a unique value), embedding (embeddings for the problems), and metadata for each document in the dataset. The metadata is a dictionary containing data relevant to our embeddings."
   ]
  },
  {
   "cell_type": "code",
   "execution_count": 29,
   "metadata": {
    "colab": {
     "base_uri": "https://localhost:8080/",
     "height": 49,
     "referenced_widgets": [
      "bb392ce2d1e047daa1747c4a0f5e89b7",
      "c298c3dc46ed4f2e85e34a9972b3faf4",
      "b335ce0994e045df8a886ca32e3ebb76",
      "b3f2dde1b97c4989b0e6e5ea3365a270",
      "1cbbf96f9b7f46c29ebbd696e5777e82",
      "3172ad39260d41aea64fba5df2c13961",
      "7c20e179ec504d4caed56e17e3f53e02",
      "1a7b9a94c88a4496a24d4e57d4801047",
      "2b2409a6c2024d57b2b6ddb0e76c7068",
      "d26a5434beda435aa5d62c5c11de2bb8",
      "c56384bfac4c4f5596787f04fd76b86c"
     ]
    },
    "id": "vPb9liovzrc8",
    "outputId": "bb69dbce-c140-49af-840f-2c03dd940e2a"
   },
   "outputs": [
    {
     "data": {
      "application/vnd.jupyter.widget-view+json": {
       "model_id": "5d7cd711085343cdaca42c0c8116aff1",
       "version_major": 2,
       "version_minor": 0
      },
      "text/plain": [
       "  0%|          | 0/13 [00:00<?, ?it/s]"
      ]
     },
     "metadata": {},
     "output_type": "display_data"
    },
    {
     "name": "stdout",
     "output_type": "stream",
     "text": [
      "Vector count in collection: 12500\n",
      "CPU times: total: 1min 1s\n",
      "Wall time: 4min 25s\n"
     ]
    }
   ],
   "source": [
    "%%time\n",
    "\n",
    "batch_size = 1024  # specify batch size according to your RAM and compute, higher batch size = more RAM usage\n",
    "\n",
    "for i in tqdm(range(0, len(df), batch_size)):\n",
    "    i_end = min(i + batch_size, len(df))  # find end of batch\n",
    "    batch = df.iloc[i:i_end]  # extract batch\n",
    "    ids = list(range(i, i_end))  # create unique IDs\n",
    "\n",
    "    # create embeddings (try-except added to avoid RateLimitError)\n",
    "    try:\n",
    "        res = openai.Embedding.create(\n",
    "            input=batch[\"problem\"].tolist(), engine=embed_model\n",
    "        )\n",
    "    except:\n",
    "        done = False\n",
    "        while not done:\n",
    "            sleep(5)\n",
    "            try:\n",
    "                res = openai.Embedding.create(\n",
    "                    input=batch[\"problem\"].tolist(), engine=embed_model\n",
    "                )\n",
    "                done = True\n",
    "            except:\n",
    "                pass\n",
    "    embeds = [record[\"embedding\"] for record in res[\"data\"]]\n",
    "\n",
    "    meta = batch.to_dict(orient=\"records\")  # get metadata\n",
    "\n",
    "    # upsert to qdrant\n",
    "    client.upsert(\n",
    "        collection_name=collection_name,\n",
    "        points=models.Batch(ids=ids, vectors=embeds, payloads=meta),\n",
    "    )\n",
    "\n",
    "collection_vector_count = client.get_collection(\n",
    "    collection_name=collection_name\n",
    ").vectors_count\n",
    "print(f\"Vector count in collection: {collection_vector_count}\")\n",
    "assert collection_vector_count == len(df)"
   ]
  },
  {
   "cell_type": "markdown",
   "metadata": {
    "id": "2yiF91IbyGYo"
   },
   "source": [
    "Now we can search after with query vectors:"
   ]
  },
  {
   "cell_type": "code",
   "execution_count": 30,
   "metadata": {
    "id": "LF1U_yZGojRJ"
   },
   "outputs": [],
   "source": [
    "query = \"The product of two consecutive page numbers is 20022. What is the sum of the two page numbers?\"\n",
    "\n",
    "res = openai.Embedding.create(input=[query], engine=embed_model)\n",
    "encoded_query = res[\"data\"][0][\"embedding\"]\n",
    "\n",
    "res = client.search(\n",
    "    collection_name=collection_name,\n",
    "    query_vector=encoded_query,\n",
    "    limit=2,\n",
    ")"
   ]
  },
  {
   "cell_type": "code",
   "execution_count": 31,
   "metadata": {
    "colab": {
     "base_uri": "https://localhost:8080/"
    },
    "id": "GH_DkmsNomww",
    "outputId": "fc84b83b-164d-45a7-9e80-9b11519bf25b"
   },
   "outputs": [
    {
     "data": {
      "text/plain": [
       "[ScoredPoint(id=71, version=0, score=0.9155836135758795, payload={'problem': 'The product of two consecutive page numbers is $18{,}360.$ What is the sum of the two page numbers?', 'solution': 'Let the page numbers be $n$ and $n + 1.$ Then, the problem can be modeled by the equation $n(n+1) = 18360.$ We can rewrite the equation as $n^2 + n - 18360=0.$\\n\\nNow using the quadratic formula, we find that $$n = \\\\frac{-1 \\\\pm \\\\sqrt{1 + 4\\\\cdot 18360}}{2}.$$ So, $n = 135.$ Hence, $n + (n + 1) = \\\\{271}.$\\n\\nThis equation can be factored as well, but that would not save much time. The best way to solve this quickly would be to notice that $18360$ falls between $135^2=18225$ and $136^2=18496,$ so since we know that $n$ is an integer, we can guess that $n = 135.$ Plugging it back into the equation, we see that it works, so $n + (n + 1) = \\\\{271}.$'}, vector=None),\n",
       " ScoredPoint(id=10877, version=0, score=0.8920983857402267, payload={'problem': 'The product of two positive whole numbers is 2005. If neither number is 1, what is the sum of the two numbers?', 'solution': '$2005=5\\\\cdot401$. Checking the primes less than $\\\\sqrt{401}$ as potential divisors, we see that 401 is prime. Thus, the positive whole numbers in question are 5 and 401. Their sum is $\\\\{406}.$'}, vector=None)]"
      ]
     },
     "execution_count": 31,
     "metadata": {},
     "output_type": "execute_result"
    }
   ],
   "source": [
    "res"
   ]
  },
  {
   "cell_type": "markdown",
   "metadata": {},
   "source": [
    "Let us write a function **retrieve** which will retrieve relevant solutions from qdrant for us."
   ]
  },
  {
   "cell_type": "code",
   "execution_count": 32,
   "metadata": {
    "id": "92NmGGJ1TKQp"
   },
   "outputs": [],
   "source": [
    "limit = 3750\n",
    "\n",
    "\n",
    "def retrieve(query):\n",
    "    res = openai.Embedding.create(input=[query], engine=embed_model)\n",
    "\n",
    "    # retrieve from Qdrant\n",
    "    encoded_query = res[\"data\"][0][\"embedding\"]\n",
    "\n",
    "    # get relevant solutions\n",
    "    res = client.search(\n",
    "        collection_name=collection_name,\n",
    "        query_vector=encoded_query,\n",
    "        limit=2,\n",
    "    )\n",
    "    contexts = [x.payload[\"problem\"] + x.payload[\"solution\"] for x in res]\n",
    "\n",
    "    # build our prompt with the retrieved solutions included\n",
    "    prompt_start = \"Answer the question based on the context below.\" + \"Context:\"\n",
    "    prompt_end = f\"Question: {query}\\nAnswer: \"\n",
    "    # append solutions until hitting limit\n",
    "    for i in range(1, len(contexts)):\n",
    "        if len(\"---\".join(contexts[:i])) >= limit:\n",
    "            prompt = prompt_start + \"\\n---\\n\".join(contexts[: i - 1]) + prompt_end\n",
    "            break\n",
    "        elif i == len(contexts) - 1:\n",
    "            prompt = prompt_start + \"---\".join(contexts) + prompt_end\n",
    "    # print(prompt)\n",
    "    return prompt"
   ]
  },
  {
   "cell_type": "code",
   "execution_count": 33,
   "metadata": {
    "colab": {
     "base_uri": "https://localhost:8080/",
     "height": 142
    },
    "id": "LwsZuxiTvU2d",
    "outputId": "7e3acf8b-7356-41bc-8c9e-5405a21153e0"
   },
   "outputs": [
    {
     "data": {
      "text/latex": [
       "Answer the question based on the context below.Context:The product of two consecutive page numbers is $18{,}360.$ What is the sum of the two page numbers?Let the page numbers be $n$ and $n + 1.$ Then, the problem can be modeled by the equation $n(n+1) = 18360.$ We can rewrite the equation as $n^2 + n - 18360=0.$\n",
       "\n",
       "Now using the quadratic formula, we find that $$n = \\frac{-1 \\pm \\sqrt{1 + 4\\cdot 18360}}{2}.$$ So, $n = 135.$ Hence, $n + (n + 1) = \\{271}.$\n",
       "\n",
       "This equation can be factored as well, but that would not save much time. The best way to solve this quickly would be to notice that $18360$ falls between $135^2=18225$ and $136^2=18496,$ so since we know that $n$ is an integer, we can guess that $n = 135.$ Plugging it back into the equation, we see that it works, so $n + (n + 1) = \\{271}.$---The product of two positive whole numbers is 2005. If neither number is 1, what is the sum of the two numbers?$2005=5\\cdot401$. Checking the primes less than $\\sqrt{401}$ as potential divisors, we see that 401 is prime. Thus, the positive whole numbers in question are 5 and 401. Their sum is $\\{406}.$Question: The product of two consecutive page numbers is 20022. What is the sum of the two page numbers?\n",
       "Answer: "
      ],
      "text/plain": [
       "<IPython.core.display.Latex object>"
      ]
     },
     "execution_count": 33,
     "metadata": {},
     "output_type": "execute_result"
    }
   ],
   "source": [
    "# first we retrieve relevant items from qdrant\n",
    "query_with_contexts = retrieve(query)\n",
    "\n",
    "Latex(query_with_contexts)"
   ]
  },
  {
   "cell_type": "code",
   "execution_count": 34,
   "metadata": {
    "colab": {
     "base_uri": "https://localhost:8080/",
     "height": 35
    },
    "id": "ioDVGF7lkDQL",
    "outputId": "88bbbd48-89b1-4485-f511-cc5014bf3a5b"
   },
   "outputs": [
    {
     "data": {
      "text/latex": [
       "Let the page numbers be $n$ and $n + 1.$ Then, the problem can be modeled by the equation $n(n+1) = 20022.$ We can rewrite the equation as $n^2 + n - 20022=0.$\n",
       "\n",
       "Using the quadratic formula, we find that $$n = \\frac{-1 \\pm \\sqrt{1 + 4\\cdot 20022}}{2}.$$ So, $n = 141.$ Hence, $n + (n + 1) = \\{283}.$"
      ],
      "text/plain": [
       "<IPython.core.display.Latex object>"
      ]
     },
     "execution_count": 34,
     "metadata": {},
     "output_type": "execute_result"
    }
   ],
   "source": [
    "# then we complete the context-infused query\n",
    "Latex(complete(query_with_contexts))"
   ]
  },
  {
   "cell_type": "code",
   "execution_count": 40,
   "metadata": {
    "tags": []
   },
   "outputs": [
    {
     "data": {
      "text/latex": [
       "The common difference is $x^2 - 1^2 = (x-1)(x+1)$.  Since $x>0$, $x-1>0$, so $x+1>0$.  Therefore, the common difference is positive, so the terms in the arithmetic sequence are increasing.  Since $3^2 = 9$ is the third term, $x^2$ must be the second term, so $x^2 = 9$, which means $x = \\boxed{3}$."
      ],
      "text/plain": [
       "<IPython.core.display.Latex object>"
      ]
     },
     "execution_count": 40,
     "metadata": {},
     "output_type": "execute_result"
    }
   ],
   "source": [
    "query = \"Solve for $x>0$ in the following arithmetic sequence: $1^2, x^2, 3^2, \\ldots$.\"\n",
    "Latex(complete(query))"
   ]
  },
  {
   "cell_type": "markdown",
   "metadata": {
    "id": "OPO36aN8QoPZ"
   },
   "source": [
    "Again we get wrong answer. Now let's try with retrieval technique"
   ]
  },
  {
   "cell_type": "code",
   "execution_count": 41,
   "metadata": {
    "tags": []
   },
   "outputs": [
    {
     "data": {
      "text/latex": [
       "$x = \\sqrt{5}$"
      ],
      "text/plain": [
       "<IPython.core.display.Latex object>"
      ]
     },
     "execution_count": 41,
     "metadata": {},
     "output_type": "execute_result"
    }
   ],
   "source": [
    "query_with_contexts = retrieve(query)\n",
    "Latex(complete(query_with_contexts))"
   ]
  },
  {
   "cell_type": "markdown",
   "metadata": {},
   "source": [
    "We get the correct answer, you can query it on more questions."
   ]
  },
  {
   "cell_type": "code",
   "execution_count": null,
   "metadata": {},
   "outputs": [],
   "source": [
    "client.delete_collection(collection_name=collection_name)"
   ]
  },
  {
   "cell_type": "markdown",
   "metadata": {},
   "source": [
    "---"
   ]
  }
 ],
 "metadata": {
  "colab": {
   "provenance": []
  },
  "kernelspec": {
   "display_name": "Python 3 (ipykernel)",
   "language": "python",
   "name": "python3"
  },
  "language_info": {
   "codemirror_mode": {
    "name": "ipython",
    "version": 3
   },
   "file_extension": ".py",
   "mimetype": "text/x-python",
   "name": "python",
   "nbconvert_exporter": "python",
   "pygments_lexer": "ipython3",
   "version": "3.11.3"
  },
  "vscode": {
   "interpreter": {
    "hash": "b8e7999f96e1b425e2d542f21b571f5a4be3e97158b0b46ea1b2500df63956ce"
   }
  },
  "widgets": {}
 },
 "nbformat": 4,
 "nbformat_minor": 4
}
