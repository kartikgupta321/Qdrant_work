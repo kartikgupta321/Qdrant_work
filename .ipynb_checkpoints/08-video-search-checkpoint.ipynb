{
 "cells": [
  {
   "cell_type": "markdown",
   "metadata": {
    "id": "TYanSLSwSbCm"
   },
   "source": [
    "# Introduction to NLP Powered Video search"
   ]
  },
  {
   "cell_type": "markdown",
   "metadata": {
    "id": "EIk_oxyASbCu"
   },
   "source": [
    "Ever wondered how short videos in our social media apps pop up when given a short description. With the power of AI and Natural Language Processing (NLP), we are going to do so using a powerful tool named Qdrant. Sounds interesting, well it is.\n",
    "\n",
    "In NLP Powered Video search system we just have to provide a short description and the relevant short videos will be shown to us. It's like having a video_assistant who has seen all the videos available and to whom you describe the context and it pulls out a video showing the same.\n",
    "\n",
    "To make our 'AI video_assistant' we will be using two main components:\n",
    "\n",
    "1.   **Qdrant**: Powers our performant vector search. It's our magic video collection that the assistant has access to.\n",
    "2.   **Retriever Model**: It helps in embedding video labels into numerical representations (vectors) that Qdrant can store and search efficiently.\n",
    "\n",
    "We'll use the kinetics700_2020 dataset, the 2020 edition of the DeepMind Kinetics human action dataset which contains about 50,000 **videos** having human-object interactions such as playing instruments, as well as human-human interactions such as shaking hands and hugging and more and their **labels** --so a wide range of questions can be asked!\n",
    "\n",
    "Remember, Machine Learning and NLP are fields where practice makes perfect. Don't hesitate to experiment, make mistakes and learn!\n",
    "\n",
    "We generate embeddings for the labels using the retriever, index them in the vector database, and query with semantic search to retrieve the top k most relevant labels. We then see the corresponding video according to the relevant labels."
   ]
  },
  {
   "cell_type": "markdown",
   "source": [
    "##Install Dependencies\n",
    "Let's get started by installing the packages needed for notebook to run:"
   ],
   "metadata": {
    "id": "Q0jGFGmh6MjM"
   }
  },
  {
   "cell_type": "code",
   "execution_count": 17,
   "metadata": {
    "tags": [],
    "id": "6E2CVFJ7SbCv"
   },
   "outputs": [],
   "source": [
    "!pip install -qU pandas==1.5.3 sentence-transformers==2.2.2 tqdm==4.65.0 qdrant-client==1.2.0 wget==3.2"
   ]
  },
  {
   "cell_type": "markdown",
   "source": [
    "## Import libraries"
   ],
   "metadata": {
    "id": "qEnJCv0LGg30"
   }
  },
  {
   "cell_type": "code",
   "execution_count": 18,
   "metadata": {
    "id": "r8KN-iWWdwby",
    "tags": []
   },
   "outputs": [],
   "source": [
    "import wget\n",
    "import tarfile\n",
    "import torch\n",
    "import pandas as pd\n",
    "from qdrant_client import QdrantClient\n",
    "from sentence_transformers import SentenceTransformer\n",
    "from qdrant_client.http import models\n",
    "from google.colab import drive\n",
    "from tqdm.auto import tqdm\n",
    "from IPython.display import display, HTML, IFrame"
   ]
  },
  {
   "cell_type": "markdown",
   "metadata": {
    "id": "KFIZrga-6Jq_"
   },
   "source": [
    "## Download Dataset\n",
    "First let's download the kinetics700_2020 dataset from the official site [link](https://storage.googleapis.com/deepmind-media/Datasets/kinetics700_2020.tar.gz) by running below code of directly clicking on the link."
   ]
  },
  {
   "cell_type": "code",
   "execution_count": 19,
   "metadata": {
    "colab": {
     "base_uri": "https://localhost:8080/"
    },
    "id": "ZD4gusO9YB1-",
    "outputId": "b2ce6ada-fca0-4248-ed77-7f11fa8ee018",
    "tags": []
   },
   "outputs": [
    {
     "output_type": "stream",
     "name": "stdout",
     "text": [
      "['--2023-06-14 11:15:18--  https://storage.googleapis.com/deepmind-media/Datasets/kinetics700_2020.tar.gz', 'Resolving storage.googleapis.com (storage.googleapis.com)... 108.177.121.128, 108.177.120.128, 142.250.159.128, ...', 'Connecting to storage.googleapis.com (storage.googleapis.com)|108.177.121.128|:443... connected.', 'HTTP request sent, awaiting response... 200 OK', 'Length: 24866796 (24M) [application/x-gzip]', 'Saving to: ‘kinetics700_2020.tar.gz.1’', '', '', '          kinetics7   0%[                    ]       0  --.-KB/s               ', '         kinetics70  74%[=============>      ]  17.66M  88.3MB/s               ', 'kinetics700_2020.ta 100%[===================>]  23.71M  82.6MB/s    in 0.3s    ', '', '2023-06-14 11:15:18 (82.6 MB/s) - ‘kinetics700_2020.tar.gz.1’ saved [24866796/24866796]', '']\n"
     ]
    }
   ],
   "source": [
    "filename = !wget \"https://storage.googleapis.com/deepmind-media/Datasets/kinetics700_2020.tar.gz\" #download the master.zip file which contains the dataset\n",
    "print(filename)"
   ]
  },
  {
   "cell_type": "markdown",
   "source": [
    "## Extract Dataset\n"
   ],
   "metadata": {
    "id": "zSomhgc5zQa6"
   }
  },
  {
   "cell_type": "code",
   "execution_count": 20,
   "metadata": {
    "id": "qLvXp0RtYTTz",
    "tags": []
   },
   "outputs": [],
   "source": [
    "tar_file_path = (\n",
    "    \"/content/kinetics700_2020.tar.gz\"  # Specify the path to the tar.gz file\n",
    ")\n",
    "\n",
    "# Open the tar.gz file\n",
    "with tarfile.open(tar_file_path, \"r:gz\") as tar:\n",
    "    # Extract all files in the tar.gz archive\n",
    "    tar.extractall()"
   ]
  },
  {
   "cell_type": "markdown",
   "metadata": {
    "id": "7agJKFkZ6UGB"
   },
   "source": [
    "## Explore the Dataset\n",
    "After extracting a folder named kinetics700_2020 will be available. We will be using the file named train.csv from inside this folder.\n",
    "Also you will notice that the dataset itself does not contain any video files, it just contains youtube_ids which we can use with the base youtube url to access any video, this is great as we do not need or want to store such  large amount of data."
   ]
  },
  {
   "cell_type": "code",
   "execution_count": 21,
   "metadata": {
    "id": "K8RvBSYSbvUb",
    "tags": [],
    "outputId": "f94e774f-063e-4a54-baf8-50235cafff1b",
    "colab": {
     "base_uri": "https://localhost:8080/",
     "height": 206
    }
   },
   "outputs": [
    {
     "output_type": "execute_result",
     "data": {
      "text/plain": [
       "                   label   youtube_id\n",
       "0    clay pottery making  ---0dWlqevI\n",
       "1         news anchoring  ---aQ-tA5_A\n",
       "2  using bagging machine  ---j12rm3WI\n",
       "3          javelin throw  --07WQ2iBlw\n",
       "4        climbing a rope  --0NTAs-fA0"
      ],
      "text/html": [
       "\n",
       "  <div id=\"df-12b754d6-0e03-46d8-b770-8291d3c01f46\">\n",
       "    <div class=\"colab-df-container\">\n",
       "      <div>\n",
       "<style scoped>\n",
       "    .dataframe tbody tr th:only-of-type {\n",
       "        vertical-align: middle;\n",
       "    }\n",
       "\n",
       "    .dataframe tbody tr th {\n",
       "        vertical-align: top;\n",
       "    }\n",
       "\n",
       "    .dataframe thead th {\n",
       "        text-align: right;\n",
       "    }\n",
       "</style>\n",
       "<table border=\"1\" class=\"dataframe\">\n",
       "  <thead>\n",
       "    <tr style=\"text-align: right;\">\n",
       "      <th></th>\n",
       "      <th>label</th>\n",
       "      <th>youtube_id</th>\n",
       "    </tr>\n",
       "  </thead>\n",
       "  <tbody>\n",
       "    <tr>\n",
       "      <th>0</th>\n",
       "      <td>clay pottery making</td>\n",
       "      <td>---0dWlqevI</td>\n",
       "    </tr>\n",
       "    <tr>\n",
       "      <th>1</th>\n",
       "      <td>news anchoring</td>\n",
       "      <td>---aQ-tA5_A</td>\n",
       "    </tr>\n",
       "    <tr>\n",
       "      <th>2</th>\n",
       "      <td>using bagging machine</td>\n",
       "      <td>---j12rm3WI</td>\n",
       "    </tr>\n",
       "    <tr>\n",
       "      <th>3</th>\n",
       "      <td>javelin throw</td>\n",
       "      <td>--07WQ2iBlw</td>\n",
       "    </tr>\n",
       "    <tr>\n",
       "      <th>4</th>\n",
       "      <td>climbing a rope</td>\n",
       "      <td>--0NTAs-fA0</td>\n",
       "    </tr>\n",
       "  </tbody>\n",
       "</table>\n",
       "</div>\n",
       "      <button class=\"colab-df-convert\" onclick=\"convertToInteractive('df-12b754d6-0e03-46d8-b770-8291d3c01f46')\"\n",
       "              title=\"Convert this dataframe to an interactive table.\"\n",
       "              style=\"display:none;\">\n",
       "        \n",
       "  <svg xmlns=\"http://www.w3.org/2000/svg\" height=\"24px\"viewBox=\"0 0 24 24\"\n",
       "       width=\"24px\">\n",
       "    <path d=\"M0 0h24v24H0V0z\" fill=\"none\"/>\n",
       "    <path d=\"M18.56 5.44l.94 2.06.94-2.06 2.06-.94-2.06-.94-.94-2.06-.94 2.06-2.06.94zm-11 1L8.5 8.5l.94-2.06 2.06-.94-2.06-.94L8.5 2.5l-.94 2.06-2.06.94zm10 10l.94 2.06.94-2.06 2.06-.94-2.06-.94-.94-2.06-.94 2.06-2.06.94z\"/><path d=\"M17.41 7.96l-1.37-1.37c-.4-.4-.92-.59-1.43-.59-.52 0-1.04.2-1.43.59L10.3 9.45l-7.72 7.72c-.78.78-.78 2.05 0 2.83L4 21.41c.39.39.9.59 1.41.59.51 0 1.02-.2 1.41-.59l7.78-7.78 2.81-2.81c.8-.78.8-2.07 0-2.86zM5.41 20L4 18.59l7.72-7.72 1.47 1.35L5.41 20z\"/>\n",
       "  </svg>\n",
       "      </button>\n",
       "      \n",
       "  <style>\n",
       "    .colab-df-container {\n",
       "      display:flex;\n",
       "      flex-wrap:wrap;\n",
       "      gap: 12px;\n",
       "    }\n",
       "\n",
       "    .colab-df-convert {\n",
       "      background-color: #E8F0FE;\n",
       "      border: none;\n",
       "      border-radius: 50%;\n",
       "      cursor: pointer;\n",
       "      display: none;\n",
       "      fill: #1967D2;\n",
       "      height: 32px;\n",
       "      padding: 0 0 0 0;\n",
       "      width: 32px;\n",
       "    }\n",
       "\n",
       "    .colab-df-convert:hover {\n",
       "      background-color: #E2EBFA;\n",
       "      box-shadow: 0px 1px 2px rgba(60, 64, 67, 0.3), 0px 1px 3px 1px rgba(60, 64, 67, 0.15);\n",
       "      fill: #174EA6;\n",
       "    }\n",
       "\n",
       "    [theme=dark] .colab-df-convert {\n",
       "      background-color: #3B4455;\n",
       "      fill: #D2E3FC;\n",
       "    }\n",
       "\n",
       "    [theme=dark] .colab-df-convert:hover {\n",
       "      background-color: #434B5C;\n",
       "      box-shadow: 0px 1px 3px 1px rgba(0, 0, 0, 0.15);\n",
       "      filter: drop-shadow(0px 1px 2px rgba(0, 0, 0, 0.3));\n",
       "      fill: #FFFFFF;\n",
       "    }\n",
       "  </style>\n",
       "\n",
       "      <script>\n",
       "        const buttonEl =\n",
       "          document.querySelector('#df-12b754d6-0e03-46d8-b770-8291d3c01f46 button.colab-df-convert');\n",
       "        buttonEl.style.display =\n",
       "          google.colab.kernel.accessAllowed ? 'block' : 'none';\n",
       "\n",
       "        async function convertToInteractive(key) {\n",
       "          const element = document.querySelector('#df-12b754d6-0e03-46d8-b770-8291d3c01f46');\n",
       "          const dataTable =\n",
       "            await google.colab.kernel.invokeFunction('convertToInteractive',\n",
       "                                                     [key], {});\n",
       "          if (!dataTable) return;\n",
       "\n",
       "          const docLinkHtml = 'Like what you see? Visit the ' +\n",
       "            '<a target=\"_blank\" href=https://colab.research.google.com/notebooks/data_table.ipynb>data table notebook</a>'\n",
       "            + ' to learn more about interactive tables.';\n",
       "          element.innerHTML = '';\n",
       "          dataTable['output_type'] = 'display_data';\n",
       "          await google.colab.output.renderOutput(dataTable, element);\n",
       "          const docLink = document.createElement('div');\n",
       "          docLink.innerHTML = docLinkHtml;\n",
       "          element.appendChild(docLink);\n",
       "        }\n",
       "      </script>\n",
       "    </div>\n",
       "  </div>\n",
       "  "
      ]
     },
     "metadata": {},
     "execution_count": 21
    }
   ],
   "source": [
    "# Load dataset to a pandas dataframe\n",
    "columns_to_read = [\"label\", \"youtube_id\"]  # only read columns label and youtube_id\n",
    "\n",
    "df = pd.read_csv(\n",
    "    \"/content/kinetics700_2020/train.csv\",\n",
    "    delimiter=\",\",  # set delimiter as \",\" as our csv file is commma separated\n",
    "    usecols=columns_to_read,\n",
    ")\n",
    "df.head()"
   ]
  },
  {
   "cell_type": "markdown",
   "metadata": {
    "id": "s3HzvQFqSbC5"
   },
   "source": [
    "\n",
    "Also There are some duplicate video ids in the dataset."
   ]
  },
  {
   "cell_type": "code",
   "execution_count": 22,
   "metadata": {
    "tags": [],
    "id": "mvthFRb3SbC5",
    "outputId": "a1a4397e-3514-4906-b1d6-fc17ee9c55e2",
    "colab": {
     "base_uri": "https://localhost:8080/"
    }
   },
   "outputs": [
    {
     "output_type": "stream",
     "name": "stdout",
     "text": [
      "total records in the dataset-  532906\n",
      "Unique youtube_id in the dataset-  530510\n"
     ]
    }
   ],
   "source": [
    "print(\"total records in the dataset- \", len(df))\n",
    "print(\"Unique youtube_id in the dataset- \", len(df[\"youtube_id\"].unique()))"
   ]
  },
  {
   "cell_type": "markdown",
   "source": [
    "let's see the duplicate ids and their counts"
   ],
   "metadata": {
    "id": "UfNn6GnA2_0Q"
   }
  },
  {
   "cell_type": "code",
   "execution_count": 23,
   "metadata": {
    "tags": [],
    "id": "31aNWwBhSbC6",
    "outputId": "8b74832d-b164-4684-d8c7-da49b0a7e293",
    "colab": {
     "base_uri": "https://localhost:8080/"
    }
   },
   "outputs": [
    {
     "output_type": "stream",
     "name": "stdout",
     "text": [
      "   id         count\n",
      " 6aMNaKa40RU    3\n",
      "-NXoI2nNu6I    3\n",
      "6o-0khkmWBI    3\n",
      "BE00SRKILNk    3\n",
      "DcHdC00v1UU    3\n",
      "Name: youtube_id, dtype: int64\n"
     ]
    }
   ],
   "source": [
    "dupes = df[\"youtube_id\"].value_counts().sort_values(ascending=False)\n",
    "print(\"   id\", \" \" * 7, \"count\\n\", dupes.head())"
   ]
  },
  {
   "cell_type": "markdown",
   "metadata": {
    "id": "JUyg2Yc6SbC6"
   },
   "source": [
    "Now Let's take a look at one of the videos of duplicated ids and it's labels."
   ]
  },
  {
   "cell_type": "code",
   "source": [
    "def display_video(youtube_id):  # function to display video using video id\n",
    "    embed_code = f'<iframe width=\"180\" height=\"180\" src=\"https://www.youtube.com/embed/{youtube_id}?autoplay=1&controls=0&modestbranding&rel=0&mute=1&end=20&loop=1\" frameborder=\"0\"\" ></iframe>'\n",
    "    display(HTML(embed_code))\n",
    "\n",
    "\n",
    "dupe_youtube_id = \"BE00SRKILNk\"  # example of duplicate youtube id\n",
    "dupe_df = df[df[\"youtube_id\"] == dupe_youtube_id]\n",
    "\n",
    "# let's take a look at this video and it's duplicated descriptions\n",
    "for _, video in dupe_df.iterrows():\n",
    "    display_video(dupe_youtube_id)\n",
    "    print(video[\"label\"])"
   ],
   "metadata": {
    "colab": {
     "base_uri": "https://localhost:8080/",
     "height": 657
    },
    "id": "WaFSTqFtIyVH",
    "outputId": "8d005859-78a3-45eb-9291-272c2ee82e1c"
   },
   "execution_count": 24,
   "outputs": [
    {
     "output_type": "stream",
     "name": "stderr",
     "text": [
      "/usr/local/lib/python3.10/dist-packages/IPython/core/display.py:724: UserWarning: Consider using IPython.display.IFrame instead\n",
      "  warnings.warn(\"Consider using IPython.display.IFrame instead\")\n"
     ]
    },
    {
     "output_type": "display_data",
     "data": {
      "text/plain": [
       "<IPython.core.display.HTML object>"
      ],
      "text/html": [
       "<iframe width=\"180\" height=\"180\" src=\"https://www.youtube.com/embed/BE00SRKILNk?autoplay=1&controls=0&modestbranding&rel=0&mute=1&end=20&loop=1\" frameborder=\"0\"\" ></iframe>"
      ]
     },
     "metadata": {}
    },
    {
     "output_type": "stream",
     "name": "stdout",
     "text": [
      "repairing puncture\n"
     ]
    },
    {
     "output_type": "display_data",
     "data": {
      "text/plain": [
       "<IPython.core.display.HTML object>"
      ],
      "text/html": [
       "<iframe width=\"180\" height=\"180\" src=\"https://www.youtube.com/embed/BE00SRKILNk?autoplay=1&controls=0&modestbranding&rel=0&mute=1&end=20&loop=1\" frameborder=\"0\"\" ></iframe>"
      ]
     },
     "metadata": {}
    },
    {
     "output_type": "stream",
     "name": "stdout",
     "text": [
      "fixing bicycle\n"
     ]
    },
    {
     "output_type": "display_data",
     "data": {
      "text/plain": [
       "<IPython.core.display.HTML object>"
      ],
      "text/html": [
       "<iframe width=\"180\" height=\"180\" src=\"https://www.youtube.com/embed/BE00SRKILNk?autoplay=1&controls=0&modestbranding&rel=0&mute=1&end=20&loop=1\" frameborder=\"0\"\" ></iframe>"
      ]
     },
     "metadata": {}
    },
    {
     "output_type": "stream",
     "name": "stdout",
     "text": [
      "assembling bicycle\n"
     ]
    }
   ]
  },
  {
   "cell_type": "markdown",
   "metadata": {
    "id": "NF0ti3aFSbC7"
   },
   "source": [
    "As we can see none of the labels are wrong in any way, so we do not need to remove them. Other duplicated ids also have different but accurate labels.\n",
    "\n",
    "Let's see some more examples of videos with their labels."
   ]
  },
  {
   "cell_type": "code",
   "execution_count": 25,
   "metadata": {
    "colab": {
     "base_uri": "https://localhost:8080/",
     "height": 1000
    },
    "id": "m0_jfDW6hl4C",
    "outputId": "1e5ebac7-5b87-4deb-edb5-e05f05f43036",
    "tags": []
   },
   "outputs": [
    {
     "output_type": "display_data",
     "data": {
      "text/plain": [
       "<IPython.core.display.HTML object>"
      ],
      "text/html": [
       "<iframe width=\"180\" height=\"180\" src=\"https://www.youtube.com/embed/---0dWlqevI?autoplay=1&controls=0&modestbranding&rel=0&mute=1&end=20&loop=1\" frameborder=\"0\"\" ></iframe>"
      ]
     },
     "metadata": {}
    },
    {
     "output_type": "stream",
     "name": "stdout",
     "text": [
      "clay pottery making\n"
     ]
    },
    {
     "output_type": "display_data",
     "data": {
      "text/plain": [
       "<IPython.core.display.HTML object>"
      ],
      "text/html": [
       "<iframe width=\"180\" height=\"180\" src=\"https://www.youtube.com/embed/---aQ-tA5_A?autoplay=1&controls=0&modestbranding&rel=0&mute=1&end=20&loop=1\" frameborder=\"0\"\" ></iframe>"
      ]
     },
     "metadata": {}
    },
    {
     "output_type": "stream",
     "name": "stdout",
     "text": [
      "news anchoring\n"
     ]
    },
    {
     "output_type": "display_data",
     "data": {
      "text/plain": [
       "<IPython.core.display.HTML object>"
      ],
      "text/html": [
       "<iframe width=\"180\" height=\"180\" src=\"https://www.youtube.com/embed/---j12rm3WI?autoplay=1&controls=0&modestbranding&rel=0&mute=1&end=20&loop=1\" frameborder=\"0\"\" ></iframe>"
      ]
     },
     "metadata": {}
    },
    {
     "output_type": "stream",
     "name": "stdout",
     "text": [
      "using bagging machine\n"
     ]
    },
    {
     "output_type": "display_data",
     "data": {
      "text/plain": [
       "<IPython.core.display.HTML object>"
      ],
      "text/html": [
       "<iframe width=\"180\" height=\"180\" src=\"https://www.youtube.com/embed/--07WQ2iBlw?autoplay=1&controls=0&modestbranding&rel=0&mute=1&end=20&loop=1\" frameborder=\"0\"\" ></iframe>"
      ]
     },
     "metadata": {}
    },
    {
     "output_type": "stream",
     "name": "stdout",
     "text": [
      "javelin throw\n"
     ]
    },
    {
     "output_type": "display_data",
     "data": {
      "text/plain": [
       "<IPython.core.display.HTML object>"
      ],
      "text/html": [
       "<iframe width=\"180\" height=\"180\" src=\"https://www.youtube.com/embed/--0NTAs-fA0?autoplay=1&controls=0&modestbranding&rel=0&mute=1&end=20&loop=1\" frameborder=\"0\"\" ></iframe>"
      ]
     },
     "metadata": {}
    },
    {
     "output_type": "stream",
     "name": "stdout",
     "text": [
      "climbing a rope\n"
     ]
    }
   ],
   "source": [
    "for _, video in df[:5].iterrows():\n",
    "    display_video(video[\"youtube_id\"])\n",
    "    print(video[\"label\"])"
   ]
  },
  {
   "cell_type": "markdown",
   "metadata": {
    "id": "-1s0utneSbC8"
   },
   "source": [
    "Now to build our video search tool we just need **two** components:\n",
    "* a **retriever** to embed video labels\n",
    "* a **vector database** to store video label embeddings and retrieve relevant videos"
   ]
  },
  {
   "cell_type": "markdown",
   "metadata": {
    "id": "zrKIRGeo6ehR"
   },
   "source": [
    "## Initialize Qdrant client\n",
    "We will be using qdrant vector database, a fully managed vector database that can store and search through billions of records in milliseconds. It will store vector representations of our vector labels which we can retrieve using query vector.\n"
   ]
  },
  {
   "cell_type": "code",
   "execution_count": 35,
   "metadata": {
    "id": "Ngbs8wQQoePL",
    "tags": [],
    "outputId": "f508db36-419e-4182-a920-62ad68ffedf3",
    "colab": {
     "base_uri": "https://localhost:8080/"
    }
   },
   "outputs": [
    {
     "output_type": "stream",
     "name": "stdout",
     "text": [
      "collections=[]\n",
      "collections=[CollectionDescription(name='video-search')]\n"
     ]
    }
   ],
   "source": [
    "# Initialize Qdrant client\n",
    "drive.mount(\n",
    "    \"/content/drive\"\n",
    ")  # to save collection in google drive using google collab, make a folder named QdrantDB\n",
    "client = QdrantClient(\n",
    "    path=\"/content/drive/MyDrive/QdrantDB\"\n",
    ")  # path=\"path/to/db\" to Persists changes to disk, use given path for google collab.\n",
    "\n",
    "label_collection = \"video-search\"  # name your collection\n",
    "\n",
    "collections = client.get_collections()\n",
    "print(collections)\n",
    "\n",
    "# only create collection if it doesn't exist\n",
    "if label_collection not in collections:\n",
    "    client.recreate_collection(\n",
    "        collection_name=label_collection,\n",
    "        vectors_config=models.VectorParams(\n",
    "            size=384,  # specifying dimensionality of vectors output by model\n",
    "            distance=models.Distance.COSINE,  # specifying which metric will be used to check similarity of vectors\n",
    "        ),\n",
    "    )\n",
    "collections = client.get_collections()\n",
    "print(collections)"
   ]
  },
  {
   "cell_type": "markdown",
   "metadata": {
    "id": "D5mGU3ub6kkb"
   },
   "source": [
    "## Initialize Retriever\n",
    "The retriever will do two things:\n",
    "\n",
    "1.\tGenerate embeddings for all the video labels (context vectors)\n",
    "2.\tGenerate embeddings for the query (query vector)\n",
    "\n",
    "The embeddings generated by the retriever have a unique property, similar vectors will lie closer in the vector space. We will use this property to find label vectors which are closest to our query vector using cosine similarity.\n",
    "\n",
    "We will use `sentence-transformers/all-MiniLM-L6-v2` as our retriever which performs exceptionally well on generic semantic similarity and is  based on Microsoft's MPNet."
   ]
  },
  {
   "cell_type": "code",
   "execution_count": 26,
   "metadata": {
    "colab": {
     "base_uri": "https://localhost:8080/",
     "height": 281,
     "referenced_widgets": [
      "1cc592ac598947c6b76153fa21e7dd16",
      "aeac12df824e47389015acd2448fbc40",
      "f45a70fc390147b5be3ed51a3178c7af",
      "003834610eaf492b8171c53bb2c0fdbb",
      "56fdb2e12c494cce998a22547d6b9b4a",
      "8072dc1c5dcb4c9ca1a3a62deed856ac",
      "33512b5dfe3e4d678a2dcab049590c11",
      "c8118c94a23846a1bcf3220942e1bc71",
      "28d8badeecd244f5b9fcf76730df2228",
      "47280e22f66949cf96d8bf7c5ac012dd",
      "daf3aa0f15554a4abba7439b4d6ff39b",
      "80fdac17e75c4339b8dc1394b048c502",
      "726b55e3e1c144679c2460c29aa730d5",
      "67082820c9814f6b922cf4c273693b33",
      "0508fbb485e94e98b95a11ee509cf80e",
      "10cf409459f4493387d9fc245571d35b",
      "1d4256f6320b4258bbd7b6e80e34a2ba",
      "62662d040bab4368a9261d55f84d93c7",
      "11ab717b98644e0aad06e59064fa0e16",
      "803f1cc855284cc4887eb29d6fe7cbe6",
      "8ba73b87fe304daaafea885b024bc2a0",
      "4efdf5e83ab84924985da1010dec5a57",
      "be3d102d32504c3d96440a1896a6f3d3",
      "77ab0c75a62e4679b467c496940bdfb6",
      "bc57287994454a49a07e9240ab920e89",
      "78f356f8471f4733ba9599bab6620276",
      "78dffafa74534c518f576de51a4b5b60",
      "72bce8eb341f47919708fcd23864c2a3",
      "004e3826b3c34d1b9561c3b845c6c305",
      "1299e9269e4b497f9dfccbe5129135da",
      "1befc645a801400d9e552e2a1264f881",
      "07ff8f979c8244bb8bb8395ec1fd977d",
      "9ab2a1785be042a79866518b15849f59",
      "974e1c32d0ad46549465e82a2d5e8d50",
      "ac7daa1ef4c94c028829e9bb920a4554",
      "fd2c383c482e454185ffd479ee047390",
      "b9d2329073d6449ab517f7cf011d4c1f",
      "6d674a9639bb433a8c050030155096a6",
      "3001921b557145f2a2e1e3dc68732c20",
      "fa88cd00bb8546faaafea5ae6a5709aa",
      "a241cef20d9e4636ab35cfd2ccd4a10e",
      "99819c2a231d48138e6023a04b83778d",
      "83b897f825df47f499f10766d38e0a1b",
      "3e198ba96de042ab8185cfbded8a1f13",
      "7e89dc2043c14c9fae420917a50dd22b",
      "5db8cc6ce3144ce1ab3747dc3eba9c86",
      "a9d0ed378cda474fb5be7d12bc499eaf",
      "aa36f00161154239a10f943469076184",
      "98b157ef9df6442796d1678f4db9852c",
      "6464b5e199134a68a9a99411a30e5ebb",
      "eb2e4e47bedf406a8adb2efb28ca3f39",
      "cff6bb9f06cd496f9d026c1e883ed93d",
      "cbbaa336f03f41a98395b92d87ece9a8",
      "fdd80a282cf04a10a829d01ac29ef204",
      "01ee89a1dec641f2997133330338cb44"
     ]
    },
    "id": "UB0rVxmppnkm",
    "outputId": "9334502b-4757-4037-d2c8-0baa0c5649f0",
    "scrolled": true,
    "tags": []
   },
   "outputs": [
    {
     "output_type": "display_data",
     "data": {
      "text/plain": [
       "Downloading (…)e9125/tokenizer.json:   0%|          | 0.00/466k [00:00<?, ?B/s]"
      ],
      "application/vnd.jupyter.widget-view+json": {
       "version_major": 2,
       "version_minor": 0,
       "model_id": "1cc592ac598947c6b76153fa21e7dd16"
      }
     },
     "metadata": {}
    },
    {
     "output_type": "display_data",
     "data": {
      "text/plain": [
       "Downloading (…)okenizer_config.json:   0%|          | 0.00/350 [00:00<?, ?B/s]"
      ],
      "application/vnd.jupyter.widget-view+json": {
       "version_major": 2,
       "version_minor": 0,
       "model_id": "80fdac17e75c4339b8dc1394b048c502"
      }
     },
     "metadata": {}
    },
    {
     "output_type": "display_data",
     "data": {
      "text/plain": [
       "Downloading (…)9125/train_script.py:   0%|          | 0.00/13.2k [00:00<?, ?B/s]"
      ],
      "application/vnd.jupyter.widget-view+json": {
       "version_major": 2,
       "version_minor": 0,
       "model_id": "be3d102d32504c3d96440a1896a6f3d3"
      }
     },
     "metadata": {}
    },
    {
     "output_type": "display_data",
     "data": {
      "text/plain": [
       "Downloading (…)7e55de9125/vocab.txt:   0%|          | 0.00/232k [00:00<?, ?B/s]"
      ],
      "application/vnd.jupyter.widget-view+json": {
       "version_major": 2,
       "version_minor": 0,
       "model_id": "974e1c32d0ad46549465e82a2d5e8d50"
      }
     },
     "metadata": {}
    },
    {
     "output_type": "display_data",
     "data": {
      "text/plain": [
       "Downloading (…)5de9125/modules.json:   0%|          | 0.00/349 [00:00<?, ?B/s]"
      ],
      "application/vnd.jupyter.widget-view+json": {
       "version_major": 2,
       "version_minor": 0,
       "model_id": "7e89dc2043c14c9fae420917a50dd22b"
      }
     },
     "metadata": {}
    },
    {
     "output_type": "execute_result",
     "data": {
      "text/plain": [
       "SentenceTransformer(\n",
       "  (0): Transformer({'max_seq_length': 256, 'do_lower_case': False}) with Transformer model: BertModel \n",
       "  (1): Pooling({'word_embedding_dimension': 384, 'pooling_mode_cls_token': False, 'pooling_mode_mean_tokens': True, 'pooling_mode_max_tokens': False, 'pooling_mode_mean_sqrt_len_tokens': False})\n",
       "  (2): Normalize()\n",
       ")"
      ]
     },
     "metadata": {},
     "execution_count": 26
    }
   ],
   "source": [
    "# set device to GPU if available\n",
    "device = \"cuda\" if torch.cuda.is_available() else \"cpu\"\n",
    "\n",
    "# Initialize retriever with SentenceTransformer model\n",
    "retriever = SentenceTransformer(\"sentence-transformers/all-MiniLM-L6-v2\")\n",
    "retriever.to(device)"
   ]
  },
  {
   "cell_type": "markdown",
   "metadata": {
    "id": "0l5JHT4K6xH9"
   },
   "source": [
    "## Generate Embeddings -> Store in Qdrant\n",
    "Now we will generate embeddings for our video labels. We will do so in batches which is much faster than doing it individually. And then send a single api call to upsert the batch (also much faster).\n",
    "\n",
    "In qdrant, we need an id (a unique value, different from youtube_id), embedding (embeddings for the video labels we have generated earlier), and metadata for each document in the dataset. The metadata is a dictionary containing data relevant to our embeddings."
   ]
  },
  {
   "cell_type": "code",
   "execution_count": 36,
   "metadata": {
    "colab": {
     "base_uri": "https://localhost:8080/",
     "height": 101,
     "referenced_widgets": [
      "3c982065819f4c8583b2711407800d34",
      "fa4c4df2012a4a82b716d95c250a2d36",
      "fb018f63698c4847800990fd49df4f7b",
      "4be88a922ef449dbbba8660a956b815b",
      "b2f158d8f6ed40b3b7a21f61d9af76b6",
      "1a705606253e4698a681961ff277e48f",
      "b5468633e5d140b3b935b6a20e4a6e56",
      "f218d2e82b264009b6b3ad5653b4df2f",
      "46974b5a9b4546feb41382b607613940",
      "50ffc1d058674b4993567dc66738c44e",
      "2ce696b745324cf48821a768a9618793"
     ]
    },
    "id": "TdwtDfIxw7Ik",
    "outputId": "9345fe9f-d8b8-42e0-f267-31309124511e",
    "tags": []
   },
   "outputs": [
    {
     "output_type": "display_data",
     "data": {
      "text/plain": [
       "  0%|          | 0/1041 [00:00<?, ?it/s]"
      ],
      "application/vnd.jupyter.widget-view+json": {
       "version_major": 2,
       "version_minor": 0,
       "model_id": "3c982065819f4c8583b2711407800d34"
      }
     },
     "metadata": {}
    },
    {
     "output_type": "stream",
     "name": "stdout",
     "text": [
      "Vector count in collection: 532906\n",
      "CPU times: user 24min 19s, sys: 8.64 s, total: 24min 28s\n",
      "Wall time: 24min 36s\n"
     ]
    }
   ],
   "source": [
    "%%time\n",
    "\n",
    "batch_size = 512  # specify batch size according to your RAM and compute, higher batch size = more RAM usage\n",
    "\n",
    "for i in tqdm(range(0, len(df), batch_size)):\n",
    "    i_end = min(i + batch_size, len(df))  # find end of batch\n",
    "    batch = df.iloc[i:i_end]  # extract batch\n",
    "    emb = retriever.encode(\n",
    "        batch[\"label\"].tolist()\n",
    "    ).tolist()  # generate embeddings for batch\n",
    "    meta = batch.to_dict(orient=\"records\")  # get metadata\n",
    "    ids = list(range(i, i_end))  # create IDs\n",
    "\n",
    "    # upsert to qdrant\n",
    "    client.upsert(\n",
    "        collection_name=label_collection,\n",
    "        points=models.Batch(ids=ids, vectors=emb, payloads=meta),\n",
    "    )\n",
    "\n",
    "collection_vector_count = client.get_collection(\n",
    "    collection_name=label_collection\n",
    ").vectors_count\n",
    "print(f\"Vector count in collection: {collection_vector_count}\")\n",
    "assert collection_vector_count == len(df)"
   ]
  },
  {
   "cell_type": "markdown",
   "metadata": {
    "id": "nR5wJ9Ba59_Z"
   },
   "source": [
    "## Querying, searching for videos with description\n",
    "We can now query our description of the video, we will use the function `search_display_video` to search and display the top 3 results. The function will create vector embedding for the search query and find the label embedding according to cosine similarity in the collection.\n",
    "\n"
   ]
  },
  {
   "cell_type": "code",
   "execution_count": 37,
   "metadata": {
    "id": "FdHTSCo-6ElT",
    "tags": []
   },
   "outputs": [],
   "source": [
    "def search_display_video(query):\n",
    "    encoded_query = retriever.encode(\n",
    "        query\n",
    "    ).tolist()  # Generate embeddings for the query\n",
    "\n",
    "    # Compute cosine similarity between query and embeddings vectors and return top 3 results\n",
    "    query_result = client.search(\n",
    "        collection_name=label_collection,\n",
    "        query_vector=encoded_query,\n",
    "        limit=3,\n",
    "    )\n",
    "    result = []\n",
    "    for context in query_result:\n",
    "        id = context.payload[\"youtube_id\"]\n",
    "        result.append(id)\n",
    "    for id in result:\n",
    "        display_video(id)"
   ]
  },
  {
   "cell_type": "markdown",
   "metadata": {
    "id": "DJx78lQjSbDL"
   },
   "source": [
    "All work is done now we just need to provide a description of the video we want to the `search_display_video` function and it will display the results to us."
   ]
  },
  {
   "cell_type": "code",
   "execution_count": 42,
   "metadata": {
    "tags": [],
    "id": "86xl3nAySbDL",
    "outputId": "fa49154a-7f3d-4ead-abaa-d8d362754754",
    "colab": {
     "base_uri": "https://localhost:8080/",
     "height": 570
    }
   },
   "outputs": [
    {
     "output_type": "display_data",
     "data": {
      "text/plain": [
       "<IPython.core.display.HTML object>"
      ],
      "text/html": [
       "<iframe width=\"180\" height=\"180\" src=\"https://www.youtube.com/embed/P_ub3sCGpAs?autoplay=1&controls=0&modestbranding&rel=0&mute=1&end=20&loop=1\" frameborder=\"0\"\" ></iframe>"
      ]
     },
     "metadata": {}
    },
    {
     "output_type": "display_data",
     "data": {
      "text/plain": [
       "<IPython.core.display.HTML object>"
      ],
      "text/html": [
       "<iframe width=\"180\" height=\"180\" src=\"https://www.youtube.com/embed/ohTlHa6AX60?autoplay=1&controls=0&modestbranding&rel=0&mute=1&end=20&loop=1\" frameborder=\"0\"\" ></iframe>"
      ]
     },
     "metadata": {}
    },
    {
     "output_type": "display_data",
     "data": {
      "text/plain": [
       "<IPython.core.display.HTML object>"
      ],
      "text/html": [
       "<iframe width=\"180\" height=\"180\" src=\"https://www.youtube.com/embed/PYSSEqZSMD4?autoplay=1&controls=0&modestbranding&rel=0&mute=1&end=20&loop=1\" frameborder=\"0\"\" ></iframe>"
      ]
     },
     "metadata": {}
    }
   ],
   "source": [
    "search_display_video(\"doing archery\")"
   ]
  },
  {
   "cell_type": "code",
   "execution_count": 46,
   "metadata": {
    "tags": [],
    "id": "GmVAeINjSbDM",
    "outputId": "430aae12-db95-4e53-e11b-04c7da20092d",
    "colab": {
     "base_uri": "https://localhost:8080/",
     "height": 570
    }
   },
   "outputs": [
    {
     "output_type": "display_data",
     "data": {
      "text/plain": [
       "<IPython.core.display.HTML object>"
      ],
      "text/html": [
       "<iframe width=\"180\" height=\"180\" src=\"https://www.youtube.com/embed/Pk5nwJQJngU?autoplay=1&controls=0&modestbranding&rel=0&mute=1&end=20&loop=1\" frameborder=\"0\"\" ></iframe>"
      ]
     },
     "metadata": {}
    },
    {
     "output_type": "display_data",
     "data": {
      "text/plain": [
       "<IPython.core.display.HTML object>"
      ],
      "text/html": [
       "<iframe width=\"180\" height=\"180\" src=\"https://www.youtube.com/embed/qMF6b1oXO_o?autoplay=1&controls=0&modestbranding&rel=0&mute=1&end=20&loop=1\" frameborder=\"0\"\" ></iframe>"
      ]
     },
     "metadata": {}
    },
    {
     "output_type": "display_data",
     "data": {
      "text/plain": [
       "<IPython.core.display.HTML object>"
      ],
      "text/html": [
       "<iframe width=\"180\" height=\"180\" src=\"https://www.youtube.com/embed/uUcEbTcSknw?autoplay=1&controls=0&modestbranding&rel=0&mute=1&end=20&loop=1\" frameborder=\"0\"\" ></iframe>"
      ]
     },
     "metadata": {}
    }
   ],
   "source": [
    "search_display_video(\"playing football\")"
   ]
  },
  {
   "cell_type": "code",
   "execution_count": 49,
   "metadata": {
    "tags": [],
    "id": "oPk1BLWISbDM",
    "outputId": "cffa23f8-74e7-4448-9037-b006442444b7",
    "colab": {
     "base_uri": "https://localhost:8080/",
     "height": 570
    }
   },
   "outputs": [
    {
     "output_type": "display_data",
     "data": {
      "text/plain": [
       "<IPython.core.display.HTML object>"
      ],
      "text/html": [
       "<iframe width=\"180\" height=\"180\" src=\"https://www.youtube.com/embed/sCw4oYdMUFc?autoplay=1&controls=0&modestbranding&rel=0&mute=1&end=20&loop=1\" frameborder=\"0\"\" ></iframe>"
      ]
     },
     "metadata": {}
    },
    {
     "output_type": "display_data",
     "data": {
      "text/plain": [
       "<IPython.core.display.HTML object>"
      ],
      "text/html": [
       "<iframe width=\"180\" height=\"180\" src=\"https://www.youtube.com/embed/mjuQvPV9zEA?autoplay=1&controls=0&modestbranding&rel=0&mute=1&end=20&loop=1\" frameborder=\"0\"\" ></iframe>"
      ]
     },
     "metadata": {}
    },
    {
     "output_type": "display_data",
     "data": {
      "text/plain": [
       "<IPython.core.display.HTML object>"
      ],
      "text/html": [
       "<iframe width=\"180\" height=\"180\" src=\"https://www.youtube.com/embed/lPIXAtNGGCw?autoplay=1&controls=0&modestbranding&rel=0&mute=1&end=20&loop=1\" frameborder=\"0\"\" ></iframe>"
      ]
     },
     "metadata": {}
    }
   ],
   "source": [
    "search_display_video(\"man using computer\")"
   ]
  },
  {
   "cell_type": "code",
   "execution_count": 51,
   "metadata": {
    "tags": [],
    "id": "h33MwvODSbDM",
    "outputId": "87ee3a4a-61b0-4b59-d9bf-b1be3c5eda66",
    "colab": {
     "base_uri": "https://localhost:8080/",
     "height": 570
    }
   },
   "outputs": [
    {
     "output_type": "display_data",
     "data": {
      "text/plain": [
       "<IPython.core.display.HTML object>"
      ],
      "text/html": [
       "<iframe width=\"180\" height=\"180\" src=\"https://www.youtube.com/embed/e48ecBs2YMo?autoplay=1&controls=0&modestbranding&rel=0&mute=1&end=20&loop=1\" frameborder=\"0\"\" ></iframe>"
      ]
     },
     "metadata": {}
    },
    {
     "output_type": "display_data",
     "data": {
      "text/plain": [
       "<IPython.core.display.HTML object>"
      ],
      "text/html": [
       "<iframe width=\"180\" height=\"180\" src=\"https://www.youtube.com/embed/J9SgLzxvC1U?autoplay=1&controls=0&modestbranding&rel=0&mute=1&end=20&loop=1\" frameborder=\"0\"\" ></iframe>"
      ]
     },
     "metadata": {}
    },
    {
     "output_type": "display_data",
     "data": {
      "text/plain": [
       "<IPython.core.display.HTML object>"
      ],
      "text/html": [
       "<iframe width=\"180\" height=\"180\" src=\"https://www.youtube.com/embed/I-zbJuDiq9U?autoplay=1&controls=0&modestbranding&rel=0&mute=1&end=20&loop=1\" frameborder=\"0\"\" ></iframe>"
      ]
     },
     "metadata": {}
    }
   ],
   "source": [
    "search_display_video(\"a baby laughing\")"
   ]
  },
  {
   "cell_type": "code",
   "execution_count": 52,
   "metadata": {
    "colab": {
     "base_uri": "https://localhost:8080/",
     "height": 570
    },
    "id": "DGHLvLLQBizb",
    "outputId": "98eeabc3-83d3-4de4-a559-0feafeaa2426",
    "tags": []
   },
   "outputs": [
    {
     "output_type": "display_data",
     "data": {
      "text/plain": [
       "<IPython.core.display.HTML object>"
      ],
      "text/html": [
       "<iframe width=\"180\" height=\"180\" src=\"https://www.youtube.com/embed/JEh0IgVKPtA?autoplay=1&controls=0&modestbranding&rel=0&mute=1&end=20&loop=1\" frameborder=\"0\"\" ></iframe>"
      ]
     },
     "metadata": {}
    },
    {
     "output_type": "display_data",
     "data": {
      "text/plain": [
       "<IPython.core.display.HTML object>"
      ],
      "text/html": [
       "<iframe width=\"180\" height=\"180\" src=\"https://www.youtube.com/embed/Wheaz_JMPiM?autoplay=1&controls=0&modestbranding&rel=0&mute=1&end=20&loop=1\" frameborder=\"0\"\" ></iframe>"
      ]
     },
     "metadata": {}
    },
    {
     "output_type": "display_data",
     "data": {
      "text/plain": [
       "<IPython.core.display.HTML object>"
      ],
      "text/html": [
       "<iframe width=\"180\" height=\"180\" src=\"https://www.youtube.com/embed/HYgEkUIQSt0?autoplay=1&controls=0&modestbranding&rel=0&mute=1&end=20&loop=1\" frameborder=\"0\"\" ></iframe>"
      ]
     },
     "metadata": {}
    }
   ],
   "source": [
    "search_display_video(\"a woman dancing\")"
   ]
  },
  {
   "cell_type": "code",
   "execution_count": 54,
   "metadata": {
    "colab": {
     "base_uri": "https://localhost:8080/",
     "height": 570
    },
    "id": "4VTSoj8xL_u_",
    "outputId": "861b7607-3e6c-4087-c422-08567126f33b",
    "tags": []
   },
   "outputs": [
    {
     "output_type": "display_data",
     "data": {
      "text/plain": [
       "<IPython.core.display.HTML object>"
      ],
      "text/html": [
       "<iframe width=\"180\" height=\"180\" src=\"https://www.youtube.com/embed/VW0EHgL2LOc?autoplay=1&controls=0&modestbranding&rel=0&mute=1&end=20&loop=1\" frameborder=\"0\"\" ></iframe>"
      ]
     },
     "metadata": {}
    },
    {
     "output_type": "display_data",
     "data": {
      "text/plain": [
       "<IPython.core.display.HTML object>"
      ],
      "text/html": [
       "<iframe width=\"180\" height=\"180\" src=\"https://www.youtube.com/embed/X2EJ1eV0v0Y?autoplay=1&controls=0&modestbranding&rel=0&mute=1&end=20&loop=1\" frameborder=\"0\"\" ></iframe>"
      ]
     },
     "metadata": {}
    },
    {
     "output_type": "display_data",
     "data": {
      "text/plain": [
       "<IPython.core.display.HTML object>"
      ],
      "text/html": [
       "<iframe width=\"180\" height=\"180\" src=\"https://www.youtube.com/embed/5hOMxDRnX6E?autoplay=1&controls=0&modestbranding&rel=0&mute=1&end=20&loop=1\" frameborder=\"0\"\" ></iframe>"
      ]
     },
     "metadata": {}
    }
   ],
   "source": [
    "search_display_video(\"walking a dog\")"
   ]
  },
  {
   "cell_type": "markdown",
   "metadata": {
    "id": "1YY3hiL3xNQ5"
   },
   "source": [
    "# Delete the collection\n",
    "\n",
    "If you're done with the collection, we delete it to save resources."
   ]
  },
  {
   "cell_type": "code",
   "execution_count": null,
   "metadata": {
    "id": "DnGtG5iaUArB"
   },
   "outputs": [],
   "source": [
    "client.delete_collection(collection_name=label_collection)"
   ]
  },
  {
   "cell_type": "markdown",
   "metadata": {
    "id": "0HrpQgU2SbDO"
   },
   "source": [
    "---"
   ]
  }
 ],
 "metadata": {
  "accelerator": "GPU",
  "colab": {
   "provenance": [],
   "gpuType": "T4"
  },
  "kernelspec": {
   "display_name": "Python 3",
   "name": "python3"
  },
  "language_info": {
   "codemirror_mode": {
    "name": "ipython",
    "version": 3
   },
   "file_extension": ".py",
   "mimetype": "text/x-python",
   "name": "python",
   "nbconvert_exporter": "python",
   "pygments_lexer": "ipython3",
   "version": "3.11.3"
  },
  "vscode": {
   "interpreter": {
    "hash": "5fe10bf018ef3e697f9035d60bf60847932a12bface18908407fd371fe880db9"
   }
  },
  "widgets": {
   "application/vnd.jupyter.widget-state+json": {
    "1cc592ac598947c6b76153fa21e7dd16": {
     "model_module": "@jupyter-widgets/controls",
     "model_name": "HBoxModel",
     "model_module_version": "1.5.0",
     "state": {
      "_dom_classes": [],
      "_model_module": "@jupyter-widgets/controls",
      "_model_module_version": "1.5.0",
      "_model_name": "HBoxModel",
      "_view_count": null,
      "_view_module": "@jupyter-widgets/controls",
      "_view_module_version": "1.5.0",
      "_view_name": "HBoxView",
      "box_style": "",
      "children": [
       "IPY_MODEL_aeac12df824e47389015acd2448fbc40",
       "IPY_MODEL_f45a70fc390147b5be3ed51a3178c7af",
       "IPY_MODEL_003834610eaf492b8171c53bb2c0fdbb"
      ],
      "layout": "IPY_MODEL_56fdb2e12c494cce998a22547d6b9b4a"
     }
    },
    "aeac12df824e47389015acd2448fbc40": {
     "model_module": "@jupyter-widgets/controls",
     "model_name": "HTMLModel",
     "model_module_version": "1.5.0",
     "state": {
      "_dom_classes": [],
      "_model_module": "@jupyter-widgets/controls",
      "_model_module_version": "1.5.0",
      "_model_name": "HTMLModel",
      "_view_count": null,
      "_view_module": "@jupyter-widgets/controls",
      "_view_module_version": "1.5.0",
      "_view_name": "HTMLView",
      "description": "",
      "description_tooltip": null,
      "layout": "IPY_MODEL_8072dc1c5dcb4c9ca1a3a62deed856ac",
      "placeholder": "​",
      "style": "IPY_MODEL_33512b5dfe3e4d678a2dcab049590c11",
      "value": "Downloading (…)e9125/tokenizer.json: 100%"
     }
    },
    "f45a70fc390147b5be3ed51a3178c7af": {
     "model_module": "@jupyter-widgets/controls",
     "model_name": "FloatProgressModel",
     "model_module_version": "1.5.0",
     "state": {
      "_dom_classes": [],
      "_model_module": "@jupyter-widgets/controls",
      "_model_module_version": "1.5.0",
      "_model_name": "FloatProgressModel",
      "_view_count": null,
      "_view_module": "@jupyter-widgets/controls",
      "_view_module_version": "1.5.0",
      "_view_name": "ProgressView",
      "bar_style": "success",
      "description": "",
      "description_tooltip": null,
      "layout": "IPY_MODEL_c8118c94a23846a1bcf3220942e1bc71",
      "max": 466247,
      "min": 0,
      "orientation": "horizontal",
      "style": "IPY_MODEL_28d8badeecd244f5b9fcf76730df2228",
      "value": 466247
     }
    },
    "003834610eaf492b8171c53bb2c0fdbb": {
     "model_module": "@jupyter-widgets/controls",
     "model_name": "HTMLModel",
     "model_module_version": "1.5.0",
     "state": {
      "_dom_classes": [],
      "_model_module": "@jupyter-widgets/controls",
      "_model_module_version": "1.5.0",
      "_model_name": "HTMLModel",
      "_view_count": null,
      "_view_module": "@jupyter-widgets/controls",
      "_view_module_version": "1.5.0",
      "_view_name": "HTMLView",
      "description": "",
      "description_tooltip": null,
      "layout": "IPY_MODEL_47280e22f66949cf96d8bf7c5ac012dd",
      "placeholder": "​",
      "style": "IPY_MODEL_daf3aa0f15554a4abba7439b4d6ff39b",
      "value": " 466k/466k [00:00&lt;00:00, 6.27MB/s]"
     }
    },
    "56fdb2e12c494cce998a22547d6b9b4a": {
     "model_module": "@jupyter-widgets/base",
     "model_name": "LayoutModel",
     "model_module_version": "1.2.0",
     "state": {
      "_model_module": "@jupyter-widgets/base",
      "_model_module_version": "1.2.0",
      "_model_name": "LayoutModel",
      "_view_count": null,
      "_view_module": "@jupyter-widgets/base",
      "_view_module_version": "1.2.0",
      "_view_name": "LayoutView",
      "align_content": null,
      "align_items": null,
      "align_self": null,
      "border": null,
      "bottom": null,
      "display": null,
      "flex": null,
      "flex_flow": null,
      "grid_area": null,
      "grid_auto_columns": null,
      "grid_auto_flow": null,
      "grid_auto_rows": null,
      "grid_column": null,
      "grid_gap": null,
      "grid_row": null,
      "grid_template_areas": null,
      "grid_template_columns": null,
      "grid_template_rows": null,
      "height": null,
      "justify_content": null,
      "justify_items": null,
      "left": null,
      "margin": null,
      "max_height": null,
      "max_width": null,
      "min_height": null,
      "min_width": null,
      "object_fit": null,
      "object_position": null,
      "order": null,
      "overflow": null,
      "overflow_x": null,
      "overflow_y": null,
      "padding": null,
      "right": null,
      "top": null,
      "visibility": null,
      "width": null
     }
    },
    "8072dc1c5dcb4c9ca1a3a62deed856ac": {
     "model_module": "@jupyter-widgets/base",
     "model_name": "LayoutModel",
     "model_module_version": "1.2.0",
     "state": {
      "_model_module": "@jupyter-widgets/base",
      "_model_module_version": "1.2.0",
      "_model_name": "LayoutModel",
      "_view_count": null,
      "_view_module": "@jupyter-widgets/base",
      "_view_module_version": "1.2.0",
      "_view_name": "LayoutView",
      "align_content": null,
      "align_items": null,
      "align_self": null,
      "border": null,
      "bottom": null,
      "display": null,
      "flex": null,
      "flex_flow": null,
      "grid_area": null,
      "grid_auto_columns": null,
      "grid_auto_flow": null,
      "grid_auto_rows": null,
      "grid_column": null,
      "grid_gap": null,
      "grid_row": null,
      "grid_template_areas": null,
      "grid_template_columns": null,
      "grid_template_rows": null,
      "height": null,
      "justify_content": null,
      "justify_items": null,
      "left": null,
      "margin": null,
      "max_height": null,
      "max_width": null,
      "min_height": null,
      "min_width": null,
      "object_fit": null,
      "object_position": null,
      "order": null,
      "overflow": null,
      "overflow_x": null,
      "overflow_y": null,
      "padding": null,
      "right": null,
      "top": null,
      "visibility": null,
      "width": null
     }
    },
    "33512b5dfe3e4d678a2dcab049590c11": {
     "model_module": "@jupyter-widgets/controls",
     "model_name": "DescriptionStyleModel",
     "model_module_version": "1.5.0",
     "state": {
      "_model_module": "@jupyter-widgets/controls",
      "_model_module_version": "1.5.0",
      "_model_name": "DescriptionStyleModel",
      "_view_count": null,
      "_view_module": "@jupyter-widgets/base",
      "_view_module_version": "1.2.0",
      "_view_name": "StyleView",
      "description_width": ""
     }
    },
    "c8118c94a23846a1bcf3220942e1bc71": {
     "model_module": "@jupyter-widgets/base",
     "model_name": "LayoutModel",
     "model_module_version": "1.2.0",
     "state": {
      "_model_module": "@jupyter-widgets/base",
      "_model_module_version": "1.2.0",
      "_model_name": "LayoutModel",
      "_view_count": null,
      "_view_module": "@jupyter-widgets/base",
      "_view_module_version": "1.2.0",
      "_view_name": "LayoutView",
      "align_content": null,
      "align_items": null,
      "align_self": null,
      "border": null,
      "bottom": null,
      "display": null,
      "flex": null,
      "flex_flow": null,
      "grid_area": null,
      "grid_auto_columns": null,
      "grid_auto_flow": null,
      "grid_auto_rows": null,
      "grid_column": null,
      "grid_gap": null,
      "grid_row": null,
      "grid_template_areas": null,
      "grid_template_columns": null,
      "grid_template_rows": null,
      "height": null,
      "justify_content": null,
      "justify_items": null,
      "left": null,
      "margin": null,
      "max_height": null,
      "max_width": null,
      "min_height": null,
      "min_width": null,
      "object_fit": null,
      "object_position": null,
      "order": null,
      "overflow": null,
      "overflow_x": null,
      "overflow_y": null,
      "padding": null,
      "right": null,
      "top": null,
      "visibility": null,
      "width": null
     }
    },
    "28d8badeecd244f5b9fcf76730df2228": {
     "model_module": "@jupyter-widgets/controls",
     "model_name": "ProgressStyleModel",
     "model_module_version": "1.5.0",
     "state": {
      "_model_module": "@jupyter-widgets/controls",
      "_model_module_version": "1.5.0",
      "_model_name": "ProgressStyleModel",
      "_view_count": null,
      "_view_module": "@jupyter-widgets/base",
      "_view_module_version": "1.2.0",
      "_view_name": "StyleView",
      "bar_color": null,
      "description_width": ""
     }
    },
    "47280e22f66949cf96d8bf7c5ac012dd": {
     "model_module": "@jupyter-widgets/base",
     "model_name": "LayoutModel",
     "model_module_version": "1.2.0",
     "state": {
      "_model_module": "@jupyter-widgets/base",
      "_model_module_version": "1.2.0",
      "_model_name": "LayoutModel",
      "_view_count": null,
      "_view_module": "@jupyter-widgets/base",
      "_view_module_version": "1.2.0",
      "_view_name": "LayoutView",
      "align_content": null,
      "align_items": null,
      "align_self": null,
      "border": null,
      "bottom": null,
      "display": null,
      "flex": null,
      "flex_flow": null,
      "grid_area": null,
      "grid_auto_columns": null,
      "grid_auto_flow": null,
      "grid_auto_rows": null,
      "grid_column": null,
      "grid_gap": null,
      "grid_row": null,
      "grid_template_areas": null,
      "grid_template_columns": null,
      "grid_template_rows": null,
      "height": null,
      "justify_content": null,
      "justify_items": null,
      "left": null,
      "margin": null,
      "max_height": null,
      "max_width": null,
      "min_height": null,
      "min_width": null,
      "object_fit": null,
      "object_position": null,
      "order": null,
      "overflow": null,
      "overflow_x": null,
      "overflow_y": null,
      "padding": null,
      "right": null,
      "top": null,
      "visibility": null,
      "width": null
     }
    },
    "daf3aa0f15554a4abba7439b4d6ff39b": {
     "model_module": "@jupyter-widgets/controls",
     "model_name": "DescriptionStyleModel",
     "model_module_version": "1.5.0",
     "state": {
      "_model_module": "@jupyter-widgets/controls",
      "_model_module_version": "1.5.0",
      "_model_name": "DescriptionStyleModel",
      "_view_count": null,
      "_view_module": "@jupyter-widgets/base",
      "_view_module_version": "1.2.0",
      "_view_name": "StyleView",
      "description_width": ""
     }
    },
    "80fdac17e75c4339b8dc1394b048c502": {
     "model_module": "@jupyter-widgets/controls",
     "model_name": "HBoxModel",
     "model_module_version": "1.5.0",
     "state": {
      "_dom_classes": [],
      "_model_module": "@jupyter-widgets/controls",
      "_model_module_version": "1.5.0",
      "_model_name": "HBoxModel",
      "_view_count": null,
      "_view_module": "@jupyter-widgets/controls",
      "_view_module_version": "1.5.0",
      "_view_name": "HBoxView",
      "box_style": "",
      "children": [
       "IPY_MODEL_726b55e3e1c144679c2460c29aa730d5",
       "IPY_MODEL_67082820c9814f6b922cf4c273693b33",
       "IPY_MODEL_0508fbb485e94e98b95a11ee509cf80e"
      ],
      "layout": "IPY_MODEL_10cf409459f4493387d9fc245571d35b"
     }
    },
    "726b55e3e1c144679c2460c29aa730d5": {
     "model_module": "@jupyter-widgets/controls",
     "model_name": "HTMLModel",
     "model_module_version": "1.5.0",
     "state": {
      "_dom_classes": [],
      "_model_module": "@jupyter-widgets/controls",
      "_model_module_version": "1.5.0",
      "_model_name": "HTMLModel",
      "_view_count": null,
      "_view_module": "@jupyter-widgets/controls",
      "_view_module_version": "1.5.0",
      "_view_name": "HTMLView",
      "description": "",
      "description_tooltip": null,
      "layout": "IPY_MODEL_1d4256f6320b4258bbd7b6e80e34a2ba",
      "placeholder": "​",
      "style": "IPY_MODEL_62662d040bab4368a9261d55f84d93c7",
      "value": "Downloading (…)okenizer_config.json: 100%"
     }
    },
    "67082820c9814f6b922cf4c273693b33": {
     "model_module": "@jupyter-widgets/controls",
     "model_name": "FloatProgressModel",
     "model_module_version": "1.5.0",
     "state": {
      "_dom_classes": [],
      "_model_module": "@jupyter-widgets/controls",
      "_model_module_version": "1.5.0",
      "_model_name": "FloatProgressModel",
      "_view_count": null,
      "_view_module": "@jupyter-widgets/controls",
      "_view_module_version": "1.5.0",
      "_view_name": "ProgressView",
      "bar_style": "success",
      "description": "",
      "description_tooltip": null,
      "layout": "IPY_MODEL_11ab717b98644e0aad06e59064fa0e16",
      "max": 350,
      "min": 0,
      "orientation": "horizontal",
      "style": "IPY_MODEL_803f1cc855284cc4887eb29d6fe7cbe6",
      "value": 350
     }
    },
    "0508fbb485e94e98b95a11ee509cf80e": {
     "model_module": "@jupyter-widgets/controls",
     "model_name": "HTMLModel",
     "model_module_version": "1.5.0",
     "state": {
      "_dom_classes": [],
      "_model_module": "@jupyter-widgets/controls",
      "_model_module_version": "1.5.0",
      "_model_name": "HTMLModel",
      "_view_count": null,
      "_view_module": "@jupyter-widgets/controls",
      "_view_module_version": "1.5.0",
      "_view_name": "HTMLView",
      "description": "",
      "description_tooltip": null,
      "layout": "IPY_MODEL_8ba73b87fe304daaafea885b024bc2a0",
      "placeholder": "​",
      "style": "IPY_MODEL_4efdf5e83ab84924985da1010dec5a57",
      "value": " 350/350 [00:00&lt;00:00, 26.4kB/s]"
     }
    },
    "10cf409459f4493387d9fc245571d35b": {
     "model_module": "@jupyter-widgets/base",
     "model_name": "LayoutModel",
     "model_module_version": "1.2.0",
     "state": {
      "_model_module": "@jupyter-widgets/base",
      "_model_module_version": "1.2.0",
      "_model_name": "LayoutModel",
      "_view_count": null,
      "_view_module": "@jupyter-widgets/base",
      "_view_module_version": "1.2.0",
      "_view_name": "LayoutView",
      "align_content": null,
      "align_items": null,
      "align_self": null,
      "border": null,
      "bottom": null,
      "display": null,
      "flex": null,
      "flex_flow": null,
      "grid_area": null,
      "grid_auto_columns": null,
      "grid_auto_flow": null,
      "grid_auto_rows": null,
      "grid_column": null,
      "grid_gap": null,
      "grid_row": null,
      "grid_template_areas": null,
      "grid_template_columns": null,
      "grid_template_rows": null,
      "height": null,
      "justify_content": null,
      "justify_items": null,
      "left": null,
      "margin": null,
      "max_height": null,
      "max_width": null,
      "min_height": null,
      "min_width": null,
      "object_fit": null,
      "object_position": null,
      "order": null,
      "overflow": null,
      "overflow_x": null,
      "overflow_y": null,
      "padding": null,
      "right": null,
      "top": null,
      "visibility": null,
      "width": null
     }
    },
    "1d4256f6320b4258bbd7b6e80e34a2ba": {
     "model_module": "@jupyter-widgets/base",
     "model_name": "LayoutModel",
     "model_module_version": "1.2.0",
     "state": {
      "_model_module": "@jupyter-widgets/base",
      "_model_module_version": "1.2.0",
      "_model_name": "LayoutModel",
      "_view_count": null,
      "_view_module": "@jupyter-widgets/base",
      "_view_module_version": "1.2.0",
      "_view_name": "LayoutView",
      "align_content": null,
      "align_items": null,
      "align_self": null,
      "border": null,
      "bottom": null,
      "display": null,
      "flex": null,
      "flex_flow": null,
      "grid_area": null,
      "grid_auto_columns": null,
      "grid_auto_flow": null,
      "grid_auto_rows": null,
      "grid_column": null,
      "grid_gap": null,
      "grid_row": null,
      "grid_template_areas": null,
      "grid_template_columns": null,
      "grid_template_rows": null,
      "height": null,
      "justify_content": null,
      "justify_items": null,
      "left": null,
      "margin": null,
      "max_height": null,
      "max_width": null,
      "min_height": null,
      "min_width": null,
      "object_fit": null,
      "object_position": null,
      "order": null,
      "overflow": null,
      "overflow_x": null,
      "overflow_y": null,
      "padding": null,
      "right": null,
      "top": null,
      "visibility": null,
      "width": null
     }
    },
    "62662d040bab4368a9261d55f84d93c7": {
     "model_module": "@jupyter-widgets/controls",
     "model_name": "DescriptionStyleModel",
     "model_module_version": "1.5.0",
     "state": {
      "_model_module": "@jupyter-widgets/controls",
      "_model_module_version": "1.5.0",
      "_model_name": "DescriptionStyleModel",
      "_view_count": null,
      "_view_module": "@jupyter-widgets/base",
      "_view_module_version": "1.2.0",
      "_view_name": "StyleView",
      "description_width": ""
     }
    },
    "11ab717b98644e0aad06e59064fa0e16": {
     "model_module": "@jupyter-widgets/base",
     "model_name": "LayoutModel",
     "model_module_version": "1.2.0",
     "state": {
      "_model_module": "@jupyter-widgets/base",
      "_model_module_version": "1.2.0",
      "_model_name": "LayoutModel",
      "_view_count": null,
      "_view_module": "@jupyter-widgets/base",
      "_view_module_version": "1.2.0",
      "_view_name": "LayoutView",
      "align_content": null,
      "align_items": null,
      "align_self": null,
      "border": null,
      "bottom": null,
      "display": null,
      "flex": null,
      "flex_flow": null,
      "grid_area": null,
      "grid_auto_columns": null,
      "grid_auto_flow": null,
      "grid_auto_rows": null,
      "grid_column": null,
      "grid_gap": null,
      "grid_row": null,
      "grid_template_areas": null,
      "grid_template_columns": null,
      "grid_template_rows": null,
      "height": null,
      "justify_content": null,
      "justify_items": null,
      "left": null,
      "margin": null,
      "max_height": null,
      "max_width": null,
      "min_height": null,
      "min_width": null,
      "object_fit": null,
      "object_position": null,
      "order": null,
      "overflow": null,
      "overflow_x": null,
      "overflow_y": null,
      "padding": null,
      "right": null,
      "top": null,
      "visibility": null,
      "width": null
     }
    },
    "803f1cc855284cc4887eb29d6fe7cbe6": {
     "model_module": "@jupyter-widgets/controls",
     "model_name": "ProgressStyleModel",
     "model_module_version": "1.5.0",
     "state": {
      "_model_module": "@jupyter-widgets/controls",
      "_model_module_version": "1.5.0",
      "_model_name": "ProgressStyleModel",
      "_view_count": null,
      "_view_module": "@jupyter-widgets/base",
      "_view_module_version": "1.2.0",
      "_view_name": "StyleView",
      "bar_color": null,
      "description_width": ""
     }
    },
    "8ba73b87fe304daaafea885b024bc2a0": {
     "model_module": "@jupyter-widgets/base",
     "model_name": "LayoutModel",
     "model_module_version": "1.2.0",
     "state": {
      "_model_module": "@jupyter-widgets/base",
      "_model_module_version": "1.2.0",
      "_model_name": "LayoutModel",
      "_view_count": null,
      "_view_module": "@jupyter-widgets/base",
      "_view_module_version": "1.2.0",
      "_view_name": "LayoutView",
      "align_content": null,
      "align_items": null,
      "align_self": null,
      "border": null,
      "bottom": null,
      "display": null,
      "flex": null,
      "flex_flow": null,
      "grid_area": null,
      "grid_auto_columns": null,
      "grid_auto_flow": null,
      "grid_auto_rows": null,
      "grid_column": null,
      "grid_gap": null,
      "grid_row": null,
      "grid_template_areas": null,
      "grid_template_columns": null,
      "grid_template_rows": null,
      "height": null,
      "justify_content": null,
      "justify_items": null,
      "left": null,
      "margin": null,
      "max_height": null,
      "max_width": null,
      "min_height": null,
      "min_width": null,
      "object_fit": null,
      "object_position": null,
      "order": null,
      "overflow": null,
      "overflow_x": null,
      "overflow_y": null,
      "padding": null,
      "right": null,
      "top": null,
      "visibility": null,
      "width": null
     }
    },
    "4efdf5e83ab84924985da1010dec5a57": {
     "model_module": "@jupyter-widgets/controls",
     "model_name": "DescriptionStyleModel",
     "model_module_version": "1.5.0",
     "state": {
      "_model_module": "@jupyter-widgets/controls",
      "_model_module_version": "1.5.0",
      "_model_name": "DescriptionStyleModel",
      "_view_count": null,
      "_view_module": "@jupyter-widgets/base",
      "_view_module_version": "1.2.0",
      "_view_name": "StyleView",
      "description_width": ""
     }
    },
    "be3d102d32504c3d96440a1896a6f3d3": {
     "model_module": "@jupyter-widgets/controls",
     "model_name": "HBoxModel",
     "model_module_version": "1.5.0",
     "state": {
      "_dom_classes": [],
      "_model_module": "@jupyter-widgets/controls",
      "_model_module_version": "1.5.0",
      "_model_name": "HBoxModel",
      "_view_count": null,
      "_view_module": "@jupyter-widgets/controls",
      "_view_module_version": "1.5.0",
      "_view_name": "HBoxView",
      "box_style": "",
      "children": [
       "IPY_MODEL_77ab0c75a62e4679b467c496940bdfb6",
       "IPY_MODEL_bc57287994454a49a07e9240ab920e89",
       "IPY_MODEL_78f356f8471f4733ba9599bab6620276"
      ],
      "layout": "IPY_MODEL_78dffafa74534c518f576de51a4b5b60"
     }
    },
    "77ab0c75a62e4679b467c496940bdfb6": {
     "model_module": "@jupyter-widgets/controls",
     "model_name": "HTMLModel",
     "model_module_version": "1.5.0",
     "state": {
      "_dom_classes": [],
      "_model_module": "@jupyter-widgets/controls",
      "_model_module_version": "1.5.0",
      "_model_name": "HTMLModel",
      "_view_count": null,
      "_view_module": "@jupyter-widgets/controls",
      "_view_module_version": "1.5.0",
      "_view_name": "HTMLView",
      "description": "",
      "description_tooltip": null,
      "layout": "IPY_MODEL_72bce8eb341f47919708fcd23864c2a3",
      "placeholder": "​",
      "style": "IPY_MODEL_004e3826b3c34d1b9561c3b845c6c305",
      "value": "Downloading (…)9125/train_script.py: 100%"
     }
    },
    "bc57287994454a49a07e9240ab920e89": {
     "model_module": "@jupyter-widgets/controls",
     "model_name": "FloatProgressModel",
     "model_module_version": "1.5.0",
     "state": {
      "_dom_classes": [],
      "_model_module": "@jupyter-widgets/controls",
      "_model_module_version": "1.5.0",
      "_model_name": "FloatProgressModel",
      "_view_count": null,
      "_view_module": "@jupyter-widgets/controls",
      "_view_module_version": "1.5.0",
      "_view_name": "ProgressView",
      "bar_style": "success",
      "description": "",
      "description_tooltip": null,
      "layout": "IPY_MODEL_1299e9269e4b497f9dfccbe5129135da",
      "max": 13156,
      "min": 0,
      "orientation": "horizontal",
      "style": "IPY_MODEL_1befc645a801400d9e552e2a1264f881",
      "value": 13156
     }
    },
    "78f356f8471f4733ba9599bab6620276": {
     "model_module": "@jupyter-widgets/controls",
     "model_name": "HTMLModel",
     "model_module_version": "1.5.0",
     "state": {
      "_dom_classes": [],
      "_model_module": "@jupyter-widgets/controls",
      "_model_module_version": "1.5.0",
      "_model_name": "HTMLModel",
      "_view_count": null,
      "_view_module": "@jupyter-widgets/controls",
      "_view_module_version": "1.5.0",
      "_view_name": "HTMLView",
      "description": "",
      "description_tooltip": null,
      "layout": "IPY_MODEL_07ff8f979c8244bb8bb8395ec1fd977d",
      "placeholder": "​",
      "style": "IPY_MODEL_9ab2a1785be042a79866518b15849f59",
      "value": " 13.2k/13.2k [00:00&lt;00:00, 881kB/s]"
     }
    },
    "78dffafa74534c518f576de51a4b5b60": {
     "model_module": "@jupyter-widgets/base",
     "model_name": "LayoutModel",
     "model_module_version": "1.2.0",
     "state": {
      "_model_module": "@jupyter-widgets/base",
      "_model_module_version": "1.2.0",
      "_model_name": "LayoutModel",
      "_view_count": null,
      "_view_module": "@jupyter-widgets/base",
      "_view_module_version": "1.2.0",
      "_view_name": "LayoutView",
      "align_content": null,
      "align_items": null,
      "align_self": null,
      "border": null,
      "bottom": null,
      "display": null,
      "flex": null,
      "flex_flow": null,
      "grid_area": null,
      "grid_auto_columns": null,
      "grid_auto_flow": null,
      "grid_auto_rows": null,
      "grid_column": null,
      "grid_gap": null,
      "grid_row": null,
      "grid_template_areas": null,
      "grid_template_columns": null,
      "grid_template_rows": null,
      "height": null,
      "justify_content": null,
      "justify_items": null,
      "left": null,
      "margin": null,
      "max_height": null,
      "max_width": null,
      "min_height": null,
      "min_width": null,
      "object_fit": null,
      "object_position": null,
      "order": null,
      "overflow": null,
      "overflow_x": null,
      "overflow_y": null,
      "padding": null,
      "right": null,
      "top": null,
      "visibility": null,
      "width": null
     }
    },
    "72bce8eb341f47919708fcd23864c2a3": {
     "model_module": "@jupyter-widgets/base",
     "model_name": "LayoutModel",
     "model_module_version": "1.2.0",
     "state": {
      "_model_module": "@jupyter-widgets/base",
      "_model_module_version": "1.2.0",
      "_model_name": "LayoutModel",
      "_view_count": null,
      "_view_module": "@jupyter-widgets/base",
      "_view_module_version": "1.2.0",
      "_view_name": "LayoutView",
      "align_content": null,
      "align_items": null,
      "align_self": null,
      "border": null,
      "bottom": null,
      "display": null,
      "flex": null,
      "flex_flow": null,
      "grid_area": null,
      "grid_auto_columns": null,
      "grid_auto_flow": null,
      "grid_auto_rows": null,
      "grid_column": null,
      "grid_gap": null,
      "grid_row": null,
      "grid_template_areas": null,
      "grid_template_columns": null,
      "grid_template_rows": null,
      "height": null,
      "justify_content": null,
      "justify_items": null,
      "left": null,
      "margin": null,
      "max_height": null,
      "max_width": null,
      "min_height": null,
      "min_width": null,
      "object_fit": null,
      "object_position": null,
      "order": null,
      "overflow": null,
      "overflow_x": null,
      "overflow_y": null,
      "padding": null,
      "right": null,
      "top": null,
      "visibility": null,
      "width": null
     }
    },
    "004e3826b3c34d1b9561c3b845c6c305": {
     "model_module": "@jupyter-widgets/controls",
     "model_name": "DescriptionStyleModel",
     "model_module_version": "1.5.0",
     "state": {
      "_model_module": "@jupyter-widgets/controls",
      "_model_module_version": "1.5.0",
      "_model_name": "DescriptionStyleModel",
      "_view_count": null,
      "_view_module": "@jupyter-widgets/base",
      "_view_module_version": "1.2.0",
      "_view_name": "StyleView",
      "description_width": ""
     }
    },
    "1299e9269e4b497f9dfccbe5129135da": {
     "model_module": "@jupyter-widgets/base",
     "model_name": "LayoutModel",
     "model_module_version": "1.2.0",
     "state": {
      "_model_module": "@jupyter-widgets/base",
      "_model_module_version": "1.2.0",
      "_model_name": "LayoutModel",
      "_view_count": null,
      "_view_module": "@jupyter-widgets/base",
      "_view_module_version": "1.2.0",
      "_view_name": "LayoutView",
      "align_content": null,
      "align_items": null,
      "align_self": null,
      "border": null,
      "bottom": null,
      "display": null,
      "flex": null,
      "flex_flow": null,
      "grid_area": null,
      "grid_auto_columns": null,
      "grid_auto_flow": null,
      "grid_auto_rows": null,
      "grid_column": null,
      "grid_gap": null,
      "grid_row": null,
      "grid_template_areas": null,
      "grid_template_columns": null,
      "grid_template_rows": null,
      "height": null,
      "justify_content": null,
      "justify_items": null,
      "left": null,
      "margin": null,
      "max_height": null,
      "max_width": null,
      "min_height": null,
      "min_width": null,
      "object_fit": null,
      "object_position": null,
      "order": null,
      "overflow": null,
      "overflow_x": null,
      "overflow_y": null,
      "padding": null,
      "right": null,
      "top": null,
      "visibility": null,
      "width": null
     }
    },
    "1befc645a801400d9e552e2a1264f881": {
     "model_module": "@jupyter-widgets/controls",
     "model_name": "ProgressStyleModel",
     "model_module_version": "1.5.0",
     "state": {
      "_model_module": "@jupyter-widgets/controls",
      "_model_module_version": "1.5.0",
      "_model_name": "ProgressStyleModel",
      "_view_count": null,
      "_view_module": "@jupyter-widgets/base",
      "_view_module_version": "1.2.0",
      "_view_name": "StyleView",
      "bar_color": null,
      "description_width": ""
     }
    },
    "07ff8f979c8244bb8bb8395ec1fd977d": {
     "model_module": "@jupyter-widgets/base",
     "model_name": "LayoutModel",
     "model_module_version": "1.2.0",
     "state": {
      "_model_module": "@jupyter-widgets/base",
      "_model_module_version": "1.2.0",
      "_model_name": "LayoutModel",
      "_view_count": null,
      "_view_module": "@jupyter-widgets/base",
      "_view_module_version": "1.2.0",
      "_view_name": "LayoutView",
      "align_content": null,
      "align_items": null,
      "align_self": null,
      "border": null,
      "bottom": null,
      "display": null,
      "flex": null,
      "flex_flow": null,
      "grid_area": null,
      "grid_auto_columns": null,
      "grid_auto_flow": null,
      "grid_auto_rows": null,
      "grid_column": null,
      "grid_gap": null,
      "grid_row": null,
      "grid_template_areas": null,
      "grid_template_columns": null,
      "grid_template_rows": null,
      "height": null,
      "justify_content": null,
      "justify_items": null,
      "left": null,
      "margin": null,
      "max_height": null,
      "max_width": null,
      "min_height": null,
      "min_width": null,
      "object_fit": null,
      "object_position": null,
      "order": null,
      "overflow": null,
      "overflow_x": null,
      "overflow_y": null,
      "padding": null,
      "right": null,
      "top": null,
      "visibility": null,
      "width": null
     }
    },
    "9ab2a1785be042a79866518b15849f59": {
     "model_module": "@jupyter-widgets/controls",
     "model_name": "DescriptionStyleModel",
     "model_module_version": "1.5.0",
     "state": {
      "_model_module": "@jupyter-widgets/controls",
      "_model_module_version": "1.5.0",
      "_model_name": "DescriptionStyleModel",
      "_view_count": null,
      "_view_module": "@jupyter-widgets/base",
      "_view_module_version": "1.2.0",
      "_view_name": "StyleView",
      "description_width": ""
     }
    },
    "974e1c32d0ad46549465e82a2d5e8d50": {
     "model_module": "@jupyter-widgets/controls",
     "model_name": "HBoxModel",
     "model_module_version": "1.5.0",
     "state": {
      "_dom_classes": [],
      "_model_module": "@jupyter-widgets/controls",
      "_model_module_version": "1.5.0",
      "_model_name": "HBoxModel",
      "_view_count": null,
      "_view_module": "@jupyter-widgets/controls",
      "_view_module_version": "1.5.0",
      "_view_name": "HBoxView",
      "box_style": "",
      "children": [
       "IPY_MODEL_ac7daa1ef4c94c028829e9bb920a4554",
       "IPY_MODEL_fd2c383c482e454185ffd479ee047390",
       "IPY_MODEL_b9d2329073d6449ab517f7cf011d4c1f"
      ],
      "layout": "IPY_MODEL_6d674a9639bb433a8c050030155096a6"
     }
    },
    "ac7daa1ef4c94c028829e9bb920a4554": {
     "model_module": "@jupyter-widgets/controls",
     "model_name": "HTMLModel",
     "model_module_version": "1.5.0",
     "state": {
      "_dom_classes": [],
      "_model_module": "@jupyter-widgets/controls",
      "_model_module_version": "1.5.0",
      "_model_name": "HTMLModel",
      "_view_count": null,
      "_view_module": "@jupyter-widgets/controls",
      "_view_module_version": "1.5.0",
      "_view_name": "HTMLView",
      "description": "",
      "description_tooltip": null,
      "layout": "IPY_MODEL_3001921b557145f2a2e1e3dc68732c20",
      "placeholder": "​",
      "style": "IPY_MODEL_fa88cd00bb8546faaafea5ae6a5709aa",
      "value": "Downloading (…)7e55de9125/vocab.txt: 100%"
     }
    },
    "fd2c383c482e454185ffd479ee047390": {
     "model_module": "@jupyter-widgets/controls",
     "model_name": "FloatProgressModel",
     "model_module_version": "1.5.0",
     "state": {
      "_dom_classes": [],
      "_model_module": "@jupyter-widgets/controls",
      "_model_module_version": "1.5.0",
      "_model_name": "FloatProgressModel",
      "_view_count": null,
      "_view_module": "@jupyter-widgets/controls",
      "_view_module_version": "1.5.0",
      "_view_name": "ProgressView",
      "bar_style": "success",
      "description": "",
      "description_tooltip": null,
      "layout": "IPY_MODEL_a241cef20d9e4636ab35cfd2ccd4a10e",
      "max": 231508,
      "min": 0,
      "orientation": "horizontal",
      "style": "IPY_MODEL_99819c2a231d48138e6023a04b83778d",
      "value": 231508
     }
    },
    "b9d2329073d6449ab517f7cf011d4c1f": {
     "model_module": "@jupyter-widgets/controls",
     "model_name": "HTMLModel",
     "model_module_version": "1.5.0",
     "state": {
      "_dom_classes": [],
      "_model_module": "@jupyter-widgets/controls",
      "_model_module_version": "1.5.0",
      "_model_name": "HTMLModel",
      "_view_count": null,
      "_view_module": "@jupyter-widgets/controls",
      "_view_module_version": "1.5.0",
      "_view_name": "HTMLView",
      "description": "",
      "description_tooltip": null,
      "layout": "IPY_MODEL_83b897f825df47f499f10766d38e0a1b",
      "placeholder": "​",
      "style": "IPY_MODEL_3e198ba96de042ab8185cfbded8a1f13",
      "value": " 232k/232k [00:00&lt;00:00, 9.89MB/s]"
     }
    },
    "6d674a9639bb433a8c050030155096a6": {
     "model_module": "@jupyter-widgets/base",
     "model_name": "LayoutModel",
     "model_module_version": "1.2.0",
     "state": {
      "_model_module": "@jupyter-widgets/base",
      "_model_module_version": "1.2.0",
      "_model_name": "LayoutModel",
      "_view_count": null,
      "_view_module": "@jupyter-widgets/base",
      "_view_module_version": "1.2.0",
      "_view_name": "LayoutView",
      "align_content": null,
      "align_items": null,
      "align_self": null,
      "border": null,
      "bottom": null,
      "display": null,
      "flex": null,
      "flex_flow": null,
      "grid_area": null,
      "grid_auto_columns": null,
      "grid_auto_flow": null,
      "grid_auto_rows": null,
      "grid_column": null,
      "grid_gap": null,
      "grid_row": null,
      "grid_template_areas": null,
      "grid_template_columns": null,
      "grid_template_rows": null,
      "height": null,
      "justify_content": null,
      "justify_items": null,
      "left": null,
      "margin": null,
      "max_height": null,
      "max_width": null,
      "min_height": null,
      "min_width": null,
      "object_fit": null,
      "object_position": null,
      "order": null,
      "overflow": null,
      "overflow_x": null,
      "overflow_y": null,
      "padding": null,
      "right": null,
      "top": null,
      "visibility": null,
      "width": null
     }
    },
    "3001921b557145f2a2e1e3dc68732c20": {
     "model_module": "@jupyter-widgets/base",
     "model_name": "LayoutModel",
     "model_module_version": "1.2.0",
     "state": {
      "_model_module": "@jupyter-widgets/base",
      "_model_module_version": "1.2.0",
      "_model_name": "LayoutModel",
      "_view_count": null,
      "_view_module": "@jupyter-widgets/base",
      "_view_module_version": "1.2.0",
      "_view_name": "LayoutView",
      "align_content": null,
      "align_items": null,
      "align_self": null,
      "border": null,
      "bottom": null,
      "display": null,
      "flex": null,
      "flex_flow": null,
      "grid_area": null,
      "grid_auto_columns": null,
      "grid_auto_flow": null,
      "grid_auto_rows": null,
      "grid_column": null,
      "grid_gap": null,
      "grid_row": null,
      "grid_template_areas": null,
      "grid_template_columns": null,
      "grid_template_rows": null,
      "height": null,
      "justify_content": null,
      "justify_items": null,
      "left": null,
      "margin": null,
      "max_height": null,
      "max_width": null,
      "min_height": null,
      "min_width": null,
      "object_fit": null,
      "object_position": null,
      "order": null,
      "overflow": null,
      "overflow_x": null,
      "overflow_y": null,
      "padding": null,
      "right": null,
      "top": null,
      "visibility": null,
      "width": null
     }
    },
    "fa88cd00bb8546faaafea5ae6a5709aa": {
     "model_module": "@jupyter-widgets/controls",
     "model_name": "DescriptionStyleModel",
     "model_module_version": "1.5.0",
     "state": {
      "_model_module": "@jupyter-widgets/controls",
      "_model_module_version": "1.5.0",
      "_model_name": "DescriptionStyleModel",
      "_view_count": null,
      "_view_module": "@jupyter-widgets/base",
      "_view_module_version": "1.2.0",
      "_view_name": "StyleView",
      "description_width": ""
     }
    },
    "a241cef20d9e4636ab35cfd2ccd4a10e": {
     "model_module": "@jupyter-widgets/base",
     "model_name": "LayoutModel",
     "model_module_version": "1.2.0",
     "state": {
      "_model_module": "@jupyter-widgets/base",
      "_model_module_version": "1.2.0",
      "_model_name": "LayoutModel",
      "_view_count": null,
      "_view_module": "@jupyter-widgets/base",
      "_view_module_version": "1.2.0",
      "_view_name": "LayoutView",
      "align_content": null,
      "align_items": null,
      "align_self": null,
      "border": null,
      "bottom": null,
      "display": null,
      "flex": null,
      "flex_flow": null,
      "grid_area": null,
      "grid_auto_columns": null,
      "grid_auto_flow": null,
      "grid_auto_rows": null,
      "grid_column": null,
      "grid_gap": null,
      "grid_row": null,
      "grid_template_areas": null,
      "grid_template_columns": null,
      "grid_template_rows": null,
      "height": null,
      "justify_content": null,
      "justify_items": null,
      "left": null,
      "margin": null,
      "max_height": null,
      "max_width": null,
      "min_height": null,
      "min_width": null,
      "object_fit": null,
      "object_position": null,
      "order": null,
      "overflow": null,
      "overflow_x": null,
      "overflow_y": null,
      "padding": null,
      "right": null,
      "top": null,
      "visibility": null,
      "width": null
     }
    },
    "99819c2a231d48138e6023a04b83778d": {
     "model_module": "@jupyter-widgets/controls",
     "model_name": "ProgressStyleModel",
     "model_module_version": "1.5.0",
     "state": {
      "_model_module": "@jupyter-widgets/controls",
      "_model_module_version": "1.5.0",
      "_model_name": "ProgressStyleModel",
      "_view_count": null,
      "_view_module": "@jupyter-widgets/base",
      "_view_module_version": "1.2.0",
      "_view_name": "StyleView",
      "bar_color": null,
      "description_width": ""
     }
    },
    "83b897f825df47f499f10766d38e0a1b": {
     "model_module": "@jupyter-widgets/base",
     "model_name": "LayoutModel",
     "model_module_version": "1.2.0",
     "state": {
      "_model_module": "@jupyter-widgets/base",
      "_model_module_version": "1.2.0",
      "_model_name": "LayoutModel",
      "_view_count": null,
      "_view_module": "@jupyter-widgets/base",
      "_view_module_version": "1.2.0",
      "_view_name": "LayoutView",
      "align_content": null,
      "align_items": null,
      "align_self": null,
      "border": null,
      "bottom": null,
      "display": null,
      "flex": null,
      "flex_flow": null,
      "grid_area": null,
      "grid_auto_columns": null,
      "grid_auto_flow": null,
      "grid_auto_rows": null,
      "grid_column": null,
      "grid_gap": null,
      "grid_row": null,
      "grid_template_areas": null,
      "grid_template_columns": null,
      "grid_template_rows": null,
      "height": null,
      "justify_content": null,
      "justify_items": null,
      "left": null,
      "margin": null,
      "max_height": null,
      "max_width": null,
      "min_height": null,
      "min_width": null,
      "object_fit": null,
      "object_position": null,
      "order": null,
      "overflow": null,
      "overflow_x": null,
      "overflow_y": null,
      "padding": null,
      "right": null,
      "top": null,
      "visibility": null,
      "width": null
     }
    },
    "3e198ba96de042ab8185cfbded8a1f13": {
     "model_module": "@jupyter-widgets/controls",
     "model_name": "DescriptionStyleModel",
     "model_module_version": "1.5.0",
     "state": {
      "_model_module": "@jupyter-widgets/controls",
      "_model_module_version": "1.5.0",
      "_model_name": "DescriptionStyleModel",
      "_view_count": null,
      "_view_module": "@jupyter-widgets/base",
      "_view_module_version": "1.2.0",
      "_view_name": "StyleView",
      "description_width": ""
     }
    },
    "7e89dc2043c14c9fae420917a50dd22b": {
     "model_module": "@jupyter-widgets/controls",
     "model_name": "HBoxModel",
     "model_module_version": "1.5.0",
     "state": {
      "_dom_classes": [],
      "_model_module": "@jupyter-widgets/controls",
      "_model_module_version": "1.5.0",
      "_model_name": "HBoxModel",
      "_view_count": null,
      "_view_module": "@jupyter-widgets/controls",
      "_view_module_version": "1.5.0",
      "_view_name": "HBoxView",
      "box_style": "",
      "children": [
       "IPY_MODEL_5db8cc6ce3144ce1ab3747dc3eba9c86",
       "IPY_MODEL_a9d0ed378cda474fb5be7d12bc499eaf",
       "IPY_MODEL_aa36f00161154239a10f943469076184"
      ],
      "layout": "IPY_MODEL_98b157ef9df6442796d1678f4db9852c"
     }
    },
    "5db8cc6ce3144ce1ab3747dc3eba9c86": {
     "model_module": "@jupyter-widgets/controls",
     "model_name": "HTMLModel",
     "model_module_version": "1.5.0",
     "state": {
      "_dom_classes": [],
      "_model_module": "@jupyter-widgets/controls",
      "_model_module_version": "1.5.0",
      "_model_name": "HTMLModel",
      "_view_count": null,
      "_view_module": "@jupyter-widgets/controls",
      "_view_module_version": "1.5.0",
      "_view_name": "HTMLView",
      "description": "",
      "description_tooltip": null,
      "layout": "IPY_MODEL_6464b5e199134a68a9a99411a30e5ebb",
      "placeholder": "​",
      "style": "IPY_MODEL_eb2e4e47bedf406a8adb2efb28ca3f39",
      "value": "Downloading (…)5de9125/modules.json: 100%"
     }
    },
    "a9d0ed378cda474fb5be7d12bc499eaf": {
     "model_module": "@jupyter-widgets/controls",
     "model_name": "FloatProgressModel",
     "model_module_version": "1.5.0",
     "state": {
      "_dom_classes": [],
      "_model_module": "@jupyter-widgets/controls",
      "_model_module_version": "1.5.0",
      "_model_name": "FloatProgressModel",
      "_view_count": null,
      "_view_module": "@jupyter-widgets/controls",
      "_view_module_version": "1.5.0",
      "_view_name": "ProgressView",
      "bar_style": "success",
      "description": "",
      "description_tooltip": null,
      "layout": "IPY_MODEL_cff6bb9f06cd496f9d026c1e883ed93d",
      "max": 349,
      "min": 0,
      "orientation": "horizontal",
      "style": "IPY_MODEL_cbbaa336f03f41a98395b92d87ece9a8",
      "value": 349
     }
    },
    "aa36f00161154239a10f943469076184": {
     "model_module": "@jupyter-widgets/controls",
     "model_name": "HTMLModel",
     "model_module_version": "1.5.0",
     "state": {
      "_dom_classes": [],
      "_model_module": "@jupyter-widgets/controls",
      "_model_module_version": "1.5.0",
      "_model_name": "HTMLModel",
      "_view_count": null,
      "_view_module": "@jupyter-widgets/controls",
      "_view_module_version": "1.5.0",
      "_view_name": "HTMLView",
      "description": "",
      "description_tooltip": null,
      "layout": "IPY_MODEL_fdd80a282cf04a10a829d01ac29ef204",
      "placeholder": "​",
      "style": "IPY_MODEL_01ee89a1dec641f2997133330338cb44",
      "value": " 349/349 [00:00&lt;00:00, 27.8kB/s]"
     }
    },
    "98b157ef9df6442796d1678f4db9852c": {
     "model_module": "@jupyter-widgets/base",
     "model_name": "LayoutModel",
     "model_module_version": "1.2.0",
     "state": {
      "_model_module": "@jupyter-widgets/base",
      "_model_module_version": "1.2.0",
      "_model_name": "LayoutModel",
      "_view_count": null,
      "_view_module": "@jupyter-widgets/base",
      "_view_module_version": "1.2.0",
      "_view_name": "LayoutView",
      "align_content": null,
      "align_items": null,
      "align_self": null,
      "border": null,
      "bottom": null,
      "display": null,
      "flex": null,
      "flex_flow": null,
      "grid_area": null,
      "grid_auto_columns": null,
      "grid_auto_flow": null,
      "grid_auto_rows": null,
      "grid_column": null,
      "grid_gap": null,
      "grid_row": null,
      "grid_template_areas": null,
      "grid_template_columns": null,
      "grid_template_rows": null,
      "height": null,
      "justify_content": null,
      "justify_items": null,
      "left": null,
      "margin": null,
      "max_height": null,
      "max_width": null,
      "min_height": null,
      "min_width": null,
      "object_fit": null,
      "object_position": null,
      "order": null,
      "overflow": null,
      "overflow_x": null,
      "overflow_y": null,
      "padding": null,
      "right": null,
      "top": null,
      "visibility": null,
      "width": null
     }
    },
    "6464b5e199134a68a9a99411a30e5ebb": {
     "model_module": "@jupyter-widgets/base",
     "model_name": "LayoutModel",
     "model_module_version": "1.2.0",
     "state": {
      "_model_module": "@jupyter-widgets/base",
      "_model_module_version": "1.2.0",
      "_model_name": "LayoutModel",
      "_view_count": null,
      "_view_module": "@jupyter-widgets/base",
      "_view_module_version": "1.2.0",
      "_view_name": "LayoutView",
      "align_content": null,
      "align_items": null,
      "align_self": null,
      "border": null,
      "bottom": null,
      "display": null,
      "flex": null,
      "flex_flow": null,
      "grid_area": null,
      "grid_auto_columns": null,
      "grid_auto_flow": null,
      "grid_auto_rows": null,
      "grid_column": null,
      "grid_gap": null,
      "grid_row": null,
      "grid_template_areas": null,
      "grid_template_columns": null,
      "grid_template_rows": null,
      "height": null,
      "justify_content": null,
      "justify_items": null,
      "left": null,
      "margin": null,
      "max_height": null,
      "max_width": null,
      "min_height": null,
      "min_width": null,
      "object_fit": null,
      "object_position": null,
      "order": null,
      "overflow": null,
      "overflow_x": null,
      "overflow_y": null,
      "padding": null,
      "right": null,
      "top": null,
      "visibility": null,
      "width": null
     }
    },
    "eb2e4e47bedf406a8adb2efb28ca3f39": {
     "model_module": "@jupyter-widgets/controls",
     "model_name": "DescriptionStyleModel",
     "model_module_version": "1.5.0",
     "state": {
      "_model_module": "@jupyter-widgets/controls",
      "_model_module_version": "1.5.0",
      "_model_name": "DescriptionStyleModel",
      "_view_count": null,
      "_view_module": "@jupyter-widgets/base",
      "_view_module_version": "1.2.0",
      "_view_name": "StyleView",
      "description_width": ""
     }
    },
    "cff6bb9f06cd496f9d026c1e883ed93d": {
     "model_module": "@jupyter-widgets/base",
     "model_name": "LayoutModel",
     "model_module_version": "1.2.0",
     "state": {
      "_model_module": "@jupyter-widgets/base",
      "_model_module_version": "1.2.0",
      "_model_name": "LayoutModel",
      "_view_count": null,
      "_view_module": "@jupyter-widgets/base",
      "_view_module_version": "1.2.0",
      "_view_name": "LayoutView",
      "align_content": null,
      "align_items": null,
      "align_self": null,
      "border": null,
      "bottom": null,
      "display": null,
      "flex": null,
      "flex_flow": null,
      "grid_area": null,
      "grid_auto_columns": null,
      "grid_auto_flow": null,
      "grid_auto_rows": null,
      "grid_column": null,
      "grid_gap": null,
      "grid_row": null,
      "grid_template_areas": null,
      "grid_template_columns": null,
      "grid_template_rows": null,
      "height": null,
      "justify_content": null,
      "justify_items": null,
      "left": null,
      "margin": null,
      "max_height": null,
      "max_width": null,
      "min_height": null,
      "min_width": null,
      "object_fit": null,
      "object_position": null,
      "order": null,
      "overflow": null,
      "overflow_x": null,
      "overflow_y": null,
      "padding": null,
      "right": null,
      "top": null,
      "visibility": null,
      "width": null
     }
    },
    "cbbaa336f03f41a98395b92d87ece9a8": {
     "model_module": "@jupyter-widgets/controls",
     "model_name": "ProgressStyleModel",
     "model_module_version": "1.5.0",
     "state": {
      "_model_module": "@jupyter-widgets/controls",
      "_model_module_version": "1.5.0",
      "_model_name": "ProgressStyleModel",
      "_view_count": null,
      "_view_module": "@jupyter-widgets/base",
      "_view_module_version": "1.2.0",
      "_view_name": "StyleView",
      "bar_color": null,
      "description_width": ""
     }
    },
    "fdd80a282cf04a10a829d01ac29ef204": {
     "model_module": "@jupyter-widgets/base",
     "model_name": "LayoutModel",
     "model_module_version": "1.2.0",
     "state": {
      "_model_module": "@jupyter-widgets/base",
      "_model_module_version": "1.2.0",
      "_model_name": "LayoutModel",
      "_view_count": null,
      "_view_module": "@jupyter-widgets/base",
      "_view_module_version": "1.2.0",
      "_view_name": "LayoutView",
      "align_content": null,
      "align_items": null,
      "align_self": null,
      "border": null,
      "bottom": null,
      "display": null,
      "flex": null,
      "flex_flow": null,
      "grid_area": null,
      "grid_auto_columns": null,
      "grid_auto_flow": null,
      "grid_auto_rows": null,
      "grid_column": null,
      "grid_gap": null,
      "grid_row": null,
      "grid_template_areas": null,
      "grid_template_columns": null,
      "grid_template_rows": null,
      "height": null,
      "justify_content": null,
      "justify_items": null,
      "left": null,
      "margin": null,
      "max_height": null,
      "max_width": null,
      "min_height": null,
      "min_width": null,
      "object_fit": null,
      "object_position": null,
      "order": null,
      "overflow": null,
      "overflow_x": null,
      "overflow_y": null,
      "padding": null,
      "right": null,
      "top": null,
      "visibility": null,
      "width": null
     }
    },
    "01ee89a1dec641f2997133330338cb44": {
     "model_module": "@jupyter-widgets/controls",
     "model_name": "DescriptionStyleModel",
     "model_module_version": "1.5.0",
     "state": {
      "_model_module": "@jupyter-widgets/controls",
      "_model_module_version": "1.5.0",
      "_model_name": "DescriptionStyleModel",
      "_view_count": null,
      "_view_module": "@jupyter-widgets/base",
      "_view_module_version": "1.2.0",
      "_view_name": "StyleView",
      "description_width": ""
     }
    },
    "3c982065819f4c8583b2711407800d34": {
     "model_module": "@jupyter-widgets/controls",
     "model_name": "HBoxModel",
     "model_module_version": "1.5.0",
     "state": {
      "_dom_classes": [],
      "_model_module": "@jupyter-widgets/controls",
      "_model_module_version": "1.5.0",
      "_model_name": "HBoxModel",
      "_view_count": null,
      "_view_module": "@jupyter-widgets/controls",
      "_view_module_version": "1.5.0",
      "_view_name": "HBoxView",
      "box_style": "",
      "children": [
       "IPY_MODEL_fa4c4df2012a4a82b716d95c250a2d36",
       "IPY_MODEL_fb018f63698c4847800990fd49df4f7b",
       "IPY_MODEL_4be88a922ef449dbbba8660a956b815b"
      ],
      "layout": "IPY_MODEL_b2f158d8f6ed40b3b7a21f61d9af76b6"
     }
    },
    "fa4c4df2012a4a82b716d95c250a2d36": {
     "model_module": "@jupyter-widgets/controls",
     "model_name": "HTMLModel",
     "model_module_version": "1.5.0",
     "state": {
      "_dom_classes": [],
      "_model_module": "@jupyter-widgets/controls",
      "_model_module_version": "1.5.0",
      "_model_name": "HTMLModel",
      "_view_count": null,
      "_view_module": "@jupyter-widgets/controls",
      "_view_module_version": "1.5.0",
      "_view_name": "HTMLView",
      "description": "",
      "description_tooltip": null,
      "layout": "IPY_MODEL_1a705606253e4698a681961ff277e48f",
      "placeholder": "​",
      "style": "IPY_MODEL_b5468633e5d140b3b935b6a20e4a6e56",
      "value": "100%"
     }
    },
    "fb018f63698c4847800990fd49df4f7b": {
     "model_module": "@jupyter-widgets/controls",
     "model_name": "FloatProgressModel",
     "model_module_version": "1.5.0",
     "state": {
      "_dom_classes": [],
      "_model_module": "@jupyter-widgets/controls",
      "_model_module_version": "1.5.0",
      "_model_name": "FloatProgressModel",
      "_view_count": null,
      "_view_module": "@jupyter-widgets/controls",
      "_view_module_version": "1.5.0",
      "_view_name": "ProgressView",
      "bar_style": "success",
      "description": "",
      "description_tooltip": null,
      "layout": "IPY_MODEL_f218d2e82b264009b6b3ad5653b4df2f",
      "max": 1041,
      "min": 0,
      "orientation": "horizontal",
      "style": "IPY_MODEL_46974b5a9b4546feb41382b607613940",
      "value": 1041
     }
    },
    "4be88a922ef449dbbba8660a956b815b": {
     "model_module": "@jupyter-widgets/controls",
     "model_name": "HTMLModel",
     "model_module_version": "1.5.0",
     "state": {
      "_dom_classes": [],
      "_model_module": "@jupyter-widgets/controls",
      "_model_module_version": "1.5.0",
      "_model_name": "HTMLModel",
      "_view_count": null,
      "_view_module": "@jupyter-widgets/controls",
      "_view_module_version": "1.5.0",
      "_view_name": "HTMLView",
      "description": "",
      "description_tooltip": null,
      "layout": "IPY_MODEL_50ffc1d058674b4993567dc66738c44e",
      "placeholder": "​",
      "style": "IPY_MODEL_2ce696b745324cf48821a768a9618793",
      "value": " 1041/1041 [24:36&lt;00:00,  1.38s/it]"
     }
    },
    "b2f158d8f6ed40b3b7a21f61d9af76b6": {
     "model_module": "@jupyter-widgets/base",
     "model_name": "LayoutModel",
     "model_module_version": "1.2.0",
     "state": {
      "_model_module": "@jupyter-widgets/base",
      "_model_module_version": "1.2.0",
      "_model_name": "LayoutModel",
      "_view_count": null,
      "_view_module": "@jupyter-widgets/base",
      "_view_module_version": "1.2.0",
      "_view_name": "LayoutView",
      "align_content": null,
      "align_items": null,
      "align_self": null,
      "border": null,
      "bottom": null,
      "display": null,
      "flex": null,
      "flex_flow": null,
      "grid_area": null,
      "grid_auto_columns": null,
      "grid_auto_flow": null,
      "grid_auto_rows": null,
      "grid_column": null,
      "grid_gap": null,
      "grid_row": null,
      "grid_template_areas": null,
      "grid_template_columns": null,
      "grid_template_rows": null,
      "height": null,
      "justify_content": null,
      "justify_items": null,
      "left": null,
      "margin": null,
      "max_height": null,
      "max_width": null,
      "min_height": null,
      "min_width": null,
      "object_fit": null,
      "object_position": null,
      "order": null,
      "overflow": null,
      "overflow_x": null,
      "overflow_y": null,
      "padding": null,
      "right": null,
      "top": null,
      "visibility": null,
      "width": null
     }
    },
    "1a705606253e4698a681961ff277e48f": {
     "model_module": "@jupyter-widgets/base",
     "model_name": "LayoutModel",
     "model_module_version": "1.2.0",
     "state": {
      "_model_module": "@jupyter-widgets/base",
      "_model_module_version": "1.2.0",
      "_model_name": "LayoutModel",
      "_view_count": null,
      "_view_module": "@jupyter-widgets/base",
      "_view_module_version": "1.2.0",
      "_view_name": "LayoutView",
      "align_content": null,
      "align_items": null,
      "align_self": null,
      "border": null,
      "bottom": null,
      "display": null,
      "flex": null,
      "flex_flow": null,
      "grid_area": null,
      "grid_auto_columns": null,
      "grid_auto_flow": null,
      "grid_auto_rows": null,
      "grid_column": null,
      "grid_gap": null,
      "grid_row": null,
      "grid_template_areas": null,
      "grid_template_columns": null,
      "grid_template_rows": null,
      "height": null,
      "justify_content": null,
      "justify_items": null,
      "left": null,
      "margin": null,
      "max_height": null,
      "max_width": null,
      "min_height": null,
      "min_width": null,
      "object_fit": null,
      "object_position": null,
      "order": null,
      "overflow": null,
      "overflow_x": null,
      "overflow_y": null,
      "padding": null,
      "right": null,
      "top": null,
      "visibility": null,
      "width": null
     }
    },
    "b5468633e5d140b3b935b6a20e4a6e56": {
     "model_module": "@jupyter-widgets/controls",
     "model_name": "DescriptionStyleModel",
     "model_module_version": "1.5.0",
     "state": {
      "_model_module": "@jupyter-widgets/controls",
      "_model_module_version": "1.5.0",
      "_model_name": "DescriptionStyleModel",
      "_view_count": null,
      "_view_module": "@jupyter-widgets/base",
      "_view_module_version": "1.2.0",
      "_view_name": "StyleView",
      "description_width": ""
     }
    },
    "f218d2e82b264009b6b3ad5653b4df2f": {
     "model_module": "@jupyter-widgets/base",
     "model_name": "LayoutModel",
     "model_module_version": "1.2.0",
     "state": {
      "_model_module": "@jupyter-widgets/base",
      "_model_module_version": "1.2.0",
      "_model_name": "LayoutModel",
      "_view_count": null,
      "_view_module": "@jupyter-widgets/base",
      "_view_module_version": "1.2.0",
      "_view_name": "LayoutView",
      "align_content": null,
      "align_items": null,
      "align_self": null,
      "border": null,
      "bottom": null,
      "display": null,
      "flex": null,
      "flex_flow": null,
      "grid_area": null,
      "grid_auto_columns": null,
      "grid_auto_flow": null,
      "grid_auto_rows": null,
      "grid_column": null,
      "grid_gap": null,
      "grid_row": null,
      "grid_template_areas": null,
      "grid_template_columns": null,
      "grid_template_rows": null,
      "height": null,
      "justify_content": null,
      "justify_items": null,
      "left": null,
      "margin": null,
      "max_height": null,
      "max_width": null,
      "min_height": null,
      "min_width": null,
      "object_fit": null,
      "object_position": null,
      "order": null,
      "overflow": null,
      "overflow_x": null,
      "overflow_y": null,
      "padding": null,
      "right": null,
      "top": null,
      "visibility": null,
      "width": null
     }
    },
    "46974b5a9b4546feb41382b607613940": {
     "model_module": "@jupyter-widgets/controls",
     "model_name": "ProgressStyleModel",
     "model_module_version": "1.5.0",
     "state": {
      "_model_module": "@jupyter-widgets/controls",
      "_model_module_version": "1.5.0",
      "_model_name": "ProgressStyleModel",
      "_view_count": null,
      "_view_module": "@jupyter-widgets/base",
      "_view_module_version": "1.2.0",
      "_view_name": "StyleView",
      "bar_color": null,
      "description_width": ""
     }
    },
    "50ffc1d058674b4993567dc66738c44e": {
     "model_module": "@jupyter-widgets/base",
     "model_name": "LayoutModel",
     "model_module_version": "1.2.0",
     "state": {
      "_model_module": "@jupyter-widgets/base",
      "_model_module_version": "1.2.0",
      "_model_name": "LayoutModel",
      "_view_count": null,
      "_view_module": "@jupyter-widgets/base",
      "_view_module_version": "1.2.0",
      "_view_name": "LayoutView",
      "align_content": null,
      "align_items": null,
      "align_self": null,
      "border": null,
      "bottom": null,
      "display": null,
      "flex": null,
      "flex_flow": null,
      "grid_area": null,
      "grid_auto_columns": null,
      "grid_auto_flow": null,
      "grid_auto_rows": null,
      "grid_column": null,
      "grid_gap": null,
      "grid_row": null,
      "grid_template_areas": null,
      "grid_template_columns": null,
      "grid_template_rows": null,
      "height": null,
      "justify_content": null,
      "justify_items": null,
      "left": null,
      "margin": null,
      "max_height": null,
      "max_width": null,
      "min_height": null,
      "min_width": null,
      "object_fit": null,
      "object_position": null,
      "order": null,
      "overflow": null,
      "overflow_x": null,
      "overflow_y": null,
      "padding": null,
      "right": null,
      "top": null,
      "visibility": null,
      "width": null
     }
    },
    "2ce696b745324cf48821a768a9618793": {
     "model_module": "@jupyter-widgets/controls",
     "model_name": "DescriptionStyleModel",
     "model_module_version": "1.5.0",
     "state": {
      "_model_module": "@jupyter-widgets/controls",
      "_model_module_version": "1.5.0",
      "_model_name": "DescriptionStyleModel",
      "_view_count": null,
      "_view_module": "@jupyter-widgets/base",
      "_view_module_version": "1.2.0",
      "_view_name": "StyleView",
      "description_width": ""
     }
    }
   }
  }
 },
 "nbformat": 4,
 "nbformat_minor": 0
}
