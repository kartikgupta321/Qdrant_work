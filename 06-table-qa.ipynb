{
 "cells": [
  {
   "cell_type": "markdown",
   "metadata": {
    "id": "zcWElZZA7rzX"
   },
   "source": [
    "# Table Question Answering with Qdrant"
   ]
  },
  {
   "cell_type": "markdown",
   "metadata": {
    "id": "JZqviV15sO31"
   },
   "source": [
    "In this notebook we will see how we can use Qdrant to make a Table Question Answering(Table QA) system i.e., a user's question will be answered from a table which contain the answer to that question. Qdrant is a vector Database powering the next generation of AI applications with advanced and high-performant vector similarity search technology.\n",
    "\n",
    "The major steps involved in building Table QA system are:\n",
    "\n",
    "- Loading a dataset which contains tables with information.\n",
    "- Making vector embeddings of the tables.\n",
    "- Storing the embedded tables in Qdrant collection.\n",
    "- Initializing a table reader model which will read the output of qdrant after querying.\n",
    "- System is ready we can now query the system."
   ]
  },
  {
   "cell_type": "markdown",
   "metadata": {
    "id": "-h-MW6FJxTtT"
   },
   "source": [
    "## Install Dependencies"
   ]
  },
  {
   "cell_type": "code",
   "execution_count": 1,
   "metadata": {
    "id": "OXXxZ_9q75RH",
    "tags": []
   },
   "outputs": [],
   "source": [
    "!pip install -qU datasets==2.13.1 qdrant-client==1.3.1 sentence-transformers==2.2.2 torch-scatter==2.1.1 openai==0.27.8"
   ]
  },
  {
   "cell_type": "markdown",
   "metadata": {},
   "source": [
    "## Import libraries"
   ]
  },
  {
   "cell_type": "code",
   "execution_count": 2,
   "metadata": {},
   "outputs": [
    {
     "name": "stderr",
     "output_type": "stream",
     "text": [
      "C:\\Users\\karti\\AppData\\Local\\Programs\\Python\\Python311\\Lib\\site-packages\\numpy\\_distributor_init.py:30: UserWarning: loaded more than 1 DLL from .libs:\n",
      "C:\\Users\\karti\\AppData\\Local\\Programs\\Python\\Python311\\Lib\\site-packages\\numpy\\.libs\\libopenblas.FB5AE2TYXYH2IJRDKGDGQ3XBKLKTF43H.gfortran-win_amd64.dll\n",
      "C:\\Users\\karti\\AppData\\Local\\Programs\\Python\\Python311\\Lib\\site-packages\\numpy\\.libs\\libopenblas64__v0.3.21-gcc_10_3_0.dll\n",
      "  warnings.warn(\"loaded more than 1 DLL from .libs:\"\n"
     ]
    }
   ],
   "source": [
    "from datasets import load_dataset\n",
    "import pandas as pd\n",
    "import torch\n",
    "import openai\n",
    "import os\n",
    "from qdrant_client import QdrantClient\n",
    "from pathlib import Path\n",
    "from time import sleep\n",
    "from qdrant_client.http import models\n",
    "from tqdm.auto import tqdm\n",
    "from transformers import AutoTokenizer, AutoModelForSeq2SeqLM"
   ]
  },
  {
   "cell_type": "markdown",
   "metadata": {
    "id": "fyqzTw5RBeEa"
   },
   "source": [
    "## Load the Dataset"
   ]
  },
  {
   "cell_type": "markdown",
   "metadata": {
    "id": "-ouitEo-0XQC"
   },
   "source": [
    "We will use the `wikitablequestions` dataset from Huggingface datasets. The WikiTableQuestions dataset is a large-scale dataset for the task of question answering on semi-structured tables. It contains about 11k tables."
   ]
  },
  {
   "cell_type": "code",
   "execution_count": 113,
   "metadata": {
    "colab": {
     "base_uri": "https://localhost:8080/"
    },
    "id": "kKf3UJJFlM2R",
    "outputId": "ea39017c-86ea-454d-b155-8c203acecf83",
    "tags": []
   },
   "outputs": [
    {
     "name": "stderr",
     "output_type": "stream",
     "text": [
      "Found cached dataset wikitablequestions (C:/Users/karti/.cache/huggingface/datasets/wikitablequestions/random-split-1/1.0.2/4845d83f334ed5e4a8e0420731e64d57f696feb62e7d3a47b84037864fb8317c)\n"
     ]
    },
    {
     "data": {
      "text/plain": [
       "Dataset({\n",
       "    features: ['id', 'question', 'answers', 'table'],\n",
       "    num_rows: 11321\n",
       "})"
      ]
     },
     "execution_count": 113,
     "metadata": {},
     "output_type": "execute_result"
    }
   ],
   "source": [
    "# load the dataset from huggingface datasets hub\n",
    "data = load_dataset(\"wikitablequestions\", \"random-split-1\", split=\"train\")\n",
    "data"
   ]
  },
  {
   "cell_type": "code",
   "execution_count": 4,
   "metadata": {
    "colab": {
     "base_uri": "https://localhost:8080/"
    },
    "id": "Dv_CU6hs1Yd6",
    "outputId": "5b0d52a3-f138-4328-dafc-a54d186e4ef7",
    "tags": []
   },
   "outputs": [
    {
     "data": {
      "text/plain": [
       "{'id': 'nt-5',\n",
       " 'question': 'how many people stayed at least 3 years in office?',\n",
       " 'answers': ['4'],\n",
       " 'table': {'header': ['',\n",
       "   'Name',\n",
       "   'Took office',\n",
       "   'Left office',\n",
       "   'Party',\n",
       "   'Notes/Events'],\n",
       "  'rows': [['11',\n",
       "    'William McCreery',\n",
       "    'March 4, 1803',\n",
       "    'March 3, 1809',\n",
       "    'Democratic Republican',\n",
       "    ''],\n",
       "   ['12',\n",
       "    'Alexander McKim',\n",
       "    'March 4, 1809',\n",
       "    'March 3, 1815',\n",
       "    'Democratic Republican',\n",
       "    ''],\n",
       "   ['13',\n",
       "    'William Pinkney',\n",
       "    'March 4, 1815',\n",
       "    'April 18, 1816',\n",
       "    'Democratic Republican',\n",
       "    'Resigned to accept position as Minister Plenipotentiary to Russia'],\n",
       "   ['14',\n",
       "    'Peter Little',\n",
       "    'September 2, 1816',\n",
       "    'March 3, 1823',\n",
       "    'Democratic Republican',\n",
       "    ''],\n",
       "   ['14',\n",
       "    'Peter Little',\n",
       "    'March 4, 1823',\n",
       "    'March 3, 1825',\n",
       "    'Jacksonian DR',\n",
       "    ''],\n",
       "   ['14', 'Peter Little', 'March 4, 1825', 'March 3, 1829', 'Adams', ''],\n",
       "   ['15',\n",
       "    'Benjamin C. Howard',\n",
       "    'March 4, 1829',\n",
       "    'March 3, 1833',\n",
       "    'Jacksonian',\n",
       "    '']],\n",
       "  'name': 'csv/203-csv/705.tsv'}}"
      ]
     },
     "execution_count": 4,
     "metadata": {},
     "output_type": "execute_result"
    }
   ],
   "source": [
    "data[3]"
   ]
  },
  {
   "cell_type": "markdown",
   "metadata": {},
   "source": [
    "We only require the table section from the dataset. We will extract the table section into a list of pandas dataframe."
   ]
  },
  {
   "cell_type": "code",
   "execution_count": 5,
   "metadata": {},
   "outputs": [],
   "source": [
    "# store all tables in the tables list\n",
    "tables = []\n",
    "# loop through the dataset and convert tabular data to pandas dataframes\n",
    "for table_data in data:\n",
    "    header = table_data[\"table\"][\"header\"]\n",
    "    rows = table_data[\"table\"][\"rows\"]\n",
    "    table_df = pd.DataFrame(rows, columns=header)\n",
    "    tables.append(table_df)"
   ]
  },
  {
   "cell_type": "code",
   "execution_count": 6,
   "metadata": {},
   "outputs": [
    {
     "data": {
      "text/html": [
       "<div>\n",
       "<style scoped>\n",
       "    .dataframe tbody tr th:only-of-type {\n",
       "        vertical-align: middle;\n",
       "    }\n",
       "\n",
       "    .dataframe tbody tr th {\n",
       "        vertical-align: top;\n",
       "    }\n",
       "\n",
       "    .dataframe thead th {\n",
       "        text-align: right;\n",
       "    }\n",
       "</style>\n",
       "<table border=\"1\" class=\"dataframe\">\n",
       "  <thead>\n",
       "    <tr style=\"text-align: right;\">\n",
       "      <th></th>\n",
       "      <th>Year</th>\n",
       "      <th>Competition</th>\n",
       "      <th>Venue</th>\n",
       "      <th>Position</th>\n",
       "      <th>Notes</th>\n",
       "    </tr>\n",
       "  </thead>\n",
       "  <tbody>\n",
       "    <tr>\n",
       "      <th>0</th>\n",
       "      <td>1996</td>\n",
       "      <td>Olympic Games</td>\n",
       "      <td>Atlanta, United States</td>\n",
       "      <td>36th (q)</td>\n",
       "      <td>5.55 m</td>\n",
       "    </tr>\n",
       "    <tr>\n",
       "      <th>1</th>\n",
       "      <td>1998</td>\n",
       "      <td>Asian Games</td>\n",
       "      <td>Bangkok, Thailand</td>\n",
       "      <td>8th</td>\n",
       "      <td>6.07 m</td>\n",
       "    </tr>\n",
       "    <tr>\n",
       "      <th>2</th>\n",
       "      <td>1999</td>\n",
       "      <td>World Championships</td>\n",
       "      <td>Seville, Spain</td>\n",
       "      <td>23rd (q)</td>\n",
       "      <td>6.40 m</td>\n",
       "    </tr>\n",
       "    <tr>\n",
       "      <th>3</th>\n",
       "      <td>2000</td>\n",
       "      <td>Olympic Games</td>\n",
       "      <td>Sydney, Australia</td>\n",
       "      <td>14th (q)</td>\n",
       "      <td>6.57 m</td>\n",
       "    </tr>\n",
       "    <tr>\n",
       "      <th>4</th>\n",
       "      <td>2001</td>\n",
       "      <td>World Championships</td>\n",
       "      <td>Edmonton, Canada</td>\n",
       "      <td>13th (q)</td>\n",
       "      <td>6.46 m</td>\n",
       "    </tr>\n",
       "    <tr>\n",
       "      <th>5</th>\n",
       "      <td>2002</td>\n",
       "      <td>Asian Championships</td>\n",
       "      <td>Colombo, Sri Lanka</td>\n",
       "      <td>1st</td>\n",
       "      <td>6.61 m</td>\n",
       "    </tr>\n",
       "    <tr>\n",
       "      <th>6</th>\n",
       "      <td>2002</td>\n",
       "      <td>Asian Games</td>\n",
       "      <td>Busan, South Korea</td>\n",
       "      <td>3rd</td>\n",
       "      <td>6.30 m</td>\n",
       "    </tr>\n",
       "    <tr>\n",
       "      <th>7</th>\n",
       "      <td>2003</td>\n",
       "      <td>World Championships</td>\n",
       "      <td>Paris, France</td>\n",
       "      <td>23rd (q)</td>\n",
       "      <td>6.13 m</td>\n",
       "    </tr>\n",
       "    <tr>\n",
       "      <th>8</th>\n",
       "      <td>2003</td>\n",
       "      <td>Asian Championships</td>\n",
       "      <td>Manila, Philippines</td>\n",
       "      <td>6th</td>\n",
       "      <td>6.23 m</td>\n",
       "    </tr>\n",
       "    <tr>\n",
       "      <th>9</th>\n",
       "      <td>2004</td>\n",
       "      <td>Olympic Games</td>\n",
       "      <td>Athens, Greece</td>\n",
       "      <td>11th</td>\n",
       "      <td>6.53 m</td>\n",
       "    </tr>\n",
       "  </tbody>\n",
       "</table>\n",
       "</div>"
      ],
      "text/plain": [
       "   Year          Competition                   Venue  Position   Notes\n",
       "0  1996        Olympic Games  Atlanta, United States  36th (q)  5.55 m\n",
       "1  1998          Asian Games       Bangkok, Thailand       8th  6.07 m\n",
       "2  1999  World Championships          Seville, Spain  23rd (q)  6.40 m\n",
       "3  2000        Olympic Games       Sydney, Australia  14th (q)  6.57 m\n",
       "4  2001  World Championships        Edmonton, Canada  13th (q)  6.46 m\n",
       "5  2002  Asian Championships      Colombo, Sri Lanka       1st  6.61 m\n",
       "6  2002          Asian Games      Busan, South Korea       3rd  6.30 m\n",
       "7  2003  World Championships           Paris, France  23rd (q)  6.13 m\n",
       "8  2003  Asian Championships     Manila, Philippines       6th  6.23 m\n",
       "9  2004        Olympic Games          Athens, Greece      11th  6.53 m"
      ]
     },
     "execution_count": 6,
     "metadata": {},
     "output_type": "execute_result"
    }
   ],
   "source": [
    "tables[7]"
   ]
  },
  {
   "cell_type": "markdown",
   "metadata": {},
   "source": [
    "Also we will trim all tables to 5 rows."
   ]
  },
  {
   "cell_type": "code",
   "execution_count": 7,
   "metadata": {},
   "outputs": [
    {
     "data": {
      "text/html": [
       "<div>\n",
       "<style scoped>\n",
       "    .dataframe tbody tr th:only-of-type {\n",
       "        vertical-align: middle;\n",
       "    }\n",
       "\n",
       "    .dataframe tbody tr th {\n",
       "        vertical-align: top;\n",
       "    }\n",
       "\n",
       "    .dataframe thead th {\n",
       "        text-align: right;\n",
       "    }\n",
       "</style>\n",
       "<table border=\"1\" class=\"dataframe\">\n",
       "  <thead>\n",
       "    <tr style=\"text-align: right;\">\n",
       "      <th></th>\n",
       "      <th>Year</th>\n",
       "      <th>Division</th>\n",
       "      <th>League</th>\n",
       "      <th>Regular Season</th>\n",
       "      <th>Playoffs</th>\n",
       "      <th>Open Cup</th>\n",
       "      <th>Avg. Attendance</th>\n",
       "    </tr>\n",
       "  </thead>\n",
       "  <tbody>\n",
       "    <tr>\n",
       "      <th>0</th>\n",
       "      <td>2001</td>\n",
       "      <td>2</td>\n",
       "      <td>USL A-League</td>\n",
       "      <td>4th, Western</td>\n",
       "      <td>Quarterfinals</td>\n",
       "      <td>Did not qualify</td>\n",
       "      <td>7,169</td>\n",
       "    </tr>\n",
       "    <tr>\n",
       "      <th>1</th>\n",
       "      <td>2002</td>\n",
       "      <td>2</td>\n",
       "      <td>USL A-League</td>\n",
       "      <td>2nd, Pacific</td>\n",
       "      <td>1st Round</td>\n",
       "      <td>Did not qualify</td>\n",
       "      <td>6,260</td>\n",
       "    </tr>\n",
       "    <tr>\n",
       "      <th>2</th>\n",
       "      <td>2003</td>\n",
       "      <td>2</td>\n",
       "      <td>USL A-League</td>\n",
       "      <td>3rd, Pacific</td>\n",
       "      <td>Did not qualify</td>\n",
       "      <td>Did not qualify</td>\n",
       "      <td>5,871</td>\n",
       "    </tr>\n",
       "    <tr>\n",
       "      <th>3</th>\n",
       "      <td>2004</td>\n",
       "      <td>2</td>\n",
       "      <td>USL A-League</td>\n",
       "      <td>1st, Western</td>\n",
       "      <td>Quarterfinals</td>\n",
       "      <td>4th Round</td>\n",
       "      <td>5,628</td>\n",
       "    </tr>\n",
       "    <tr>\n",
       "      <th>4</th>\n",
       "      <td>2005</td>\n",
       "      <td>2</td>\n",
       "      <td>USL First Division</td>\n",
       "      <td>5th</td>\n",
       "      <td>Quarterfinals</td>\n",
       "      <td>4th Round</td>\n",
       "      <td>6,028</td>\n",
       "    </tr>\n",
       "  </tbody>\n",
       "</table>\n",
       "</div>"
      ],
      "text/plain": [
       "   Year Division              League Regular Season         Playoffs  \\\n",
       "0  2001        2        USL A-League   4th, Western    Quarterfinals   \n",
       "1  2002        2        USL A-League   2nd, Pacific        1st Round   \n",
       "2  2003        2        USL A-League   3rd, Pacific  Did not qualify   \n",
       "3  2004        2        USL A-League   1st, Western    Quarterfinals   \n",
       "4  2005        2  USL First Division            5th    Quarterfinals   \n",
       "\n",
       "          Open Cup Avg. Attendance  \n",
       "0  Did not qualify           7,169  \n",
       "1  Did not qualify           6,260  \n",
       "2  Did not qualify           5,871  \n",
       "3        4th Round           5,628  \n",
       "4        4th Round           6,028  "
      ]
     },
     "execution_count": 7,
     "metadata": {},
     "output_type": "execute_result"
    }
   ],
   "source": [
    "for i, table in enumerate(tables):\n",
    "    tables[i] = table.head(5)\n",
    "tables[0]"
   ]
  },
  {
   "cell_type": "markdown",
   "metadata": {
    "id": "0n61NMn9-HZv"
   },
   "source": [
    "## Initialize Retriever"
   ]
  },
  {
   "cell_type": "markdown",
   "metadata": {},
   "source": [
    "Next, we need to initialize our retriever. The retriever will mainly do two things: \n",
    "- Generate embeddings for all tables (table vectors/embeddings)\n",
    "- Generate embeddings for our questions (query vector/embedding)\n",
    "The retriever will generate embeddings in a way that the questions and tables containing answers to our questions are nearby in the vector space. We can use cosine similarity to calculate the similarity between the query and tables to find the tables that contain potential answers to our question.\n",
    "\n",
    "We will use OpenAi model `text-embedding-ada-002` to create embeddings. First, Initialize connection to OpenAi:"
   ]
  },
  {
   "cell_type": "code",
   "execution_count": 9,
   "metadata": {},
   "outputs": [
    {
     "data": {
      "text/plain": [
       "openai.api_resources.engine.Engine"
      ]
     },
     "execution_count": 9,
     "metadata": {},
     "output_type": "execute_result"
    }
   ],
   "source": [
    "# get API key from top-right dropdown on OpenAI website\n",
    "openai.api_key = os.getenv(\"OPENAI_API_KEY\") or \"OPENAI_API_KEY\"\n",
    "openai.Engine  # check we have authenticated"
   ]
  },
  {
   "cell_type": "code",
   "execution_count": 21,
   "metadata": {
    "colab": {
     "base_uri": "https://localhost:8080/",
     "height": 208,
     "referenced_widgets": [
      "872351e5e09f4a2b9f1c23b1316b6a36",
      "f9194e661d484dc6ba249100ad7792da",
      "b25799ff3cb94fada82e7a64b708a377",
      "409092d8468c4f82bc2b6cf2f0b48dd9",
      "0398823b05ac46b3bb0d5918698e92aa",
      "a36059ff9de34279b633d26231da05de",
      "a186c7e967744c4d8d48778c36cdc08d",
      "0806e30586ef45e1b5c6de273d4b820e",
      "972f7c08489b46b6bf74bd4bcf0ecaa9",
      "a07f6ff6e9464b54aeda12df8232f6ac",
      "e8f14835a2324e56bb5d4c862767c602"
     ]
    },
    "id": "cfonlEiX-KQA",
    "outputId": "ffa1c02b-79d7-4360-938c-a58955384d29",
    "tags": []
   },
   "outputs": [
    {
     "data": {
      "text/plain": [
       "(1536, 1536)"
      ]
     },
     "execution_count": 21,
     "metadata": {},
     "output_type": "execute_result"
    }
   ],
   "source": [
    "# set device to GPU if available\n",
    "device = \"cuda\" if torch.cuda.is_available() else \"cpu\"\n",
    "embed_model = \"text-embedding-ada-002\"\n",
    "\n",
    "res = openai.Embedding.create(\n",
    "    input=[\n",
    "        \"Sample document text goes here\",\n",
    "        \"there will be several phrases in each batch\",\n",
    "    ],\n",
    "    engine=embed_model,\n",
    ")\n",
    "len(res[\"data\"][0][\"embedding\"]), len(\n",
    "    res[\"data\"][1][\"embedding\"]\n",
    ")  # the model produce embeddings of dimension 1536"
   ]
  },
  {
   "cell_type": "markdown",
   "metadata": {},
   "source": [
    "The openai model creates vector embeddings of 1536 dimensions."
   ]
  },
  {
   "cell_type": "markdown",
   "metadata": {
    "id": "gypflS135_Y4"
   },
   "source": [
    "We will need to convert the tables dataframes into list of csv to create embeddings."
   ]
  },
  {
   "cell_type": "code",
   "execution_count": 23,
   "metadata": {
    "id": "9-MqljKaAarE",
    "tags": []
   },
   "outputs": [],
   "source": [
    "def _preprocess_tables(tables: list):\n",
    "    processed = []\n",
    "    # loop through all tables\n",
    "    for table in tables:\n",
    "        # convert the table to csv and\n",
    "        processed_table = \"\\n\".join([table.to_csv(index=False)])\n",
    "        # add the processed table to processed list\n",
    "        processed.append(processed_table)\n",
    "    return processed"
   ]
  },
  {
   "cell_type": "code",
   "execution_count": 24,
   "metadata": {
    "colab": {
     "base_uri": "https://localhost:8080/",
     "height": 53
    },
    "id": "4NTu2-qqAbk2",
    "outputId": "e4bee59c-f90c-4e38-ce24-06a769f8b402",
    "tags": []
   },
   "outputs": [
    {
     "data": {
      "text/plain": [
       "'No.,Temple,Honzon (main image),City/Town/Village,Prefecture\\r\\n1,Ryōzen-ji (霊山寺),Shaka Nyorai,Naruto,Tokushima Prefecture\\r\\n2,Gokuraku-ji (極楽寺),Amida Nyorai,Naruto,Tokushima Prefecture\\r\\n3,Konsen-ji (金泉寺),Shaka Nyorai,Itano,Tokushima Prefecture\\r\\n4,Dainichi-ji (大日寺),Dainichi Nyorai,Itano,Tokushima Prefecture\\r\\n5,Jizō-ji (地蔵寺),Enmei Jizō Bosatsu,Itano,Tokushima Prefecture\\r\\n'"
      ]
     },
     "execution_count": 24,
     "metadata": {},
     "output_type": "execute_result"
    }
   ],
   "source": [
    "# format all the dataframes in the tables list\n",
    "processed_tables = _preprocess_tables(tables)\n",
    "# display the formatted table\n",
    "processed_tables[8]"
   ]
  },
  {
   "cell_type": "markdown",
   "metadata": {
    "id": "FI8TLf5CJFeq"
   },
   "source": [
    "The processed tables are not very readable for humans but the embedding model can understand and create embeddings while capturing the semantic meaning of information in the tables."
   ]
  },
  {
   "cell_type": "markdown",
   "metadata": {
    "id": "FpUcVljhCIaO"
   },
   "source": [
    "## Initialize Qdrant client"
   ]
  },
  {
   "cell_type": "code",
   "execution_count": 25,
   "metadata": {
    "id": "_huF14A0ASsL",
    "tags": []
   },
   "outputs": [],
   "source": [
    "# Initialize Qdrant client\n",
    "\n",
    "current_folder = Path.cwd()  # Get the current folder\n",
    "qdrant_folder = current_folder / \"qdrant\"\n",
    "qdrant_folder.mkdir()  # Create qdrant folder to store collection\n",
    "\n",
    "client = QdrantClient(path=qdrant_folder.resolve())  # path to new qdrant folder"
   ]
  },
  {
   "cell_type": "markdown",
   "metadata": {},
   "source": [
    "## Create collection\n",
    "We need to create a new collection in our Qdrant vector database which will store all the vector embeddings. While creating collection we will also specify the dimension of vectors collection is supposed to store and the metric which will be used to calculate similarity between query vector and table vector."
   ]
  },
  {
   "cell_type": "code",
   "execution_count": 26,
   "metadata": {
    "id": "NBOKt54UCbJC",
    "tags": []
   },
   "outputs": [
    {
     "name": "stdout",
     "output_type": "stream",
     "text": [
      "collections=[]\n",
      "collections=[CollectionDescription(name='table-qa')]\n"
     ]
    }
   ],
   "source": [
    "# you can choose any name for the collection\n",
    "collection_name = \"table-qa\"\n",
    "\n",
    "collections = client.get_collections()\n",
    "print(collections)\n",
    "\n",
    "# only create collection if it doesn't exist\n",
    "if collection_name not in collections:\n",
    "    client.recreate_collection(\n",
    "        collection_name=collection_name,\n",
    "        vectors_config=models.VectorParams(\n",
    "            size=1536,\n",
    "            distance=models.Distance.COSINE,\n",
    "        ),\n",
    "    )\n",
    "collections = client.get_collections()\n",
    "print(collections)"
   ]
  },
  {
   "cell_type": "markdown",
   "metadata": {
    "id": "RnIu8g2rBlWB"
   },
   "source": [
    "## Generate Embeddings -> Store in Qdrant\n",
    "When passing the documents to Qdrant, we need an:\n",
    "\n",
    "- id (a unique integer value),\n",
    "- table embedding, and\n",
    "- payload for each document representing table passages in the dataset. The payload is a dictionary containing data relevant to our embeddings.\n",
    "\n",
    "This time we will not use payload as we will directly use id from Qdrant results to get the tables from our list of tables dataframe."
   ]
  },
  {
   "cell_type": "code",
   "execution_count": 34,
   "metadata": {
    "colab": {
     "base_uri": "https://localhost:8080/",
     "height": 118,
     "referenced_widgets": [
      "9283fd1259da4411b22315e66f0fde4b",
      "82419e00d85542d4a40ba725ac938820",
      "e141a30db58d4fedb680cfdbb6156fe9",
      "527d87292efc4589b652841afbd4845c",
      "8e6f046688664ea2a8b4ad91067cb0a4",
      "4556db45bd464c189e5b771cb0773480",
      "f91627aef80646c38455fe7b31ed9d40",
      "56dafa49175849e29a68782c43735b9e",
      "571b97905d8c49498a4f5bc6bcfcf573",
      "0dcc27dac0a34f0597bee867b7a0c1f7",
      "2f88a69a0e1443ff9f91a4054d8e751b"
     ]
    },
    "id": "e-eGf669BxIa",
    "outputId": "3b4da09e-c38d-4a62-f2ef-6dbfc9d15f2f",
    "tags": []
   },
   "outputs": [
    {
     "data": {
      "application/vnd.jupyter.widget-view+json": {
       "model_id": "0587225d0b894378bf8e34b2bb004c83",
       "version_major": 2,
       "version_minor": 0
      },
      "text/plain": [
       "  0%|          | 0/12 [00:00<?, ?it/s]"
      ]
     },
     "metadata": {},
     "output_type": "display_data"
    },
    {
     "name": "stdout",
     "output_type": "stream",
     "text": [
      "Vector count in collection: 11321\n",
      "CPU times: total: 1min 2s\n",
      "Wall time: 3min 5s\n"
     ]
    }
   ],
   "source": [
    "%%time\n",
    "\n",
    "batch_size = 1024  # specify batch size according to your RAM and compute, higher batch size = more RAM usage\n",
    "\n",
    "for i in tqdm(range(0, len(processed_tables), batch_size)):\n",
    "    i_end = min(i + batch_size, len(processed_tables))  # find end of batch\n",
    "    batch = processed_tables[i:i_end]  # extract batch\n",
    "    ids = list(range(i, i_end))  # create unique IDs\n",
    "    # create embeddings (try-except added to avoid RateLimitError)\n",
    "    try:\n",
    "        res = openai.Embedding.create(input=batch, engine=embed_model)\n",
    "    except:\n",
    "        done = False\n",
    "        while not done:\n",
    "            sleep(5)\n",
    "            try:\n",
    "                res = openai.Embedding.create(input=batch, engine=embed_model)\n",
    "                done = True\n",
    "            except:\n",
    "                pass\n",
    "    embeds = [record[\"embedding\"] for record in res[\"data\"]]\n",
    "\n",
    "    # upsert to qdrant\n",
    "    client.upsert(\n",
    "        collection_name=collection_name,\n",
    "        points=models.Batch(ids=ids, vectors=embeds),\n",
    "    )\n",
    "\n",
    "collection_vector_count = client.get_collection(\n",
    "    collection_name=collection_name\n",
    ").vectors_count\n",
    "print(f\"Vector count in collection: {collection_vector_count}\")\n",
    "assert collection_vector_count == len(processed_tables)"
   ]
  },
  {
   "cell_type": "markdown",
   "metadata": {
    "id": "LiHFszRrnRyC"
   },
   "source": [
    "Now we can search  with query vectors."
   ]
  },
  {
   "cell_type": "code",
   "execution_count": 47,
   "metadata": {
    "colab": {
     "base_uri": "https://localhost:8080/"
    },
    "id": "7jsPDZq8ox9P",
    "outputId": "8b3e2e75-8837-46c9-aaac-7b6b37dead07",
    "tags": []
   },
   "outputs": [
    {
     "data": {
      "text/plain": [
       "[ScoredPoint(id=11222, version=0, score=0.827129729226599, payload={}, vector=None)]"
      ]
     },
     "execution_count": 47,
     "metadata": {},
     "output_type": "execute_result"
    }
   ],
   "source": [
    "query = \"name a city with more than 12,000,000 people.\"\n",
    "# generate embedding for the query\n",
    "res = openai.Embedding.create(input=[query], engine=embed_model)\n",
    "encoded_query = res[\"data\"][0][\"embedding\"]\n",
    "\n",
    "res = client.search(  # search qdrant collection\n",
    "    collection_name=collection_name,\n",
    "    query_vector=encoded_query,\n",
    "    limit=1,\n",
    ")\n",
    "res"
   ]
  },
  {
   "cell_type": "markdown",
   "metadata": {
    "id": "sx8zgRSYrVB8"
   },
   "source": [
    "After searching qdrant collection, we get the similarity score of the results. We also get the **id** which we can use to retrive the table from **tables** list."
   ]
  },
  {
   "cell_type": "code",
   "execution_count": 46,
   "metadata": {
    "colab": {
     "base_uri": "https://localhost:8080/",
     "height": 206
    },
    "id": "K-T9yXZtpb2h",
    "outputId": "6ac4c51e-c1f3-4565-83a4-df7ceb409f4f",
    "tags": []
   },
   "outputs": [
    {
     "data": {
      "text/html": [
       "<div>\n",
       "<style scoped>\n",
       "    .dataframe tbody tr th:only-of-type {\n",
       "        vertical-align: middle;\n",
       "    }\n",
       "\n",
       "    .dataframe tbody tr th {\n",
       "        vertical-align: top;\n",
       "    }\n",
       "\n",
       "    .dataframe thead th {\n",
       "        text-align: right;\n",
       "    }\n",
       "</style>\n",
       "<table border=\"1\" class=\"dataframe\">\n",
       "  <thead>\n",
       "    <tr style=\"text-align: right;\">\n",
       "      <th></th>\n",
       "      <th>Rank</th>\n",
       "      <th>City</th>\n",
       "      <th>Population (2011)</th>\n",
       "      <th>Population (2001)</th>\n",
       "      <th>State/Territory</th>\n",
       "    </tr>\n",
       "  </thead>\n",
       "  <tbody>\n",
       "    <tr>\n",
       "      <th>0</th>\n",
       "      <td>1</td>\n",
       "      <td>Mumbai</td>\n",
       "      <td>12,478,447</td>\n",
       "      <td>11,978,450</td>\n",
       "      <td>Maharashtra</td>\n",
       "    </tr>\n",
       "    <tr>\n",
       "      <th>1</th>\n",
       "      <td>2</td>\n",
       "      <td>Delhi</td>\n",
       "      <td>11,007,835</td>\n",
       "      <td>9,879,172</td>\n",
       "      <td>Delhi</td>\n",
       "    </tr>\n",
       "    <tr>\n",
       "      <th>2</th>\n",
       "      <td>3</td>\n",
       "      <td>Bangalore</td>\n",
       "      <td>8,425,970</td>\n",
       "      <td>5,438,065</td>\n",
       "      <td>Karnataka</td>\n",
       "    </tr>\n",
       "    <tr>\n",
       "      <th>3</th>\n",
       "      <td>4</td>\n",
       "      <td>Hyderabad</td>\n",
       "      <td>6,809,970</td>\n",
       "      <td>3,637,483</td>\n",
       "      <td>Andhra Pradesh</td>\n",
       "    </tr>\n",
       "    <tr>\n",
       "      <th>4</th>\n",
       "      <td>5</td>\n",
       "      <td>Ahmedabad</td>\n",
       "      <td>5,570,585</td>\n",
       "      <td>3,520,085</td>\n",
       "      <td>Gujarat</td>\n",
       "    </tr>\n",
       "  </tbody>\n",
       "</table>\n",
       "</div>"
      ],
      "text/plain": [
       "  Rank       City Population (2011) Population (2001) State/Territory\n",
       "0    1     Mumbai        12,478,447        11,978,450     Maharashtra\n",
       "1    2      Delhi        11,007,835         9,879,172           Delhi\n",
       "2    3  Bangalore         8,425,970         5,438,065       Karnataka\n",
       "3    4  Hyderabad         6,809,970         3,637,483  Andhra Pradesh\n",
       "4    5  Ahmedabad         5,570,585         3,520,085         Gujarat"
      ]
     },
     "execution_count": 46,
     "metadata": {},
     "output_type": "execute_result"
    }
   ],
   "source": [
    "id = res[0].id\n",
    "tables[id].head()"
   ]
  },
  {
   "cell_type": "markdown",
   "metadata": {
    "id": "P3A47xkzuPRx"
   },
   "source": [
    "The result we get from qdrant will contain the answer to our query but we need to fetch the answer from the table using a table reader model."
   ]
  },
  {
   "cell_type": "markdown",
   "metadata": {
    "id": "ssatLvB9BUe3"
   },
   "source": [
    "## Initialize Table Reader\n",
    "We will use `neulab/omnitab-large-finetuned-wtq` as our table reader model. OmniTab is a table-based QA model which is fine-tuned on WikiTableQuestions."
   ]
  },
  {
   "cell_type": "code",
   "execution_count": 50,
   "metadata": {
    "tags": []
   },
   "outputs": [],
   "source": [
    "tokenizer = AutoTokenizer.from_pretrained(\"neulab/omnitab-large-finetuned-wtq\")\n",
    "model = AutoModelForSeq2SeqLM.from_pretrained(\"neulab/omnitab-large-finetuned-wtq\")"
   ]
  },
  {
   "cell_type": "markdown",
   "metadata": {},
   "source": [
    "Let's write a function `get_answer_from_table` which will return the answer given a table and a query."
   ]
  },
  {
   "cell_type": "code",
   "execution_count": 114,
   "metadata": {
    "tags": []
   },
   "outputs": [],
   "source": [
    "def get_answer_from_table(table, query):\n",
    "    encoding = tokenizer(table=table, query=query, return_tensors=\"pt\")\n",
    "    outputs = model.generate(**encoding, max_new_tokens=100)\n",
    "    return tokenizer.batch_decode(outputs, skip_special_tokens=True)"
   ]
  },
  {
   "cell_type": "code",
   "execution_count": 52,
   "metadata": {
    "tags": []
   },
   "outputs": [
    {
     "data": {
      "text/plain": [
       "[' Mumbai']"
      ]
     },
     "execution_count": 52,
     "metadata": {},
     "output_type": "execute_result"
    }
   ],
   "source": [
    "query = \"name a city with more than 12,000,000 people.\"\n",
    "get_answer_from_table(tables[id].head(), query)"
   ]
  },
  {
   "cell_type": "markdown",
   "metadata": {
    "id": "GPSC0U6QRuSc"
   },
   "source": [
    "## Querying"
   ]
  },
  {
   "cell_type": "markdown",
   "metadata": {
    "id": "TFpoWLPP49Fo"
   },
   "source": [
    "We also need a function to search in qdrant and return a table in the format as expected by `get_answer_from_table` function. We name this function `query_qdrant`."
   ]
  },
  {
   "cell_type": "code",
   "execution_count": 62,
   "metadata": {
    "id": "Dn75qXt7U_hx",
    "tags": []
   },
   "outputs": [],
   "source": [
    "def query_qdrant(query):\n",
    "    # generate embedding for the query\n",
    "    res = openai.Embedding.create(input=[query], engine=embed_model)\n",
    "    encoded_query = res[\"data\"][0][\"embedding\"]\n",
    "    result = client.search(\n",
    "        collection_name=collection_name,\n",
    "        query_vector=encoded_query,\n",
    "        limit=1,\n",
    "    )  # search qdrant collection for context passage with the answer\n",
    "    # return the relevant table from the tables list\n",
    "    id = result[0].id\n",
    "    return tables[id].head()"
   ]
  },
  {
   "cell_type": "code",
   "execution_count": 121,
   "metadata": {
    "colab": {
     "base_uri": "https://localhost:8080/",
     "height": 332
    },
    "id": "-l0-OkC69_N3",
    "outputId": "12aa9a04-61f0-4dcf-83e1-04a89d0d976d",
    "tags": []
   },
   "outputs": [
    {
     "data": {
      "text/html": [
       "<div>\n",
       "<style scoped>\n",
       "    .dataframe tbody tr th:only-of-type {\n",
       "        vertical-align: middle;\n",
       "    }\n",
       "\n",
       "    .dataframe tbody tr th {\n",
       "        vertical-align: top;\n",
       "    }\n",
       "\n",
       "    .dataframe thead th {\n",
       "        text-align: right;\n",
       "    }\n",
       "</style>\n",
       "<table border=\"1\" class=\"dataframe\">\n",
       "  <thead>\n",
       "    <tr style=\"text-align: right;\">\n",
       "      <th></th>\n",
       "      <th>order in\\nposition</th>\n",
       "      <th>president of\\nthe republic</th>\n",
       "      <th>length of\\nthe presidential\\naction</th>\n",
       "      <th>rank by\\nlength\\nof term(s)</th>\n",
       "      <th>notes</th>\n",
       "    </tr>\n",
       "  </thead>\n",
       "  <tbody>\n",
       "    <tr>\n",
       "      <th>0</th>\n",
       "      <td>1</td>\n",
       "      <td>K. J. Ståhlberg</td>\n",
       "      <td>5 years, 220 days</td>\n",
       "      <td>8</td>\n",
       "      <td>1 term serving</td>\n",
       "    </tr>\n",
       "    <tr>\n",
       "      <th>1</th>\n",
       "      <td>2</td>\n",
       "      <td>Lauri Kristian Relander</td>\n",
       "      <td>6 years, 0 days\\none leap year (1928)</td>\n",
       "      <td>6</td>\n",
       "      <td>1 term serving</td>\n",
       "    </tr>\n",
       "    <tr>\n",
       "      <th>2</th>\n",
       "      <td>3</td>\n",
       "      <td>P. E. Svinhufvud</td>\n",
       "      <td>5 years, 364 days\\ntwo leap years (1932 and 1936)</td>\n",
       "      <td>6</td>\n",
       "      <td>1 term serving</td>\n",
       "    </tr>\n",
       "    <tr>\n",
       "      <th>3</th>\n",
       "      <td>4</td>\n",
       "      <td>Kyösti Kallio</td>\n",
       "      <td>3 years, 293 days</td>\n",
       "      <td>9</td>\n",
       "      <td>* resigned due to poor health</td>\n",
       "    </tr>\n",
       "    <tr>\n",
       "      <th>4</th>\n",
       "      <td>5</td>\n",
       "      <td>Risto Ryti</td>\n",
       "      <td>3 years, 229 days</td>\n",
       "      <td>10</td>\n",
       "      <td>* resigned due to agreement with Nazi Germany\\...</td>\n",
       "    </tr>\n",
       "  </tbody>\n",
       "</table>\n",
       "</div>"
      ],
      "text/plain": [
       "  order in\\nposition president of\\nthe republic  \\\n",
       "0                  1            K. J. Ståhlberg   \n",
       "1                  2    Lauri Kristian Relander   \n",
       "2                  3           P. E. Svinhufvud   \n",
       "3                  4              Kyösti Kallio   \n",
       "4                  5                 Risto Ryti   \n",
       "\n",
       "                 length of\\nthe presidential\\naction  \\\n",
       "0                                  5 years, 220 days   \n",
       "1              6 years, 0 days\\none leap year (1928)   \n",
       "2  5 years, 364 days\\ntwo leap years (1932 and 1936)   \n",
       "3                                  3 years, 293 days   \n",
       "4                                  3 years, 229 days   \n",
       "\n",
       "  rank by\\nlength\\nof term(s)  \\\n",
       "0                           8   \n",
       "1                           6   \n",
       "2                           6   \n",
       "3                           9   \n",
       "4                          10   \n",
       "\n",
       "                                               notes  \n",
       "0                                     1 term serving  \n",
       "1                                     1 term serving  \n",
       "2                                     1 term serving  \n",
       "3                      * resigned due to poor health  \n",
       "4  * resigned due to agreement with Nazi Germany\\...  "
      ]
     },
     "execution_count": 121,
     "metadata": {},
     "output_type": "execute_result"
    }
   ],
   "source": [
    "query = \"which person has the longest tenure as president? and how much?\"\n",
    "table = query_qdrant(query)\n",
    "table"
   ]
  },
  {
   "cell_type": "code",
   "execution_count": 116,
   "metadata": {
    "colab": {
     "base_uri": "https://localhost:8080/"
    },
    "id": "M8oG9w6AYlAp",
    "outputId": "411bbb57-0fc1-42d6-8453-6692584c3114",
    "tags": []
   },
   "outputs": [
    {
     "data": {
      "text/plain": [
       "[' Lauri Kristian Relander, 6 years, 0 days']"
      ]
     },
     "execution_count": 116,
     "metadata": {},
     "output_type": "execute_result"
    }
   ],
   "source": [
    "get_answer_from_table(table, query)"
   ]
  },
  {
   "cell_type": "code",
   "execution_count": 117,
   "metadata": {
    "colab": {
     "base_uri": "https://localhost:8080/",
     "height": 206
    },
    "id": "50g_9v-uEAPi",
    "outputId": "aece309c-3130-4bc6-a0d1-24b33a844c70",
    "tags": []
   },
   "outputs": [
    {
     "data": {
      "text/html": [
       "<div>\n",
       "<style scoped>\n",
       "    .dataframe tbody tr th:only-of-type {\n",
       "        vertical-align: middle;\n",
       "    }\n",
       "\n",
       "    .dataframe tbody tr th {\n",
       "        vertical-align: top;\n",
       "    }\n",
       "\n",
       "    .dataframe thead th {\n",
       "        text-align: right;\n",
       "    }\n",
       "</style>\n",
       "<table border=\"1\" class=\"dataframe\">\n",
       "  <thead>\n",
       "    <tr style=\"text-align: right;\">\n",
       "      <th></th>\n",
       "      <th>Country</th>\n",
       "      <th>Total GDP (nominal)\\n(billion US$)</th>\n",
       "      <th>GDP per capita\\n(US$, PPP)</th>\n",
       "      <th>GDP Growth,\\n2007-2011\\n(in %)</th>\n",
       "      <th>HDI</th>\n",
       "    </tr>\n",
       "  </thead>\n",
       "  <tbody>\n",
       "    <tr>\n",
       "      <th>0</th>\n",
       "      <td>Algeria</td>\n",
       "      <td>188.7</td>\n",
       "      <td>8,715</td>\n",
       "      <td>2.7</td>\n",
       "      <td>0.733</td>\n",
       "    </tr>\n",
       "    <tr>\n",
       "      <th>1</th>\n",
       "      <td>Angola</td>\n",
       "      <td>101.0</td>\n",
       "      <td>5,930</td>\n",
       "      <td>9.1</td>\n",
       "      <td>0.446</td>\n",
       "    </tr>\n",
       "    <tr>\n",
       "      <th>2</th>\n",
       "      <td>Benin</td>\n",
       "      <td>7.3</td>\n",
       "      <td>1,628</td>\n",
       "      <td>3.9</td>\n",
       "      <td>0.437</td>\n",
       "    </tr>\n",
       "    <tr>\n",
       "      <th>3</th>\n",
       "      <td>Botswana</td>\n",
       "      <td>17.6</td>\n",
       "      <td>14,753</td>\n",
       "      <td>3.0</td>\n",
       "      <td>0.654</td>\n",
       "    </tr>\n",
       "    <tr>\n",
       "      <th>4</th>\n",
       "      <td>Burkina Faso</td>\n",
       "      <td>10.2</td>\n",
       "      <td>1,310</td>\n",
       "      <td>4.9</td>\n",
       "      <td>0.370</td>\n",
       "    </tr>\n",
       "  </tbody>\n",
       "</table>\n",
       "</div>"
      ],
      "text/plain": [
       "        Country Total GDP (nominal)\\n(billion US$) GDP per capita\\n(US$, PPP)  \\\n",
       "0       Algeria                              188.7                      8,715   \n",
       "1        Angola                              101.0                      5,930   \n",
       "2         Benin                                7.3                      1,628   \n",
       "3      Botswana                               17.6                     14,753   \n",
       "4  Burkina Faso                               10.2                      1,310   \n",
       "\n",
       "  GDP Growth,\\n2007-2011\\n(in %)    HDI  \n",
       "0                            2.7  0.733  \n",
       "1                            9.1  0.446  \n",
       "2                            3.9  0.437  \n",
       "3                            3.0  0.654  \n",
       "4                            4.9  0.370  "
      ]
     },
     "execution_count": 117,
     "metadata": {},
     "output_type": "execute_result"
    }
   ],
   "source": [
    "query = \"How many countries have gdp above 100 billion US $ ?\"\n",
    "table = query_qdrant(query)\n",
    "table.head()"
   ]
  },
  {
   "cell_type": "code",
   "execution_count": 118,
   "metadata": {
    "colab": {
     "base_uri": "https://localhost:8080/"
    },
    "id": "tIBhlsF-ZYgI",
    "outputId": "7c0c41e1-5f59-4822-9e2b-bdb424e503e4",
    "tags": []
   },
   "outputs": [
    {
     "data": {
      "text/plain": [
       "[' 2']"
      ]
     },
     "execution_count": 118,
     "metadata": {},
     "output_type": "execute_result"
    }
   ],
   "source": [
    "get_answer_from_table(table, query)"
   ]
  },
  {
   "cell_type": "code",
   "execution_count": 119,
   "metadata": {
    "colab": {
     "base_uri": "https://localhost:8080/",
     "height": 206
    },
    "id": "uy1dDZSUphKw",
    "outputId": "b3df24b4-0fbd-40b3-98c0-c3c4d1b8c801",
    "tags": []
   },
   "outputs": [
    {
     "data": {
      "text/html": [
       "<div>\n",
       "<style scoped>\n",
       "    .dataframe tbody tr th:only-of-type {\n",
       "        vertical-align: middle;\n",
       "    }\n",
       "\n",
       "    .dataframe tbody tr th {\n",
       "        vertical-align: top;\n",
       "    }\n",
       "\n",
       "    .dataframe thead th {\n",
       "        text-align: right;\n",
       "    }\n",
       "</style>\n",
       "<table border=\"1\" class=\"dataframe\">\n",
       "  <thead>\n",
       "    <tr style=\"text-align: right;\">\n",
       "      <th></th>\n",
       "      <th>Rank</th>\n",
       "      <th>Title</th>\n",
       "      <th>Studio</th>\n",
       "      <th>Actors</th>\n",
       "      <th>Gross</th>\n",
       "    </tr>\n",
       "  </thead>\n",
       "  <tbody>\n",
       "    <tr>\n",
       "      <th>0</th>\n",
       "      <td>1.</td>\n",
       "      <td>Star Wars*</td>\n",
       "      <td>Lucasfilm/20th Century Fox</td>\n",
       "      <td>Mark Hamill, Harrison Ford, Carrie Fisher, Pet...</td>\n",
       "      <td>$460,998,007</td>\n",
       "    </tr>\n",
       "    <tr>\n",
       "      <th>1</th>\n",
       "      <td>2.</td>\n",
       "      <td>Smokey and the Bandit</td>\n",
       "      <td>Universal/Rastar</td>\n",
       "      <td>Burt Reynolds, Sally Field, Jackie Gleason, Je...</td>\n",
       "      <td>$300,000,000</td>\n",
       "    </tr>\n",
       "    <tr>\n",
       "      <th>2</th>\n",
       "      <td>3.</td>\n",
       "      <td>Close Encounters of the Third Kind*</td>\n",
       "      <td>Columbia</td>\n",
       "      <td>Richard Dreyfuss, Teri Garr, Melinda Dillon an...</td>\n",
       "      <td>$166,000,000</td>\n",
       "    </tr>\n",
       "    <tr>\n",
       "      <th>3</th>\n",
       "      <td>4.</td>\n",
       "      <td>Saturday Night Fever</td>\n",
       "      <td>Paramount</td>\n",
       "      <td>John Travolta and Karen Lynn Gorney</td>\n",
       "      <td>$139,486,124</td>\n",
       "    </tr>\n",
       "    <tr>\n",
       "      <th>4</th>\n",
       "      <td>5.</td>\n",
       "      <td>The Goodbye Girl</td>\n",
       "      <td>MGM/Warner Bros./Rastar</td>\n",
       "      <td>Richard Dreyfuss, Marsha Mason and Quinn Cummings</td>\n",
       "      <td>$102,000,000</td>\n",
       "    </tr>\n",
       "  </tbody>\n",
       "</table>\n",
       "</div>"
      ],
      "text/plain": [
       "  Rank                                Title                      Studio  \\\n",
       "0   1.                           Star Wars*  Lucasfilm/20th Century Fox   \n",
       "1   2.                Smokey and the Bandit            Universal/Rastar   \n",
       "2   3.  Close Encounters of the Third Kind*                    Columbia   \n",
       "3   4.                 Saturday Night Fever                   Paramount   \n",
       "4   5.                     The Goodbye Girl     MGM/Warner Bros./Rastar   \n",
       "\n",
       "                                              Actors         Gross  \n",
       "0  Mark Hamill, Harrison Ford, Carrie Fisher, Pet...  $460,998,007  \n",
       "1  Burt Reynolds, Sally Field, Jackie Gleason, Je...  $300,000,000  \n",
       "2  Richard Dreyfuss, Teri Garr, Melinda Dillon an...  $166,000,000  \n",
       "3                John Travolta and Karen Lynn Gorney  $139,486,124  \n",
       "4  Richard Dreyfuss, Marsha Mason and Quinn Cummings  $102,000,000  "
      ]
     },
     "execution_count": 119,
     "metadata": {},
     "output_type": "execute_result"
    }
   ],
   "source": [
    "query = \"What movie made the most money?\"\n",
    "table = query_qdrant(query)\n",
    "table.head()"
   ]
  },
  {
   "cell_type": "code",
   "execution_count": 120,
   "metadata": {
    "colab": {
     "base_uri": "https://localhost:8080/"
    },
    "id": "jxmUzLlzuZbP",
    "outputId": "bead739a-4187-4764-bbfb-c14f3f1f4c5a",
    "tags": []
   },
   "outputs": [
    {
     "data": {
      "text/plain": [
       "[' Star Wars']"
      ]
     },
     "execution_count": 120,
     "metadata": {},
     "output_type": "execute_result"
    }
   ],
   "source": [
    "get_answer_from_table(table, query)"
   ]
  },
  {
   "cell_type": "markdown",
   "metadata": {
    "id": "HG8lPC0ONWxx"
   },
   "source": [
    "The result looks pretty good, you can query it on more questions."
   ]
  },
  {
   "cell_type": "code",
   "execution_count": null,
   "metadata": {
    "tags": []
   },
   "outputs": [],
   "source": [
    "client.delete_collection(collection_name=collection_name)"
   ]
  }
 ],
 "metadata": {
  "accelerator": "GPU",
  "colab": {
   "collapsed_sections": [],
   "provenance": []
  },
  "kernelspec": {
   "display_name": "Python 3 (ipykernel)",
   "language": "python",
   "name": "python3"
  },
  "language_info": {
   "codemirror_mode": {
    "name": "ipython",
    "version": 3
   },
   "file_extension": ".py",
   "mimetype": "text/x-python",
   "name": "python",
   "nbconvert_exporter": "python",
   "pygments_lexer": "ipython3",
   "version": "3.11.3"
  },
  "widgets": {
   "application/vnd.jupyter.widget-state+json": {
    "0398823b05ac46b3bb0d5918698e92aa": {
     "model_module": "@jupyter-widgets/base",
     "model_module_version": "1.2.0",
     "model_name": "LayoutModel",
     "state": {
      "_model_module": "@jupyter-widgets/base",
      "_model_module_version": "1.2.0",
      "_model_name": "LayoutModel",
      "_view_count": null,
      "_view_module": "@jupyter-widgets/base",
      "_view_module_version": "1.2.0",
      "_view_name": "LayoutView",
      "align_content": null,
      "align_items": null,
      "align_self": null,
      "border": null,
      "bottom": null,
      "display": null,
      "flex": null,
      "flex_flow": null,
      "grid_area": null,
      "grid_auto_columns": null,
      "grid_auto_flow": null,
      "grid_auto_rows": null,
      "grid_column": null,
      "grid_gap": null,
      "grid_row": null,
      "grid_template_areas": null,
      "grid_template_columns": null,
      "grid_template_rows": null,
      "height": null,
      "justify_content": null,
      "justify_items": null,
      "left": null,
      "margin": null,
      "max_height": null,
      "max_width": null,
      "min_height": null,
      "min_width": null,
      "object_fit": null,
      "object_position": null,
      "order": null,
      "overflow": null,
      "overflow_x": null,
      "overflow_y": null,
      "padding": null,
      "right": null,
      "top": null,
      "visibility": null,
      "width": null
     }
    },
    "0806e30586ef45e1b5c6de273d4b820e": {
     "model_module": "@jupyter-widgets/base",
     "model_module_version": "1.2.0",
     "model_name": "LayoutModel",
     "state": {
      "_model_module": "@jupyter-widgets/base",
      "_model_module_version": "1.2.0",
      "_model_name": "LayoutModel",
      "_view_count": null,
      "_view_module": "@jupyter-widgets/base",
      "_view_module_version": "1.2.0",
      "_view_name": "LayoutView",
      "align_content": null,
      "align_items": null,
      "align_self": null,
      "border": null,
      "bottom": null,
      "display": null,
      "flex": null,
      "flex_flow": null,
      "grid_area": null,
      "grid_auto_columns": null,
      "grid_auto_flow": null,
      "grid_auto_rows": null,
      "grid_column": null,
      "grid_gap": null,
      "grid_row": null,
      "grid_template_areas": null,
      "grid_template_columns": null,
      "grid_template_rows": null,
      "height": null,
      "justify_content": null,
      "justify_items": null,
      "left": null,
      "margin": null,
      "max_height": null,
      "max_width": null,
      "min_height": null,
      "min_width": null,
      "object_fit": null,
      "object_position": null,
      "order": null,
      "overflow": null,
      "overflow_x": null,
      "overflow_y": null,
      "padding": null,
      "right": null,
      "top": null,
      "visibility": null,
      "width": "20px"
     }
    },
    "0dcc27dac0a34f0597bee867b7a0c1f7": {
     "model_module": "@jupyter-widgets/base",
     "model_module_version": "1.2.0",
     "model_name": "LayoutModel",
     "state": {
      "_model_module": "@jupyter-widgets/base",
      "_model_module_version": "1.2.0",
      "_model_name": "LayoutModel",
      "_view_count": null,
      "_view_module": "@jupyter-widgets/base",
      "_view_module_version": "1.2.0",
      "_view_name": "LayoutView",
      "align_content": null,
      "align_items": null,
      "align_self": null,
      "border": null,
      "bottom": null,
      "display": null,
      "flex": null,
      "flex_flow": null,
      "grid_area": null,
      "grid_auto_columns": null,
      "grid_auto_flow": null,
      "grid_auto_rows": null,
      "grid_column": null,
      "grid_gap": null,
      "grid_row": null,
      "grid_template_areas": null,
      "grid_template_columns": null,
      "grid_template_rows": null,
      "height": null,
      "justify_content": null,
      "justify_items": null,
      "left": null,
      "margin": null,
      "max_height": null,
      "max_width": null,
      "min_height": null,
      "min_width": null,
      "object_fit": null,
      "object_position": null,
      "order": null,
      "overflow": null,
      "overflow_x": null,
      "overflow_y": null,
      "padding": null,
      "right": null,
      "top": null,
      "visibility": null,
      "width": null
     }
    },
    "10dba06df8a0422e9863eb2991922816": {
     "model_module": "@jupyter-widgets/controls",
     "model_module_version": "1.5.0",
     "model_name": "DescriptionStyleModel",
     "state": {
      "_model_module": "@jupyter-widgets/controls",
      "_model_module_version": "1.5.0",
      "_model_name": "DescriptionStyleModel",
      "_view_count": null,
      "_view_module": "@jupyter-widgets/base",
      "_view_module_version": "1.2.0",
      "_view_name": "StyleView",
      "description_width": ""
     }
    },
    "234b6430d08d424a8d19153a0f74bc52": {
     "model_module": "@jupyter-widgets/controls",
     "model_module_version": "1.5.0",
     "model_name": "HBoxModel",
     "state": {
      "_dom_classes": [],
      "_model_module": "@jupyter-widgets/controls",
      "_model_module_version": "1.5.0",
      "_model_name": "HBoxModel",
      "_view_count": null,
      "_view_module": "@jupyter-widgets/controls",
      "_view_module_version": "1.5.0",
      "_view_name": "HBoxView",
      "box_style": "",
      "children": [
       "IPY_MODEL_f08de790d64a4e5f81705d4cbbf5968d",
       "IPY_MODEL_f453b86b909b40cb89d6636c7b7a5c9d",
       "IPY_MODEL_b4a30af0fbc144b48d295af549ba2d53"
      ],
      "layout": "IPY_MODEL_82e6aa18d2644f299625377308af5912"
     }
    },
    "2f88a69a0e1443ff9f91a4054d8e751b": {
     "model_module": "@jupyter-widgets/controls",
     "model_module_version": "1.5.0",
     "model_name": "DescriptionStyleModel",
     "state": {
      "_model_module": "@jupyter-widgets/controls",
      "_model_module_version": "1.5.0",
      "_model_name": "DescriptionStyleModel",
      "_view_count": null,
      "_view_module": "@jupyter-widgets/base",
      "_view_module_version": "1.2.0",
      "_view_name": "StyleView",
      "description_width": ""
     }
    },
    "383da807081440a4956ff80a7093a60c": {
     "model_module": "@jupyter-widgets/controls",
     "model_module_version": "1.5.0",
     "model_name": "ProgressStyleModel",
     "state": {
      "_model_module": "@jupyter-widgets/controls",
      "_model_module_version": "1.5.0",
      "_model_name": "ProgressStyleModel",
      "_view_count": null,
      "_view_module": "@jupyter-widgets/base",
      "_view_module_version": "1.2.0",
      "_view_name": "StyleView",
      "bar_color": null,
      "description_width": ""
     }
    },
    "409092d8468c4f82bc2b6cf2f0b48dd9": {
     "model_module": "@jupyter-widgets/controls",
     "model_module_version": "1.5.0",
     "model_name": "HTMLModel",
     "state": {
      "_dom_classes": [],
      "_model_module": "@jupyter-widgets/controls",
      "_model_module_version": "1.5.0",
      "_model_name": "HTMLModel",
      "_view_count": null,
      "_view_module": "@jupyter-widgets/controls",
      "_view_module_version": "1.5.0",
      "_view_name": "HTMLView",
      "description": "",
      "description_tooltip": null,
      "layout": "IPY_MODEL_a07f6ff6e9464b54aeda12df8232f6ac",
      "placeholder": "​",
      "style": "IPY_MODEL_e8f14835a2324e56bb5d4c862767c602",
      "value": " 0/0 [00:00&lt;?, ?it/s]"
     }
    },
    "4338622351e44f06bf6e47d700ffa41b": {
     "model_module": "@jupyter-widgets/base",
     "model_module_version": "1.2.0",
     "model_name": "LayoutModel",
     "state": {
      "_model_module": "@jupyter-widgets/base",
      "_model_module_version": "1.2.0",
      "_model_name": "LayoutModel",
      "_view_count": null,
      "_view_module": "@jupyter-widgets/base",
      "_view_module_version": "1.2.0",
      "_view_name": "LayoutView",
      "align_content": null,
      "align_items": null,
      "align_self": null,
      "border": null,
      "bottom": null,
      "display": null,
      "flex": null,
      "flex_flow": null,
      "grid_area": null,
      "grid_auto_columns": null,
      "grid_auto_flow": null,
      "grid_auto_rows": null,
      "grid_column": null,
      "grid_gap": null,
      "grid_row": null,
      "grid_template_areas": null,
      "grid_template_columns": null,
      "grid_template_rows": null,
      "height": null,
      "justify_content": null,
      "justify_items": null,
      "left": null,
      "margin": null,
      "max_height": null,
      "max_width": null,
      "min_height": null,
      "min_width": null,
      "object_fit": null,
      "object_position": null,
      "order": null,
      "overflow": null,
      "overflow_x": null,
      "overflow_y": null,
      "padding": null,
      "right": null,
      "top": null,
      "visibility": null,
      "width": null
     }
    },
    "4556db45bd464c189e5b771cb0773480": {
     "model_module": "@jupyter-widgets/base",
     "model_module_version": "1.2.0",
     "model_name": "LayoutModel",
     "state": {
      "_model_module": "@jupyter-widgets/base",
      "_model_module_version": "1.2.0",
      "_model_name": "LayoutModel",
      "_view_count": null,
      "_view_module": "@jupyter-widgets/base",
      "_view_module_version": "1.2.0",
      "_view_name": "LayoutView",
      "align_content": null,
      "align_items": null,
      "align_self": null,
      "border": null,
      "bottom": null,
      "display": null,
      "flex": null,
      "flex_flow": null,
      "grid_area": null,
      "grid_auto_columns": null,
      "grid_auto_flow": null,
      "grid_auto_rows": null,
      "grid_column": null,
      "grid_gap": null,
      "grid_row": null,
      "grid_template_areas": null,
      "grid_template_columns": null,
      "grid_template_rows": null,
      "height": null,
      "justify_content": null,
      "justify_items": null,
      "left": null,
      "margin": null,
      "max_height": null,
      "max_width": null,
      "min_height": null,
      "min_width": null,
      "object_fit": null,
      "object_position": null,
      "order": null,
      "overflow": null,
      "overflow_x": null,
      "overflow_y": null,
      "padding": null,
      "right": null,
      "top": null,
      "visibility": null,
      "width": null
     }
    },
    "527d87292efc4589b652841afbd4845c": {
     "model_module": "@jupyter-widgets/controls",
     "model_module_version": "1.5.0",
     "model_name": "HTMLModel",
     "state": {
      "_dom_classes": [],
      "_model_module": "@jupyter-widgets/controls",
      "_model_module_version": "1.5.0",
      "_model_name": "HTMLModel",
      "_view_count": null,
      "_view_module": "@jupyter-widgets/controls",
      "_view_module_version": "1.5.0",
      "_view_name": "HTMLView",
      "description": "",
      "description_tooltip": null,
      "layout": "IPY_MODEL_0dcc27dac0a34f0597bee867b7a0c1f7",
      "placeholder": "​",
      "style": "IPY_MODEL_2f88a69a0e1443ff9f91a4054d8e751b",
      "value": " 313/313 [09:12&lt;00:00,  1.49s/it]"
     }
    },
    "56dafa49175849e29a68782c43735b9e": {
     "model_module": "@jupyter-widgets/base",
     "model_module_version": "1.2.0",
     "model_name": "LayoutModel",
     "state": {
      "_model_module": "@jupyter-widgets/base",
      "_model_module_version": "1.2.0",
      "_model_name": "LayoutModel",
      "_view_count": null,
      "_view_module": "@jupyter-widgets/base",
      "_view_module_version": "1.2.0",
      "_view_name": "LayoutView",
      "align_content": null,
      "align_items": null,
      "align_self": null,
      "border": null,
      "bottom": null,
      "display": null,
      "flex": null,
      "flex_flow": null,
      "grid_area": null,
      "grid_auto_columns": null,
      "grid_auto_flow": null,
      "grid_auto_rows": null,
      "grid_column": null,
      "grid_gap": null,
      "grid_row": null,
      "grid_template_areas": null,
      "grid_template_columns": null,
      "grid_template_rows": null,
      "height": null,
      "justify_content": null,
      "justify_items": null,
      "left": null,
      "margin": null,
      "max_height": null,
      "max_width": null,
      "min_height": null,
      "min_width": null,
      "object_fit": null,
      "object_position": null,
      "order": null,
      "overflow": null,
      "overflow_x": null,
      "overflow_y": null,
      "padding": null,
      "right": null,
      "top": null,
      "visibility": null,
      "width": null
     }
    },
    "571b97905d8c49498a4f5bc6bcfcf573": {
     "model_module": "@jupyter-widgets/controls",
     "model_module_version": "1.5.0",
     "model_name": "ProgressStyleModel",
     "state": {
      "_model_module": "@jupyter-widgets/controls",
      "_model_module_version": "1.5.0",
      "_model_name": "ProgressStyleModel",
      "_view_count": null,
      "_view_module": "@jupyter-widgets/base",
      "_view_module_version": "1.2.0",
      "_view_name": "StyleView",
      "bar_color": null,
      "description_width": ""
     }
    },
    "82419e00d85542d4a40ba725ac938820": {
     "model_module": "@jupyter-widgets/controls",
     "model_module_version": "1.5.0",
     "model_name": "HTMLModel",
     "state": {
      "_dom_classes": [],
      "_model_module": "@jupyter-widgets/controls",
      "_model_module_version": "1.5.0",
      "_model_name": "HTMLModel",
      "_view_count": null,
      "_view_module": "@jupyter-widgets/controls",
      "_view_module_version": "1.5.0",
      "_view_name": "HTMLView",
      "description": "",
      "description_tooltip": null,
      "layout": "IPY_MODEL_4556db45bd464c189e5b771cb0773480",
      "placeholder": "​",
      "style": "IPY_MODEL_f91627aef80646c38455fe7b31ed9d40",
      "value": "100%"
     }
    },
    "82e6aa18d2644f299625377308af5912": {
     "model_module": "@jupyter-widgets/base",
     "model_module_version": "1.2.0",
     "model_name": "LayoutModel",
     "state": {
      "_model_module": "@jupyter-widgets/base",
      "_model_module_version": "1.2.0",
      "_model_name": "LayoutModel",
      "_view_count": null,
      "_view_module": "@jupyter-widgets/base",
      "_view_module_version": "1.2.0",
      "_view_name": "LayoutView",
      "align_content": null,
      "align_items": null,
      "align_self": null,
      "border": null,
      "bottom": null,
      "display": null,
      "flex": null,
      "flex_flow": null,
      "grid_area": null,
      "grid_auto_columns": null,
      "grid_auto_flow": null,
      "grid_auto_rows": null,
      "grid_column": null,
      "grid_gap": null,
      "grid_row": null,
      "grid_template_areas": null,
      "grid_template_columns": null,
      "grid_template_rows": null,
      "height": null,
      "justify_content": null,
      "justify_items": null,
      "left": null,
      "margin": null,
      "max_height": null,
      "max_width": null,
      "min_height": null,
      "min_width": null,
      "object_fit": null,
      "object_position": null,
      "order": null,
      "overflow": null,
      "overflow_x": null,
      "overflow_y": null,
      "padding": null,
      "right": null,
      "top": null,
      "visibility": null,
      "width": null
     }
    },
    "872351e5e09f4a2b9f1c23b1316b6a36": {
     "model_module": "@jupyter-widgets/controls",
     "model_module_version": "1.5.0",
     "model_name": "HBoxModel",
     "state": {
      "_dom_classes": [],
      "_model_module": "@jupyter-widgets/controls",
      "_model_module_version": "1.5.0",
      "_model_name": "HBoxModel",
      "_view_count": null,
      "_view_module": "@jupyter-widgets/controls",
      "_view_module_version": "1.5.0",
      "_view_name": "HBoxView",
      "box_style": "",
      "children": [
       "IPY_MODEL_f9194e661d484dc6ba249100ad7792da",
       "IPY_MODEL_b25799ff3cb94fada82e7a64b708a377",
       "IPY_MODEL_409092d8468c4f82bc2b6cf2f0b48dd9"
      ],
      "layout": "IPY_MODEL_0398823b05ac46b3bb0d5918698e92aa"
     }
    },
    "8e6f046688664ea2a8b4ad91067cb0a4": {
     "model_module": "@jupyter-widgets/base",
     "model_module_version": "1.2.0",
     "model_name": "LayoutModel",
     "state": {
      "_model_module": "@jupyter-widgets/base",
      "_model_module_version": "1.2.0",
      "_model_name": "LayoutModel",
      "_view_count": null,
      "_view_module": "@jupyter-widgets/base",
      "_view_module_version": "1.2.0",
      "_view_name": "LayoutView",
      "align_content": null,
      "align_items": null,
      "align_self": null,
      "border": null,
      "bottom": null,
      "display": null,
      "flex": null,
      "flex_flow": null,
      "grid_area": null,
      "grid_auto_columns": null,
      "grid_auto_flow": null,
      "grid_auto_rows": null,
      "grid_column": null,
      "grid_gap": null,
      "grid_row": null,
      "grid_template_areas": null,
      "grid_template_columns": null,
      "grid_template_rows": null,
      "height": null,
      "justify_content": null,
      "justify_items": null,
      "left": null,
      "margin": null,
      "max_height": null,
      "max_width": null,
      "min_height": null,
      "min_width": null,
      "object_fit": null,
      "object_position": null,
      "order": null,
      "overflow": null,
      "overflow_x": null,
      "overflow_y": null,
      "padding": null,
      "right": null,
      "top": null,
      "visibility": null,
      "width": null
     }
    },
    "9283fd1259da4411b22315e66f0fde4b": {
     "model_module": "@jupyter-widgets/controls",
     "model_module_version": "1.5.0",
     "model_name": "HBoxModel",
     "state": {
      "_dom_classes": [],
      "_model_module": "@jupyter-widgets/controls",
      "_model_module_version": "1.5.0",
      "_model_name": "HBoxModel",
      "_view_count": null,
      "_view_module": "@jupyter-widgets/controls",
      "_view_module_version": "1.5.0",
      "_view_name": "HBoxView",
      "box_style": "",
      "children": [
       "IPY_MODEL_82419e00d85542d4a40ba725ac938820",
       "IPY_MODEL_e141a30db58d4fedb680cfdbb6156fe9",
       "IPY_MODEL_527d87292efc4589b652841afbd4845c"
      ],
      "layout": "IPY_MODEL_8e6f046688664ea2a8b4ad91067cb0a4"
     }
    },
    "972f7c08489b46b6bf74bd4bcf0ecaa9": {
     "model_module": "@jupyter-widgets/controls",
     "model_module_version": "1.5.0",
     "model_name": "ProgressStyleModel",
     "state": {
      "_model_module": "@jupyter-widgets/controls",
      "_model_module_version": "1.5.0",
      "_model_name": "ProgressStyleModel",
      "_view_count": null,
      "_view_module": "@jupyter-widgets/base",
      "_view_module_version": "1.2.0",
      "_view_name": "StyleView",
      "bar_color": null,
      "description_width": ""
     }
    },
    "a07f6ff6e9464b54aeda12df8232f6ac": {
     "model_module": "@jupyter-widgets/base",
     "model_module_version": "1.2.0",
     "model_name": "LayoutModel",
     "state": {
      "_model_module": "@jupyter-widgets/base",
      "_model_module_version": "1.2.0",
      "_model_name": "LayoutModel",
      "_view_count": null,
      "_view_module": "@jupyter-widgets/base",
      "_view_module_version": "1.2.0",
      "_view_name": "LayoutView",
      "align_content": null,
      "align_items": null,
      "align_self": null,
      "border": null,
      "bottom": null,
      "display": null,
      "flex": null,
      "flex_flow": null,
      "grid_area": null,
      "grid_auto_columns": null,
      "grid_auto_flow": null,
      "grid_auto_rows": null,
      "grid_column": null,
      "grid_gap": null,
      "grid_row": null,
      "grid_template_areas": null,
      "grid_template_columns": null,
      "grid_template_rows": null,
      "height": null,
      "justify_content": null,
      "justify_items": null,
      "left": null,
      "margin": null,
      "max_height": null,
      "max_width": null,
      "min_height": null,
      "min_width": null,
      "object_fit": null,
      "object_position": null,
      "order": null,
      "overflow": null,
      "overflow_x": null,
      "overflow_y": null,
      "padding": null,
      "right": null,
      "top": null,
      "visibility": null,
      "width": null
     }
    },
    "a186c7e967744c4d8d48778c36cdc08d": {
     "model_module": "@jupyter-widgets/controls",
     "model_module_version": "1.5.0",
     "model_name": "DescriptionStyleModel",
     "state": {
      "_model_module": "@jupyter-widgets/controls",
      "_model_module_version": "1.5.0",
      "_model_name": "DescriptionStyleModel",
      "_view_count": null,
      "_view_module": "@jupyter-widgets/base",
      "_view_module_version": "1.2.0",
      "_view_name": "StyleView",
      "description_width": ""
     }
    },
    "a36059ff9de34279b633d26231da05de": {
     "model_module": "@jupyter-widgets/base",
     "model_module_version": "1.2.0",
     "model_name": "LayoutModel",
     "state": {
      "_model_module": "@jupyter-widgets/base",
      "_model_module_version": "1.2.0",
      "_model_name": "LayoutModel",
      "_view_count": null,
      "_view_module": "@jupyter-widgets/base",
      "_view_module_version": "1.2.0",
      "_view_name": "LayoutView",
      "align_content": null,
      "align_items": null,
      "align_self": null,
      "border": null,
      "bottom": null,
      "display": null,
      "flex": null,
      "flex_flow": null,
      "grid_area": null,
      "grid_auto_columns": null,
      "grid_auto_flow": null,
      "grid_auto_rows": null,
      "grid_column": null,
      "grid_gap": null,
      "grid_row": null,
      "grid_template_areas": null,
      "grid_template_columns": null,
      "grid_template_rows": null,
      "height": null,
      "justify_content": null,
      "justify_items": null,
      "left": null,
      "margin": null,
      "max_height": null,
      "max_width": null,
      "min_height": null,
      "min_width": null,
      "object_fit": null,
      "object_position": null,
      "order": null,
      "overflow": null,
      "overflow_x": null,
      "overflow_y": null,
      "padding": null,
      "right": null,
      "top": null,
      "visibility": null,
      "width": null
     }
    },
    "ab5b4aa08da64a5ea08cb3ab407a1b88": {
     "model_module": "@jupyter-widgets/base",
     "model_module_version": "1.2.0",
     "model_name": "LayoutModel",
     "state": {
      "_model_module": "@jupyter-widgets/base",
      "_model_module_version": "1.2.0",
      "_model_name": "LayoutModel",
      "_view_count": null,
      "_view_module": "@jupyter-widgets/base",
      "_view_module_version": "1.2.0",
      "_view_name": "LayoutView",
      "align_content": null,
      "align_items": null,
      "align_self": null,
      "border": null,
      "bottom": null,
      "display": null,
      "flex": null,
      "flex_flow": null,
      "grid_area": null,
      "grid_auto_columns": null,
      "grid_auto_flow": null,
      "grid_auto_rows": null,
      "grid_column": null,
      "grid_gap": null,
      "grid_row": null,
      "grid_template_areas": null,
      "grid_template_columns": null,
      "grid_template_rows": null,
      "height": null,
      "justify_content": null,
      "justify_items": null,
      "left": null,
      "margin": null,
      "max_height": null,
      "max_width": null,
      "min_height": null,
      "min_width": null,
      "object_fit": null,
      "object_position": null,
      "order": null,
      "overflow": null,
      "overflow_x": null,
      "overflow_y": null,
      "padding": null,
      "right": null,
      "top": null,
      "visibility": null,
      "width": null
     }
    },
    "b25799ff3cb94fada82e7a64b708a377": {
     "model_module": "@jupyter-widgets/controls",
     "model_module_version": "1.5.0",
     "model_name": "FloatProgressModel",
     "state": {
      "_dom_classes": [],
      "_model_module": "@jupyter-widgets/controls",
      "_model_module_version": "1.5.0",
      "_model_name": "FloatProgressModel",
      "_view_count": null,
      "_view_module": "@jupyter-widgets/controls",
      "_view_module_version": "1.5.0",
      "_view_name": "ProgressView",
      "bar_style": "success",
      "description": "",
      "description_tooltip": null,
      "layout": "IPY_MODEL_0806e30586ef45e1b5c6de273d4b820e",
      "max": 1,
      "min": 0,
      "orientation": "horizontal",
      "style": "IPY_MODEL_972f7c08489b46b6bf74bd4bcf0ecaa9",
      "value": 0
     }
    },
    "b4a30af0fbc144b48d295af549ba2d53": {
     "model_module": "@jupyter-widgets/controls",
     "model_module_version": "1.5.0",
     "model_name": "HTMLModel",
     "state": {
      "_dom_classes": [],
      "_model_module": "@jupyter-widgets/controls",
      "_model_module_version": "1.5.0",
      "_model_name": "HTMLModel",
      "_view_count": null,
      "_view_module": "@jupyter-widgets/controls",
      "_view_module_version": "1.5.0",
      "_view_name": "HTMLView",
      "description": "",
      "description_tooltip": null,
      "layout": "IPY_MODEL_4338622351e44f06bf6e47d700ffa41b",
      "placeholder": "​",
      "style": "IPY_MODEL_10dba06df8a0422e9863eb2991922816",
      "value": " 443M/443M [00:29&lt;00:00, 13.3MB/s]"
     }
    },
    "e141a30db58d4fedb680cfdbb6156fe9": {
     "model_module": "@jupyter-widgets/controls",
     "model_module_version": "1.5.0",
     "model_name": "FloatProgressModel",
     "state": {
      "_dom_classes": [],
      "_model_module": "@jupyter-widgets/controls",
      "_model_module_version": "1.5.0",
      "_model_name": "FloatProgressModel",
      "_view_count": null,
      "_view_module": "@jupyter-widgets/controls",
      "_view_module_version": "1.5.0",
      "_view_name": "ProgressView",
      "bar_style": "success",
      "description": "",
      "description_tooltip": null,
      "layout": "IPY_MODEL_56dafa49175849e29a68782c43735b9e",
      "max": 313,
      "min": 0,
      "orientation": "horizontal",
      "style": "IPY_MODEL_571b97905d8c49498a4f5bc6bcfcf573",
      "value": 313
     }
    },
    "e8f14835a2324e56bb5d4c862767c602": {
     "model_module": "@jupyter-widgets/controls",
     "model_module_version": "1.5.0",
     "model_name": "DescriptionStyleModel",
     "state": {
      "_model_module": "@jupyter-widgets/controls",
      "_model_module_version": "1.5.0",
      "_model_name": "DescriptionStyleModel",
      "_view_count": null,
      "_view_module": "@jupyter-widgets/base",
      "_view_module_version": "1.2.0",
      "_view_name": "StyleView",
      "description_width": ""
     }
    },
    "ea8d8ce27d7746d9bb928fa87dd67610": {
     "model_module": "@jupyter-widgets/base",
     "model_module_version": "1.2.0",
     "model_name": "LayoutModel",
     "state": {
      "_model_module": "@jupyter-widgets/base",
      "_model_module_version": "1.2.0",
      "_model_name": "LayoutModel",
      "_view_count": null,
      "_view_module": "@jupyter-widgets/base",
      "_view_module_version": "1.2.0",
      "_view_name": "LayoutView",
      "align_content": null,
      "align_items": null,
      "align_self": null,
      "border": null,
      "bottom": null,
      "display": null,
      "flex": null,
      "flex_flow": null,
      "grid_area": null,
      "grid_auto_columns": null,
      "grid_auto_flow": null,
      "grid_auto_rows": null,
      "grid_column": null,
      "grid_gap": null,
      "grid_row": null,
      "grid_template_areas": null,
      "grid_template_columns": null,
      "grid_template_rows": null,
      "height": null,
      "justify_content": null,
      "justify_items": null,
      "left": null,
      "margin": null,
      "max_height": null,
      "max_width": null,
      "min_height": null,
      "min_width": null,
      "object_fit": null,
      "object_position": null,
      "order": null,
      "overflow": null,
      "overflow_x": null,
      "overflow_y": null,
      "padding": null,
      "right": null,
      "top": null,
      "visibility": null,
      "width": null
     }
    },
    "f08de790d64a4e5f81705d4cbbf5968d": {
     "model_module": "@jupyter-widgets/controls",
     "model_module_version": "1.5.0",
     "model_name": "HTMLModel",
     "state": {
      "_dom_classes": [],
      "_model_module": "@jupyter-widgets/controls",
      "_model_module_version": "1.5.0",
      "_model_name": "HTMLModel",
      "_view_count": null,
      "_view_module": "@jupyter-widgets/controls",
      "_view_module_version": "1.5.0",
      "_view_name": "HTMLView",
      "description": "",
      "description_tooltip": null,
      "layout": "IPY_MODEL_ab5b4aa08da64a5ea08cb3ab407a1b88",
      "placeholder": "​",
      "style": "IPY_MODEL_f7ef382b17294e9a890118bcc55cc879",
      "value": "Downloading: 100%"
     }
    },
    "f453b86b909b40cb89d6636c7b7a5c9d": {
     "model_module": "@jupyter-widgets/controls",
     "model_module_version": "1.5.0",
     "model_name": "FloatProgressModel",
     "state": {
      "_dom_classes": [],
      "_model_module": "@jupyter-widgets/controls",
      "_model_module_version": "1.5.0",
      "_model_name": "FloatProgressModel",
      "_view_count": null,
      "_view_module": "@jupyter-widgets/controls",
      "_view_module_version": "1.5.0",
      "_view_name": "ProgressView",
      "bar_style": "success",
      "description": "",
      "description_tooltip": null,
      "layout": "IPY_MODEL_ea8d8ce27d7746d9bb928fa87dd67610",
      "max": 442791751,
      "min": 0,
      "orientation": "horizontal",
      "style": "IPY_MODEL_383da807081440a4956ff80a7093a60c",
      "value": 442791751
     }
    },
    "f7ef382b17294e9a890118bcc55cc879": {
     "model_module": "@jupyter-widgets/controls",
     "model_module_version": "1.5.0",
     "model_name": "DescriptionStyleModel",
     "state": {
      "_model_module": "@jupyter-widgets/controls",
      "_model_module_version": "1.5.0",
      "_model_name": "DescriptionStyleModel",
      "_view_count": null,
      "_view_module": "@jupyter-widgets/base",
      "_view_module_version": "1.2.0",
      "_view_name": "StyleView",
      "description_width": ""
     }
    },
    "f91627aef80646c38455fe7b31ed9d40": {
     "model_module": "@jupyter-widgets/controls",
     "model_module_version": "1.5.0",
     "model_name": "DescriptionStyleModel",
     "state": {
      "_model_module": "@jupyter-widgets/controls",
      "_model_module_version": "1.5.0",
      "_model_name": "DescriptionStyleModel",
      "_view_count": null,
      "_view_module": "@jupyter-widgets/base",
      "_view_module_version": "1.2.0",
      "_view_name": "StyleView",
      "description_width": ""
     }
    },
    "f9194e661d484dc6ba249100ad7792da": {
     "model_module": "@jupyter-widgets/controls",
     "model_module_version": "1.5.0",
     "model_name": "HTMLModel",
     "state": {
      "_dom_classes": [],
      "_model_module": "@jupyter-widgets/controls",
      "_model_module_version": "1.5.0",
      "_model_name": "HTMLModel",
      "_view_count": null,
      "_view_module": "@jupyter-widgets/controls",
      "_view_module_version": "1.5.0",
      "_view_name": "HTMLView",
      "description": "",
      "description_tooltip": null,
      "layout": "IPY_MODEL_a36059ff9de34279b633d26231da05de",
      "placeholder": "​",
      "style": "IPY_MODEL_a186c7e967744c4d8d48778c36cdc08d",
      "value": ""
     }
    }
   }
  }
 },
 "nbformat": 4,
 "nbformat_minor": 4
}
